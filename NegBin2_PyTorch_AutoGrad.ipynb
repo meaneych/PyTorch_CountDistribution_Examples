{
 "cells": [
  {
   "cell_type": "code",
   "execution_count": 1,
   "metadata": {
    "executionInfo": {
     "elapsed": 131,
     "status": "ok",
     "timestamp": 1626061355643,
     "user": {
      "displayName": "Christopher Meaney",
      "photoUrl": "https://lh3.googleusercontent.com/a-/AOh14GhKFFOwHDdeq1jGbaX8XCVSLMIXialpqKx1BEbX=s64",
      "userId": "15619654579218208651"
     },
     "user_tz": 240
    },
    "id": "siMpwITBI_fM"
   },
   "outputs": [],
   "source": [
    "###############################################\n",
    "## PyTorch Negative-Binomial-2 Distribution Likelihood Optimization Examples\n",
    "## Author: Chris Meaney\n",
    "## Date: August 2021\n",
    "###############################################"
   ]
  },
  {
   "cell_type": "code",
   "execution_count": 2,
   "metadata": {
    "executionInfo": {
     "elapsed": 3998,
     "status": "ok",
     "timestamp": 1626061359965,
     "user": {
      "displayName": "Christopher Meaney",
      "photoUrl": "https://lh3.googleusercontent.com/a-/AOh14GhKFFOwHDdeq1jGbaX8XCVSLMIXialpqKx1BEbX=s64",
      "userId": "15619654579218208651"
     },
     "user_tz": 240
    },
    "id": "E4ozfC7PJCqf"
   },
   "outputs": [],
   "source": [
    "## Dependency modules\n",
    "import numpy as np\n",
    "import pandas as pd\n",
    "import torch\n",
    "from sinfo import sinfo"
   ]
  },
  {
   "cell_type": "code",
   "execution_count": 3,
   "metadata": {
    "colab": {
     "base_uri": "https://localhost:8080/",
     "height": 526
    },
    "executionInfo": {
     "elapsed": 22643,
     "status": "ok",
     "timestamp": 1626061382604,
     "user": {
      "displayName": "Christopher Meaney",
      "photoUrl": "https://lh3.googleusercontent.com/a-/AOh14GhKFFOwHDdeq1jGbaX8XCVSLMIXialpqKx1BEbX=s64",
      "userId": "15619654579218208651"
     },
     "user_tz": 240
    },
    "id": "wFUABrptfuuu",
    "outputId": "9b5d096e-a385-4108-c72f-5c04f0c3260d"
   },
   "outputs": [
    {
     "data": {
      "text/html": [
       "<div>\n",
       "<style scoped>\n",
       "    .dataframe tbody tr th:only-of-type {\n",
       "        vertical-align: middle;\n",
       "    }\n",
       "\n",
       "    .dataframe tbody tr th {\n",
       "        vertical-align: top;\n",
       "    }\n",
       "\n",
       "    .dataframe thead th {\n",
       "        text-align: right;\n",
       "    }\n",
       "</style>\n",
       "<table border=\"1\" class=\"dataframe\">\n",
       "  <thead>\n",
       "    <tr style=\"text-align: right;\">\n",
       "      <th></th>\n",
       "      <th>fish</th>\n",
       "      <th>lake</th>\n",
       "      <th>x</th>\n",
       "      <th>scale_x</th>\n",
       "    </tr>\n",
       "  </thead>\n",
       "  <tbody>\n",
       "    <tr>\n",
       "      <th>0</th>\n",
       "      <td>10</td>\n",
       "      <td>5</td>\n",
       "      <td>1.609438</td>\n",
       "      <td>-1.533430</td>\n",
       "    </tr>\n",
       "    <tr>\n",
       "      <th>1</th>\n",
       "      <td>37</td>\n",
       "      <td>41</td>\n",
       "      <td>3.713572</td>\n",
       "      <td>-0.901903</td>\n",
       "    </tr>\n",
       "    <tr>\n",
       "      <th>2</th>\n",
       "      <td>60</td>\n",
       "      <td>171</td>\n",
       "      <td>5.141664</td>\n",
       "      <td>-0.473281</td>\n",
       "    </tr>\n",
       "    <tr>\n",
       "      <th>3</th>\n",
       "      <td>113</td>\n",
       "      <td>25719</td>\n",
       "      <td>10.154985</td>\n",
       "      <td>1.031399</td>\n",
       "    </tr>\n",
       "    <tr>\n",
       "      <th>4</th>\n",
       "      <td>99</td>\n",
       "      <td>59596</td>\n",
       "      <td>10.995344</td>\n",
       "      <td>1.283621</td>\n",
       "    </tr>\n",
       "    <tr>\n",
       "      <th>5</th>\n",
       "      <td>13</td>\n",
       "      <td>1</td>\n",
       "      <td>0.000000</td>\n",
       "      <td>-2.016481</td>\n",
       "    </tr>\n",
       "    <tr>\n",
       "      <th>6</th>\n",
       "      <td>30</td>\n",
       "      <td>44</td>\n",
       "      <td>3.784190</td>\n",
       "      <td>-0.880708</td>\n",
       "    </tr>\n",
       "    <tr>\n",
       "      <th>7</th>\n",
       "      <td>114</td>\n",
       "      <td>58016</td>\n",
       "      <td>10.968474</td>\n",
       "      <td>1.275556</td>\n",
       "    </tr>\n",
       "    <tr>\n",
       "      <th>8</th>\n",
       "      <td>112</td>\n",
       "      <td>19477</td>\n",
       "      <td>9.876990</td>\n",
       "      <td>0.947962</td>\n",
       "    </tr>\n",
       "    <tr>\n",
       "      <th>9</th>\n",
       "      <td>17</td>\n",
       "      <td>10</td>\n",
       "      <td>2.302585</td>\n",
       "      <td>-1.325392</td>\n",
       "    </tr>\n",
       "    <tr>\n",
       "      <th>10</th>\n",
       "      <td>10</td>\n",
       "      <td>85</td>\n",
       "      <td>4.442651</td>\n",
       "      <td>-0.683080</td>\n",
       "    </tr>\n",
       "    <tr>\n",
       "      <th>11</th>\n",
       "      <td>14</td>\n",
       "      <td>1</td>\n",
       "      <td>0.000000</td>\n",
       "      <td>-2.016481</td>\n",
       "    </tr>\n",
       "    <tr>\n",
       "      <th>12</th>\n",
       "      <td>39</td>\n",
       "      <td>174</td>\n",
       "      <td>5.159055</td>\n",
       "      <td>-0.468061</td>\n",
       "    </tr>\n",
       "    <tr>\n",
       "      <th>13</th>\n",
       "      <td>14</td>\n",
       "      <td>3</td>\n",
       "      <td>1.098612</td>\n",
       "      <td>-1.686748</td>\n",
       "    </tr>\n",
       "    <tr>\n",
       "      <th>14</th>\n",
       "      <td>14</td>\n",
       "      <td>54</td>\n",
       "      <td>3.988984</td>\n",
       "      <td>-0.819242</td>\n",
       "    </tr>\n",
       "  </tbody>\n",
       "</table>\n",
       "</div>"
      ],
      "text/plain": [
       "    fish   lake          x   scale_x\n",
       "0     10      5   1.609438 -1.533430\n",
       "1     37     41   3.713572 -0.901903\n",
       "2     60    171   5.141664 -0.473281\n",
       "3    113  25719  10.154985  1.031399\n",
       "4     99  59596  10.995344  1.283621\n",
       "5     13      1   0.000000 -2.016481\n",
       "6     30     44   3.784190 -0.880708\n",
       "7    114  58016  10.968474  1.275556\n",
       "8    112  19477   9.876990  0.947962\n",
       "9     17     10   2.302585 -1.325392\n",
       "10    10     85   4.442651 -0.683080\n",
       "11    14      1   0.000000 -2.016481\n",
       "12    39    174   5.159055 -0.468061\n",
       "13    14      3   1.098612 -1.686748\n",
       "14    14     54   3.988984 -0.819242"
      ]
     },
     "execution_count": 3,
     "metadata": {},
     "output_type": "execute_result"
    }
   ],
   "source": [
    "##########################################################\n",
    "## Use pandas to import data, and store as data.frame\n",
    "## Data are 1) response/target variable (number of fish = count random variable), 2) lake size (single continous feature/predictor)\n",
    "##########################################################\n",
    "dat = pd.read_csv('C://Users//ChristopherMeaney//Desktop//PyTorch_Stuff//pytorch_count_dists//species.csv', encoding='latin1')\n",
    "dat.head(n=15)"
   ]
  },
  {
   "cell_type": "code",
   "execution_count": 4,
   "metadata": {
    "colab": {
     "base_uri": "https://localhost:8080/"
    },
    "executionInfo": {
     "elapsed": 14,
     "status": "ok",
     "timestamp": 1626061382606,
     "user": {
      "displayName": "Christopher Meaney",
      "photoUrl": "https://lh3.googleusercontent.com/a-/AOh14GhKFFOwHDdeq1jGbaX8XCVSLMIXialpqKx1BEbX=s64",
      "userId": "15619654579218208651"
     },
     "user_tz": 240
    },
    "id": "5-Hzlh2yJCvy",
    "outputId": "211689d5-e4ef-4c31-9aaa-25f0f8ef16ab"
   },
   "outputs": [
    {
     "data": {
      "text/plain": [
       "count     70.000000\n",
       "mean      41.742857\n",
       "std       47.849609\n",
       "min        5.000000\n",
       "25%       14.000000\n",
       "50%       21.500000\n",
       "75%       47.500000\n",
       "max      245.000000\n",
       "Name: fish, dtype: float64"
      ]
     },
     "execution_count": 4,
     "metadata": {},
     "output_type": "execute_result"
    }
   ],
   "source": [
    "## Describe the data\n",
    "dat.fish.describe()"
   ]
  },
  {
   "cell_type": "code",
   "execution_count": 5,
   "metadata": {},
   "outputs": [
    {
     "data": {
      "text/plain": [
       "41.74285714285714"
      ]
     },
     "execution_count": 5,
     "metadata": {},
     "output_type": "execute_result"
    }
   ],
   "source": [
    "mu_ = dat.fish.mean()\n",
    "mu_"
   ]
  },
  {
   "cell_type": "code",
   "execution_count": 6,
   "metadata": {},
   "outputs": [
    {
     "data": {
      "text/plain": [
       "47.84960912241293"
      ]
     },
     "execution_count": 6,
     "metadata": {},
     "output_type": "execute_result"
    }
   ],
   "source": [
    "sigma_ = np.sqrt(dat.fish.var())\n",
    "sigma_"
   ]
  },
  {
   "cell_type": "code",
   "execution_count": null,
   "metadata": {
    "executionInfo": {
     "elapsed": 11,
     "status": "ok",
     "timestamp": 1626061382607,
     "user": {
      "displayName": "Christopher Meaney",
      "photoUrl": "https://lh3.googleusercontent.com/a-/AOh14GhKFFOwHDdeq1jGbaX8XCVSLMIXialpqKx1BEbX=s64",
      "userId": "15619654579218208651"
     },
     "user_tz": 240
    },
    "id": "TjFl0euzh5Vv"
   },
   "outputs": [],
   "source": []
  },
  {
   "cell_type": "code",
   "execution_count": null,
   "metadata": {
    "executionInfo": {
     "elapsed": 12,
     "status": "ok",
     "timestamp": 1626061382609,
     "user": {
      "displayName": "Christopher Meaney",
      "photoUrl": "https://lh3.googleusercontent.com/a-/AOh14GhKFFOwHDdeq1jGbaX8XCVSLMIXialpqKx1BEbX=s64",
      "userId": "15619654579218208651"
     },
     "user_tz": 240
    },
    "id": "2WqxGcT8h5er"
   },
   "outputs": [],
   "source": []
  },
  {
   "cell_type": "code",
   "execution_count": null,
   "metadata": {
    "executionInfo": {
     "elapsed": 15,
     "status": "ok",
     "timestamp": 1626061398926,
     "user": {
      "displayName": "Christopher Meaney",
      "photoUrl": "https://lh3.googleusercontent.com/a-/AOh14GhKFFOwHDdeq1jGbaX8XCVSLMIXialpqKx1BEbX=s64",
      "userId": "15619654579218208651"
     },
     "user_tz": 240
    },
    "id": "gQMFjPLciUON"
   },
   "outputs": [],
   "source": []
  },
  {
   "cell_type": "code",
   "execution_count": 7,
   "metadata": {
    "executionInfo": {
     "elapsed": 15,
     "status": "ok",
     "timestamp": 1626061398927,
     "user": {
      "displayName": "Christopher Meaney",
      "photoUrl": "https://lh3.googleusercontent.com/a-/AOh14GhKFFOwHDdeq1jGbaX8XCVSLMIXialpqKx1BEbX=s64",
      "userId": "15619654579218208651"
     },
     "user_tz": 240
    },
    "id": "uck2gEq5iUQh"
   },
   "outputs": [],
   "source": [
    "################################################\n",
    "## NB2 Model\n",
    "################################################"
   ]
  },
  {
   "cell_type": "code",
   "execution_count": 8,
   "metadata": {
    "executionInfo": {
     "elapsed": 15,
     "status": "ok",
     "timestamp": 1626061398928,
     "user": {
      "displayName": "Christopher Meaney",
      "photoUrl": "https://lh3.googleusercontent.com/a-/AOh14GhKFFOwHDdeq1jGbaX8XCVSLMIXialpqKx1BEbX=s64",
      "userId": "15619654579218208651"
     },
     "user_tz": 240
    },
    "id": "nqJfPLmUiUTT"
   },
   "outputs": [],
   "source": [
    "## Instantiate data tensor, and variable for (NB2) model parameters\n",
    "x = torch.autograd.Variable(torch.from_numpy(dat.fish.to_numpy())).type(torch.FloatTensor)\n",
    "l_mu = torch.autograd.Variable(torch.rand(1), requires_grad=True)\n",
    "l_sigma = torch.autograd.Variable(torch.rand(1), requires_grad=True) \n",
    "## Note: nb2 mu/sigma parm are on log-scale\n",
    "## Note: again, especially for sigma-parm this log-scale parameterization accelerates convergence to optima"
   ]
  },
  {
   "cell_type": "code",
   "execution_count": 9,
   "metadata": {},
   "outputs": [],
   "source": [
    "def negbin2_nll(x, log_mu, log_sigma):\n",
    "    nll = (\n",
    "    -torch.sum( torch.lgamma(x + torch.exp(log_mu)/torch.exp(log_sigma)) \n",
    "    - torch.lgamma(torch.exp(log_mu)/torch.exp(log_sigma)) \n",
    "    - torch.lgamma(x + 1) \n",
    "    + x*torch.log(torch.exp(log_sigma))\n",
    "    - (x + torch.exp(log_mu)/torch.exp(log_sigma))*torch.log(1 + torch.exp(log_sigma)) )\n",
    "    )\n",
    "    return nll"
   ]
  },
  {
   "cell_type": "code",
   "execution_count": 10,
   "metadata": {
    "colab": {
     "base_uri": "https://localhost:8080/"
    },
    "executionInfo": {
     "elapsed": 9501,
     "status": "ok",
     "timestamp": 1626061408415,
     "user": {
      "displayName": "Christopher Meaney",
      "photoUrl": "https://lh3.googleusercontent.com/a-/AOh14GhKFFOwHDdeq1jGbaX8XCVSLMIXialpqKx1BEbX=s64",
      "userId": "15619654579218208651"
     },
     "user_tz": 240
    },
    "id": "b0aYXuffiUXE",
    "outputId": "9cd24bfe-10f6-4881-d0e8-0bbf02bd3be3"
   },
   "outputs": [
    {
     "name": "stdout",
     "output_type": "stream",
     "text": [
      "Iteration =  0 loglik  = 1776.8999 lmu = [0.3750397] lsigma = [0.18744373] dL/dlm =  [-238.82716] dL/dlsigma =  [-1039.477]\n",
      "Iteration =  1000 loglik  = 407.33865 lmu = [2.2235005] lsigma = [3.169487] dL/dlm =  [-74.377144] dL/dlsigma =  [-17.383003]\n",
      "Iteration =  2000 loglik  = 336.21155 lmu = [3.3832092] lsigma = [3.2382736] dL/dlm =  [-32.821854] dL/dlsigma =  [0.37756348]\n",
      "Iteration =  3000 loglik  = 330.85852 lmu = [3.658852] lsigma = [3.286677] dL/dlm =  [-3.7660522] dL/dlsigma =  [-3.6140747]\n",
      "Iteration =  4000 loglik  = 330.58524 lmu = [3.6965358] lsigma = [3.3480875] dL/dlm =  [-0.992157] dL/dlsigma =  [-2.4197083]\n",
      "Iteration =  5000 loglik  = 330.5022 lmu = [3.710931] lsigma = [3.385687] dL/dlm =  [-0.5267639] dL/dlsigma =  [-1.4239502]\n",
      "Iteration =  6000 loglik  = 330.47348 lmu = [3.7191176] lsigma = [3.4078293] dL/dlm =  [-0.31253052] dL/dlsigma =  [-0.8430786]\n",
      "Iteration =  7000 loglik  = 330.4636 lmu = [3.724015] lsigma = [3.4209967] dL/dlm =  [-0.18847656] dL/dlsigma =  [-0.50357056]\n",
      "Iteration =  8000 loglik  = 330.4602 lmu = [3.7269738] lsigma = [3.4288955] dL/dlm =  [-0.11376953] dL/dlsigma =  [-0.3032837]\n",
      "Iteration =  9000 loglik  = 330.4582 lmu = [3.728756] lsigma = [3.433655] dL/dlm =  [-0.06982422] dL/dlsigma =  [-0.1831665]\n",
      "Iteration =  10000 loglik  = 330.4585 lmu = [3.729848] lsigma = [3.4365318] dL/dlm =  [-0.04165649] dL/dlsigma =  [-0.11114502]\n",
      "Iteration =  11000 loglik  = 330.45822 lmu = [3.7304823] lsigma = [3.4382768] dL/dlm =  [-0.02828979] dL/dlsigma =  [-0.0663147]\n",
      "Iteration =  12000 loglik  = 330.4583 lmu = [3.7308862] lsigma = [3.4393332] dL/dlm =  [-0.01766968] dL/dlsigma =  [-0.04067993]\n",
      "Iteration =  13000 loglik  = 330.45816 lmu = [3.7311246] lsigma = [3.439947] dL/dlm =  [-0.01104736] dL/dlsigma =  [-0.0255127]\n",
      "Iteration =  14000 loglik  = 330.45773 lmu = [3.7312877] lsigma = [3.440351] dL/dlm =  [-0.00598145] dL/dlsigma =  [-0.01611328]\n",
      "Iteration =  15000 loglik  = 330.45755 lmu = [3.7313602] lsigma = [3.4405894] dL/dlm =  [-0.00595093] dL/dlsigma =  [-0.00912476]\n",
      "Iteration =  16000 loglik  = 330.45825 lmu = [3.7313917] lsigma = [3.4406924] dL/dlm =  [-0.00588989] dL/dlsigma =  [-0.00595093]\n",
      "Iteration =  17000 loglik  = 330.45825 lmu = [3.7313917] lsigma = [3.4406924] dL/dlm =  [-0.00588989] dL/dlsigma =  [-0.00595093]\n",
      "Iteration =  18000 loglik  = 330.45825 lmu = [3.7313917] lsigma = [3.4406924] dL/dlm =  [-0.00588989] dL/dlsigma =  [-0.00595093]\n",
      "Iteration =  19000 loglik  = 330.45825 lmu = [3.7313917] lsigma = [3.4406924] dL/dlm =  [-0.00588989] dL/dlsigma =  [-0.00595093]\n",
      "Iteration =  20000 loglik  = 330.45825 lmu = [3.7313917] lsigma = [3.4406924] dL/dlm =  [-0.00588989] dL/dlsigma =  [-0.00595093]\n",
      "Iteration =  21000 loglik  = 330.45825 lmu = [3.7313917] lsigma = [3.4406924] dL/dlm =  [-0.00588989] dL/dlsigma =  [-0.00595093]\n",
      "Iteration =  22000 loglik  = 330.45825 lmu = [3.7313917] lsigma = [3.4406924] dL/dlm =  [-0.00588989] dL/dlsigma =  [-0.00595093]\n",
      "Iteration =  23000 loglik  = 330.45825 lmu = [3.7313917] lsigma = [3.4406924] dL/dlm =  [-0.00588989] dL/dlsigma =  [-0.00595093]\n",
      "Iteration =  24000 loglik  = 330.45825 lmu = [3.7313917] lsigma = [3.4406924] dL/dlm =  [-0.00588989] dL/dlsigma =  [-0.00595093]\n"
     ]
    }
   ],
   "source": [
    "## Learning rate\n",
    "learning_rate_mu = 2e-5\n",
    "learning_rate_sigma = 2e-5\n",
    "\n",
    "## Training loop\n",
    "for t in range(25000):\n",
    "    ## Backprop on negative log likelihood loss\n",
    "    # NLLnb2 = -torch.sum( torch.lgamma(xnb2 + torch.exp(l_mnb2)/torch.exp(l_snb2)) \n",
    "    #                    - torch.lgamma(torch.exp(l_mnb2)/torch.exp(l_snb2)) \n",
    "    #                    - torch.lgamma(xnb2 + 1) \n",
    "    #                    + xnb2*torch.log(torch.exp(l_snb2))\n",
    "    #                    - (xnb2 + torch.exp(l_mnb2)/torch.exp(l_snb2))*torch.log(1 + torch.exp(l_snb2)) )\n",
    "    NLLnb2 = negbin2_nll(x=x, log_mu=l_mu, log_sigma=l_sigma)\n",
    "    NLLnb2.backward()\n",
    "    ## Logging to console\n",
    "    if t % 1000 == 0:\n",
    "        print(\"Iteration = \", t, \n",
    "              \"loglik  =\", NLLnb2.data.numpy(), \n",
    "              \"lmu =\", l_mu.data.numpy(), \n",
    "              \"lsigma =\", l_sigma.data.numpy(), \n",
    "              \"dL/dlm = \", l_mu.grad.data.numpy(), \n",
    "              \"dL/dlsigma = \", l_sigma.grad.data.numpy())\n",
    "    ## SGD update of parms\n",
    "    l_mu.data -= learning_rate_mu * l_mu.grad.data\n",
    "    l_sigma.data -= learning_rate_sigma * l_sigma.grad.data\n",
    "    ## Zero the gradients\n",
    "    l_mu.grad.data.zero_()\n",
    "    l_sigma.grad.data.zero_()\n"
   ]
  },
  {
   "cell_type": "code",
   "execution_count": 11,
   "metadata": {
    "colab": {
     "base_uri": "https://localhost:8080/"
    },
    "executionInfo": {
     "elapsed": 198,
     "status": "ok",
     "timestamp": 1626061408607,
     "user": {
      "displayName": "Christopher Meaney",
      "photoUrl": "https://lh3.googleusercontent.com/a-/AOh14GhKFFOwHDdeq1jGbaX8XCVSLMIXialpqKx1BEbX=s64",
      "userId": "15619654579218208651"
     },
     "user_tz": 240
    },
    "id": "4dinsxCeiUZM",
    "outputId": "c11afdba-8715-40f2-db69-dbb39d259cad"
   },
   "outputs": [
    {
     "data": {
      "text/plain": [
       "[array([3.7313917], dtype=float32), array([41.737152], dtype=float32)]"
      ]
     },
     "execution_count": 11,
     "metadata": {},
     "output_type": "execute_result"
    }
   ],
   "source": [
    "## Final estimate of NB2 mean parm (on log scale, and mean scale)\n",
    "[l_mu.data.numpy(), np.exp(l_mu.data.numpy())]"
   ]
  },
  {
   "cell_type": "code",
   "execution_count": 12,
   "metadata": {
    "colab": {
     "base_uri": "https://localhost:8080/"
    },
    "executionInfo": {
     "elapsed": 16,
     "status": "ok",
     "timestamp": 1626061408609,
     "user": {
      "displayName": "Christopher Meaney",
      "photoUrl": "https://lh3.googleusercontent.com/a-/AOh14GhKFFOwHDdeq1jGbaX8XCVSLMIXialpqKx1BEbX=s64",
      "userId": "15619654579218208651"
     },
     "user_tz": 240
    },
    "id": "qtu4mx9tiUbR",
    "outputId": "afd14d5b-90b0-4a87-c042-dda60d9bfe76"
   },
   "outputs": [
    {
     "data": {
      "text/plain": [
       "[array([3.4406924], dtype=float32), array([31.20856], dtype=float32)]"
      ]
     },
     "execution_count": 12,
     "metadata": {},
     "output_type": "execute_result"
    }
   ],
   "source": [
    "## Final estimate of NB2 log-sigma parm (on log scale, and exponentiated scale)\n",
    "[l_sigma.data.numpy(), np.exp(l_sigma.data.numpy())]"
   ]
  },
  {
   "cell_type": "code",
   "execution_count": 13,
   "metadata": {
    "executionInfo": {
     "elapsed": 12,
     "status": "ok",
     "timestamp": 1626061408610,
     "user": {
      "displayName": "Christopher Meaney",
      "photoUrl": "https://lh3.googleusercontent.com/a-/AOh14GhKFFOwHDdeq1jGbaX8XCVSLMIXialpqKx1BEbX=s64",
      "userId": "15619654579218208651"
     },
     "user_tz": 240
    },
    "id": "LhuAkJfjiUd7"
   },
   "outputs": [],
   "source": [
    "## Compare against intercept only NB2 model"
   ]
  },
  {
   "cell_type": "code",
   "execution_count": 14,
   "metadata": {},
   "outputs": [
    {
     "data": {
      "text/plain": [
       "''"
      ]
     },
     "execution_count": 14,
     "metadata": {},
     "output_type": "execute_result"
    }
   ],
   "source": [
    "'''\n",
    "> ## NBII Model\n",
    "> library(gamlss)\n",
    "\n",
    "> R_NBII <- gamlss(fish ~ 1, data = species, family = \"NBII\")\n",
    "GAMLSS-RS iteration 1: Global Deviance = 664.0622 \n",
    "GAMLSS-RS iteration 2: Global Deviance = 661.4262 \n",
    "GAMLSS-RS iteration 3: Global Deviance = 660.9797 \n",
    "GAMLSS-RS iteration 4: Global Deviance = 660.9224 \n",
    "GAMLSS-RS iteration 5: Global Deviance = 660.9161 \n",
    "GAMLSS-RS iteration 6: Global Deviance = 660.9156 \n",
    "> summary(R_NBII)\n",
    "******************************************************************\n",
    "Family:  c(\"NBII\", \"Negative Binomial type II\") \n",
    "\n",
    "Call:  gamlss(formula = fish ~ 1, family = \"NBII\", data = species) \n",
    "\n",
    "Fitting method: RS() \n",
    "\n",
    "------------------------------------------------------------------\n",
    "Mu link function:  log\n",
    "Mu Coefficients:\n",
    "            Estimate Std. Error t value            Pr(>|t|)    \n",
    "(Intercept)    3.732      0.105   35.54 <0.0000000000000002 ***\n",
    "---\n",
    "Signif. codes:  0 ‘***’ 0.001 ‘**’ 0.01 ‘*’ 0.05 ‘.’ 0.1 ‘ ’ 1\n",
    "\n",
    "------------------------------------------------------------------\n",
    "Sigma link function:  log\n",
    "Sigma Coefficients:\n",
    "            Estimate Std. Error t value            Pr(>|t|)    \n",
    "(Intercept)   3.4414     0.1899   18.12 <0.0000000000000002 ***\n",
    "---\n",
    "Signif. codes:  0 ‘***’ 0.001 ‘**’ 0.01 ‘*’ 0.05 ‘.’ 0.1 ‘ ’ 1\n",
    "\n",
    "------------------------------------------------------------------\n",
    "No. of observations in the fit:  70 \n",
    "Degrees of Freedom for the fit:  2\n",
    "      Residual Deg. of Freedom:  68 \n",
    "                      at cycle:  6 \n",
    " \n",
    "Global Deviance:     660.9156 \n",
    "            AIC:     664.9156 \n",
    "            SBC:     669.4126 \n",
    "******************************************************************\n",
    "'''\n",
    ";"
   ]
  },
  {
   "cell_type": "code",
   "execution_count": null,
   "metadata": {},
   "outputs": [],
   "source": []
  },
  {
   "cell_type": "code",
   "execution_count": null,
   "metadata": {},
   "outputs": [],
   "source": []
  },
  {
   "cell_type": "code",
   "execution_count": null,
   "metadata": {},
   "outputs": [],
   "source": []
  },
  {
   "cell_type": "code",
   "execution_count": 15,
   "metadata": {},
   "outputs": [],
   "source": [
    "################################\n",
    "## Extend above example to Negative Binomial 2 regression\n",
    "## y=Fish-count; x=Lake-size ==> y ~ b0 + b1*x\n",
    "## Goal is to estimate Negative Binomial 2 regression parms: {b0, b1}\n",
    "################################"
   ]
  },
  {
   "cell_type": "code",
   "execution_count": 16,
   "metadata": {},
   "outputs": [],
   "source": [
    "## Instantiate data tensor, and variable for (NB2) model parameters\n",
    "x = torch.autograd.Variable(torch.from_numpy(dat.scale_x.to_numpy())).type(torch.FloatTensor)\n",
    "y = torch.autograd.Variable(torch.from_numpy(dat.fish.to_numpy())).type(torch.FloatTensor)\n",
    "b0 = torch.autograd.Variable(torch.rand(1), requires_grad=True) \n",
    "b1 = torch.autograd.Variable(torch.rand(1), requires_grad=True) \n",
    "l_sigma = torch.autograd.Variable(torch.Tensor([-0.3]), requires_grad=True) "
   ]
  },
  {
   "cell_type": "code",
   "execution_count": 17,
   "metadata": {},
   "outputs": [],
   "source": [
    "def negbin2_nll(x, y, b0, b1, log_sigma):\n",
    "    nll = (\n",
    "    -torch.sum( torch.lgamma(y + torch.exp(b0 + b1*x)/torch.exp(log_sigma)) \n",
    "    - torch.lgamma(torch.exp(b0 + b1*x)/torch.exp(log_sigma)) \n",
    "    - torch.lgamma(y + 1) \n",
    "    + y*torch.log(torch.exp(log_sigma))\n",
    "    - (y + torch.exp(b0 + b1*x)/torch.exp(log_sigma))*torch.log(1 + torch.exp(log_sigma)) )\n",
    "    )\n",
    "    return nll"
   ]
  },
  {
   "cell_type": "code",
   "execution_count": 18,
   "metadata": {},
   "outputs": [
    {
     "name": "stdout",
     "output_type": "stream",
     "text": [
      "Iteration =  0 loglik  = 2128.6384 b0 = [0.6762645] b1 = [0.69284874] l_sigma = [-0.3] dL/db0 =  [-453.98737] dL/db1 =  [-238.27551] dL/dlsigma =  [-1126.2653]\n",
      "Iteration =  100 loglik  = 817.036 b0 = [1.3129431] b1 = [1.0426255] l_sigma = [1.0827036] dL/db0 =  [-236.69403] dL/db1 =  [-130.626] dL/dlsigma =  [-397.75714]\n",
      "Iteration =  200 loglik  = 556.7056 b0 = [1.7145234] b1 = [1.2522092] l_sigma = [1.6305727] dL/db0 =  [-171.28198] dL/db1 =  [-80.69571] dL/dlsigma =  [-185.58948]\n",
      "Iteration =  300 loglik  = 465.01147 b0 = [2.0110843] b1 = [1.3682556] l_sigma = [1.91155] dL/db0 =  [-126.3819] dL/db1 =  [-35.33545] dL/dlsigma =  [-106.31116]\n",
      "Iteration =  400 loglik  = 425.17297 b0 = [2.228041] b1 = [1.4005202] l_sigma = [2.086194] dL/db0 =  [-92.439575] dL/db1 =  [0.9124756] dL/dlsigma =  [-72.29883]\n",
      "Iteration =  500 loglik  = 403.65167 b0 = [2.3903387] b1 = [1.3761214] l_sigma = [2.211781] dL/db0 =  [-71.63245] dL/db1 =  [21.208862] dL/dlsigma =  [-54.650085]\n",
      "Iteration =  600 loglik  = 388.95114 b0 = [2.5210507] b1 = [1.3236433] l_sigma = [2.30909] dL/db0 =  [-60.07019] dL/db1 =  [29.997803] dL/dlsigma =  [-43.2146]\n",
      "Iteration =  700 loglik  = 377.51956 b0 = [2.6339004] b1 = [1.2599785] l_sigma = [2.386843] dL/db0 =  [-53.22699] dL/db1 =  [33.091064] dL/dlsigma =  [-34.842957]\n",
      "Iteration =  800 loglik  = 368.11926 b0 = [2.7354772] b1 = [1.1929393] l_sigma = [2.4498942] dL/db0 =  [-48.533203] dL/db1 =  [33.69165] dL/dlsigma =  [-28.411682]\n",
      "Iteration =  900 loglik  = 360.18903 b0 = [2.8287365] b1 = [1.1259313] l_sigma = [2.5015295] dL/db0 =  [-44.790466] dL/db1 =  [33.18988] dL/dlsigma =  [-23.374512]\n",
      "Iteration =  1000 loglik  = 353.41913 b0 = [2.9149761] b1 = [1.06052] l_sigma = [2.5441856] dL/db0 =  [-41.458374] dL/db1 =  [32.145752] dL/dlsigma =  [-19.400085]\n",
      "Iteration =  1100 loglik  = 347.62024 b0 = [2.9947424] b1 = [0.9975375] l_sigma = [2.5797575] dL/db0 =  [-38.291016] dL/db1 =  [30.778809] dL/dlsigma =  [-16.26593]\n",
      "Iteration =  1200 loglik  = 342.66827 b0 = [3.068239] b1 = [0.9375313] l_sigma = [2.6097574] dL/db0 =  [-35.178894] dL/db1 =  [29.17633] dL/dlsigma =  [-13.812378]\n",
      "Iteration =  1300 loglik  = 338.47156 b0 = [3.1355293] b1 = [0.8809275] l_sigma = [2.6354213] dL/db0 =  [-32.08264] dL/db1 =  [27.379517] dL/dlsigma =  [-11.917236]\n",
      "Iteration =  1400 loglik  = 334.95795 b0 = [3.196642] b1 = [0.82808435] l_sigma = [2.6577647] dL/db0 =  [-29.003662] dL/db1 =  [25.419586] dL/dlsigma =  [-10.481323]\n",
      "Iteration =  1500 loglik  = 332.0573 b0 = [3.2516341] b1 = [0.7792932] l_sigma = [2.6776202] dL/db0 =  [-25.968933] dL/db1 =  [23.332733] dL/dlsigma =  [-9.42041]\n",
      "Iteration =  1600 loglik  = 329.70166 b0 = [3.3006341] b1 = [0.73476464] l_sigma = [2.6956613] dL/db0 =  [-23.02063] dL/db1 =  [21.164978] dL/dlsigma =  [-8.657349]\n",
      "Iteration =  1700 loglik  = 327.81952 b0 = [3.3438632] b1 = [0.69460744] l_sigma = [2.712413] dL/db0 =  [-20.207214] dL/db1 =  [18.97052] dL/dlsigma =  [-8.122253]\n",
      "Iteration =  1800 loglik  = 326.33923 b0 = [3.3816383] b1 = [0.6588182] l_sigma = [2.7282703] dL/db0 =  [-17.574951] dL/db1 =  [16.806976] dL/dlsigma =  [-7.7539062]\n",
      "Iteration =  1900 loglik  = 325.1889 b0 = [3.4143617] b1 = [0.6272804] l_sigma = [2.7435076] dL/db0 =  [-15.162048] dL/db1 =  [14.728577] dL/dlsigma =  [-7.4957886]\n",
      "Iteration =  2000 loglik  = 324.3051 b0 = [3.442497] b1 = [0.59977645] l_sigma = [2.758303] dL/db0 =  [-12.994263] dL/db1 =  [12.780884] dL/dlsigma =  [-7.305725]\n",
      "Iteration =  2100 loglik  = 323.62805 b0 = [3.46655] b1 = [0.57600987] l_sigma = [2.7727556] dL/db0 =  [-11.082153] dL/db1 =  [10.997314] dL/dlsigma =  [-7.1482544]\n",
      "Iteration =  2200 loglik  = 323.11008 b0 = [3.4870307] b1 = [0.55563086] l_sigma = [2.7869055] dL/db0 =  [-9.423279] dL/db1 =  [9.397369] dL/dlsigma =  [-6.9995728]\n",
      "Iteration =  2300 loglik  = 322.7112 b0 = [3.504434] b1 = [0.53826314] l_sigma = [2.8007543] dL/db0 =  [-8.004395] dL/db1 =  [7.9879456] dL/dlsigma =  [-6.845093]\n",
      "Iteration =  2400 loglik  = 322.4018 b0 = [3.51922] b1 = [0.5235281] l_sigma = [2.8142805] dL/db0 =  [-6.8048096] dL/db1 =  [6.765045] dL/dlsigma =  [-6.6763916]\n",
      "Iteration =  2500 loglik  = 322.15796 b0 = [3.5318043] b1 = [0.5110629] l_sigma = [2.8274527] dL/db0 =  [-5.7996216] dL/db1 =  [5.7177124] dL/dlsigma =  [-6.4904175]\n",
      "Iteration =  2600 loglik  = 321.9633 b0 = [3.5425491] b1 = [0.5005319] l_sigma = [2.8402357] dL/db0 =  [-4.9629517] dL/db1 =  [4.829712] dL/dlsigma =  [-6.287964]\n",
      "Iteration =  2700 loglik  = 321.8045 b0 = [3.5517666] b1 = [0.49163345] l_sigma = [2.8525982] dL/db0 =  [-4.269348] dL/db1 =  [4.0829773] dL/dlsigma =  [-6.071289]\n",
      "Iteration =  2800 loglik  = 321.67346 b0 = [3.559719] b1 = [0.4841043] l_sigma = [2.8645155] dL/db0 =  [-3.6957397] dL/db1 =  [3.4588318] dL/dlsigma =  [-5.8429565]\n",
      "Iteration =  2900 loglik  = 321.56287 b0 = [3.566626] b1 = [0.4777169] l_sigma = [2.87597] dL/db0 =  [-3.2212524] dL/db1 =  [2.939331] dL/dlsigma =  [-5.6084595]\n",
      "Iteration =  3000 loglik  = 321.47 b0 = [3.5726671] b1 = [0.47227857] l_sigma = [2.886949] dL/db0 =  [-2.828064] dL/db1 =  [2.5082092] dL/dlsigma =  [-5.369812]\n",
      "Iteration =  3100 loglik  = 321.3901 b0 = [3.5779898] b1 = [0.46762714] l_sigma = [2.8974514] dL/db0 =  [-2.5013428] dL/db1 =  [2.1507874] dL/dlsigma =  [-5.130371]\n",
      "Iteration =  3200 loglik  = 321.32028 b0 = [3.582715] b1 = [0.46362817] l_sigma = [2.907477] dL/db0 =  [-2.2287598] dL/db1 =  [1.8546143] dL/dlsigma =  [-4.8933716]\n",
      "Iteration =  3300 loglik  = 321.25937 b0 = [3.5869393] b1 = [0.46016985] l_sigma = [2.9170327] dL/db0 =  [-2.000183] dL/db1 =  [1.6087952] dL/dlsigma =  [-4.6605835]\n",
      "Iteration =  3400 loglik  = 321.2066 b0 = [3.5907428] b1 = [0.4571607] l_sigma = [2.9261281] dL/db0 =  [-1.8069458] dL/db1 =  [1.404541] dL/dlsigma =  [-4.433716]\n",
      "Iteration =  3500 loglik  = 321.15955 b0 = [3.5941894] b1 = [0.4545253] l_sigma = [2.9347768] dL/db0 =  [-1.6425171] dL/db1 =  [1.2342529] dL/dlsigma =  [-4.2144775]\n",
      "Iteration =  3600 loglik  = 321.11847 b0 = [3.5973318] b1 = [0.4522019] l_sigma = [2.9429936] dL/db0 =  [-1.501648] dL/db1 =  [1.0918274] dL/dlsigma =  [-4.001709]\n",
      "Iteration =  3700 loglik  = 321.082 b0 = [3.6002114] b1 = [0.45014018] l_sigma = [2.9507952] dL/db0 =  [-1.3798828] dL/db1 =  [0.97210693] dL/dlsigma =  [-3.798706]\n",
      "Iteration =  3800 loglik  = 321.04907 b0 = [3.602864] b1 = [0.44829893] l_sigma = [2.958198] dL/db0 =  [-1.2738037] dL/db1 =  [0.8709717] dL/dlsigma =  [-3.6039429]\n",
      "Iteration =  3900 loglik  = 321.01996 b0 = [3.6053176] b1 = [0.44664434] l_sigma = [2.96522] dL/db0 =  [-1.1807861] dL/db1 =  [0.7850952] dL/dlsigma =  [-3.4177856]\n",
      "Iteration =  4000 loglik  = 320.99466 b0 = [3.607596] b1 = [0.44514874] l_sigma = [2.9718785] dL/db0 =  [-1.0983276] dL/db1 =  [0.71170044] dL/dlsigma =  [-3.2403564]\n",
      "Iteration =  4100 loglik  = 320.97086 b0 = [3.6097186] b1 = [0.44378942] l_sigma = [2.9781923] dL/db0 =  [-1.0249634] dL/db1 =  [0.6486206] dL/dlsigma =  [-3.0719604]\n",
      "Iteration =  4200 loglik  = 320.95087 b0 = [3.6117024] b1 = [0.44254762] l_sigma = [2.984177] dL/db0 =  [-0.95892334] dL/db1 =  [0.5939636] dL/dlsigma =  [-2.9118042]\n",
      "Iteration =  4300 loglik  = 320.9321 b0 = [3.6135604] b1 = [0.44140783] l_sigma = [2.98985] dL/db0 =  [-0.899292] dL/db1 =  [0.5463562] dL/dlsigma =  [-2.76062]\n",
      "Iteration =  4400 loglik  = 320.9159 b0 = [3.6153042] b1 = [0.4403575] l_sigma = [2.9952273] dL/db0 =  [-0.84524536] dL/db1 =  [0.5045471] dL/dlsigma =  [-2.6170044]\n",
      "Iteration =  4500 loglik  = 320.901 b0 = [3.6169448] b1 = [0.43938574] l_sigma = [3.0003247] dL/db0 =  [-0.7956238] dL/db1 =  [0.46759033] dL/dlsigma =  [-2.4803467]\n",
      "Iteration =  4600 loglik  = 320.88757 b0 = [3.6184902] b1 = [0.43848374] l_sigma = [3.0051568] dL/db0 =  [-0.75009155] dL/db1 =  [0.43475342] dL/dlsigma =  [-2.3512268]\n",
      "Iteration =  4700 loglik  = 320.87537 b0 = [3.6199486] b1 = [0.43764386] l_sigma = [3.009737] dL/db0 =  [-0.7079468] dL/db1 =  [0.40533447] dL/dlsigma =  [-2.229187]\n",
      "Iteration =  4800 loglik  = 320.8648 b0 = [3.6213248] b1 = [0.43685985] l_sigma = [3.0140793] dL/db0 =  [-0.6690674] dL/db1 =  [0.3788147] dL/dlsigma =  [-2.1130676]\n",
      "Iteration =  4900 loglik  = 320.85538 b0 = [3.6226263] b1 = [0.4361263] l_sigma = [3.0181966] dL/db0 =  [-0.6328125] dL/db1 =  [0.3548584] dL/dlsigma =  [-2.004181]\n",
      "Iteration =  5000 loglik  = 320.84695 b0 = [3.623858] b1 = [0.43543845] l_sigma = [3.0221014] dL/db0 =  [-0.5989075] dL/db1 =  [0.33306885] dL/dlsigma =  [-1.9005432]\n"
     ]
    },
    {
     "name": "stdout",
     "output_type": "stream",
     "text": [
      "Iteration =  5100 loglik  = 320.83902 b0 = [3.6250246] b1 = [0.43479237] l_sigma = [3.0258038] dL/db0 =  [-0.56726074] dL/db1 =  [0.31314087] dL/dlsigma =  [-1.8023071]\n",
      "Iteration =  5200 loglik  = 320.83157 b0 = [3.6261287] b1 = [0.43418458] l_sigma = [3.0293164] dL/db0 =  [-0.5378113] dL/db1 =  [0.29470825] dL/dlsigma =  [-1.7099609]\n",
      "Iteration =  5300 loglik  = 320.82562 b0 = [3.627176] b1 = [0.43361202] l_sigma = [3.0326483] dL/db0 =  [-0.5099182] dL/db1 =  [0.277771] dL/dlsigma =  [-1.6224976]\n",
      "Iteration =  5400 loglik  = 320.82 b0 = [3.62817] b1 = [0.4330721] l_sigma = [3.0358095] dL/db0 =  [-0.48361206] dL/db1 =  [0.2621765] dL/dlsigma =  [-1.5388489]\n",
      "Iteration =  5500 loglik  = 320.81464 b0 = [3.629113] b1 = [0.4325623] l_sigma = [3.0388093] dL/db0 =  [-0.4588318] dL/db1 =  [0.24765015] dL/dlsigma =  [-1.4606323]\n",
      "Iteration =  5600 loglik  = 320.81012 b0 = [3.630007] b1 = [0.4320807] l_sigma = [3.041656] dL/db0 =  [-0.43569946] dL/db1 =  [0.23410034] dL/dlsigma =  [-1.3864136]\n",
      "Iteration =  5700 loglik  = 320.80606 b0 = [3.6308553] b1 = [0.43162516] l_sigma = [3.044358] dL/db0 =  [-0.4138794] dL/db1 =  [0.22143555] dL/dlsigma =  [-1.3155212]\n",
      "Iteration =  5800 loglik  = 320.80228 b0 = [3.6316612] b1 = [0.4311942] l_sigma = [3.0469224] dL/db0 =  [-0.39309692] dL/db1 =  [0.20959473] dL/dlsigma =  [-1.2489319]\n",
      "Iteration =  5900 loglik  = 320.79953 b0 = [3.6324277] b1 = [0.4307861] l_sigma = [3.0493572] dL/db0 =  [-0.37329102] dL/db1 =  [0.19848633] dL/dlsigma =  [-1.185669]\n",
      "Iteration =  6000 loglik  = 320.79605 b0 = [3.633155] b1 = [0.4303995] l_sigma = [3.0516686] dL/db0 =  [-0.35479736] dL/db1 =  [0.18811035] dL/dlsigma =  [-1.1257935]\n",
      "Iteration =  6100 loglik  = 320.7933 b0 = [3.6338465] b1 = [0.4300331] l_sigma = [3.0538633] dL/db0 =  [-0.33709717] dL/db1 =  [0.17828369] dL/dlsigma =  [-1.0692444]\n",
      "Iteration =  6200 loglik  = 320.7913 b0 = [3.6345031] b1 = [0.4296857] l_sigma = [3.0559473] dL/db0 =  [-0.32043457] dL/db1 =  [0.16906738] dL/dlsigma =  [-1.0150757]\n",
      "Iteration =  6300 loglik  = 320.78867 b0 = [3.6351295] b1 = [0.4293563] l_sigma = [3.0579264] dL/db0 =  [-0.30422974] dL/db1 =  [0.16044617] dL/dlsigma =  [-0.964447]\n",
      "Iteration =  6400 loglik  = 320.78668 b0 = [3.6357214] b1 = [0.4290437] l_sigma = [3.059807] dL/db0 =  [-0.28948975] dL/db1 =  [0.15219116] dL/dlsigma =  [-0.9163513]\n",
      "Iteration =  6500 loglik  = 320.7849 b0 = [3.6362848] b1 = [0.42874712] l_sigma = [3.0615928] dL/db0 =  [-0.27539062] dL/db1 =  [0.14437866] dL/dlsigma =  [-0.8699341]\n",
      "Iteration =  6600 loglik  = 320.78345 b0 = [3.636821] b1 = [0.42846557] l_sigma = [3.0632906] dL/db0 =  [-0.2619629] dL/db1 =  [0.1370697] dL/dlsigma =  [-0.82644653]\n",
      "Iteration =  6700 loglik  = 320.78186 b0 = [3.6373312] b1 = [0.42819825] l_sigma = [3.0649023] dL/db0 =  [-0.24899292] dL/db1 =  [0.13012695] dL/dlsigma =  [-0.78530884]\n",
      "Iteration =  6800 loglik  = 320.78085 b0 = [3.6378164] b1 = [0.4279445] l_sigma = [3.0664346] dL/db0 =  [-0.2368164] dL/db1 =  [0.12358093] dL/dlsigma =  [-0.7465515]\n",
      "Iteration =  6900 loglik  = 320.77945 b0 = [3.6382775] b1 = [0.42770347] l_sigma = [3.067891] dL/db0 =  [-0.22518921] dL/db1 =  [0.11740112] dL/dlsigma =  [-0.7087097]\n",
      "Iteration =  7000 loglik  = 320.77783 b0 = [3.638716] b1 = [0.42747453] l_sigma = [3.0692744] dL/db0 =  [-0.21426392] dL/db1 =  [0.11152649] dL/dlsigma =  [-0.6741333]\n",
      "Iteration =  7100 loglik  = 320.77753 b0 = [3.639133] b1 = [0.42725703] l_sigma = [3.0705888] dL/db0 =  [-0.2038269] dL/db1 =  [0.10594177] dL/dlsigma =  [-0.640625]\n",
      "Iteration =  7200 loglik  = 320.77676 b0 = [3.6395302] b1 = [0.42705023] l_sigma = [3.0718381] dL/db0 =  [-0.19378662] dL/db1 =  [0.10067749] dL/dlsigma =  [-0.6090393]\n",
      "Iteration =  7300 loglik  = 320.77573 b0 = [3.6399095] b1 = [0.4268539] l_sigma = [3.0730267] dL/db0 =  [-0.18405151] dL/db1 =  [0.0957489] dL/dlsigma =  [-0.57888794]\n",
      "Iteration =  7400 loglik  = 320.77533 b0 = [3.6402671] b1 = [0.42666736] l_sigma = [3.0741553] dL/db0 =  [-0.17526245] dL/db1 =  [0.0909729] dL/dlsigma =  [-0.5498352]\n",
      "Iteration =  7500 loglik  = 320.7743 b0 = [3.6406066] b1 = [0.42648998] l_sigma = [3.0752287] dL/db0 =  [-0.16705322] dL/db1 =  [0.08638] dL/dlsigma =  [-0.52301025]\n",
      "Iteration =  7600 loglik  = 320.7737 b0 = [3.6409326] b1 = [0.42632133] l_sigma = [3.0762498] dL/db0 =  [-0.15878296] dL/db1 =  [0.08215332] dL/dlsigma =  [-0.49783325]\n",
      "Iteration =  7700 loglik  = 320.77374 b0 = [3.6412425] b1 = [0.42616102] l_sigma = [3.0772207] dL/db0 =  [-0.15084839] dL/db1 =  [0.078125] dL/dlsigma =  [-0.47280884]\n",
      "Iteration =  7800 loglik  = 320.77277 b0 = [3.6415336] b1 = [0.42600873] l_sigma = [3.0781431] dL/db0 =  [-0.14404297] dL/db1 =  [0.07415771] dL/dlsigma =  [-0.4494934]\n",
      "Iteration =  7900 loglik  = 320.77185 b0 = [3.6418169] b1 = [0.4258638] l_sigma = [3.0790195] dL/db0 =  [-0.13641357] dL/db1 =  [0.07064819] dL/dlsigma =  [-0.42785645]\n",
      "Iteration =  8000 loglik  = 320.77203 b0 = [3.642079] b1 = [0.42572632] l_sigma = [3.0798533] dL/db0 =  [-0.13046265] dL/db1 =  [0.06707764] dL/dlsigma =  [-0.40664673]\n",
      "Iteration =  8100 loglik  = 320.77145 b0 = [3.6423342] b1 = [0.4255953] l_sigma = [3.080648] dL/db0 =  [-0.1237793] dL/db1 =  [0.06384277] dL/dlsigma =  [-0.38656616]\n",
      "Iteration =  8200 loglik  = 320.77142 b0 = [3.6425726] b1 = [0.4254709] l_sigma = [3.0814009] dL/db0 =  [-0.11807251] dL/db1 =  [0.06062317] dL/dlsigma =  [-0.36782837]\n",
      "Iteration =  8300 loglik  = 320.7706 b0 = [3.642804] b1 = [0.42535245] l_sigma = [3.0821192] dL/db0 =  [-0.11212158] dL/db1 =  [0.05773926] dL/dlsigma =  [-0.34973145]\n",
      "Iteration =  8400 loglik  = 320.7705 b0 = [3.6430185] b1 = [0.42524007] l_sigma = [3.0828004] dL/db0 =  [-0.10720825] dL/db1 =  [0.05477905] dL/dlsigma =  [-0.33258057]\n",
      "Iteration =  8500 loglik  = 320.7701 b0 = [3.6432314] b1 = [0.42513293] l_sigma = [3.0834513] dL/db0 =  [-0.10122681] dL/db1 =  [0.05235291] dL/dlsigma =  [-0.31604004]\n",
      "Iteration =  8600 loglik  = 320.76996 b0 = [3.6434221] b1 = [0.4250312] l_sigma = [3.0840669] dL/db0 =  [-0.09729004] dL/db1 =  [0.04949951] dL/dlsigma =  [-0.30062866]\n",
      "Iteration =  8700 loglik  = 320.77002 b0 = [3.6436129] b1 = [0.4249345] l_sigma = [3.0846536] dL/db0 =  [-0.09213257] dL/db1 =  [0.04722595] dL/dlsigma =  [-0.28616333]\n",
      "Iteration =  8800 loglik  = 320.7698 b0 = [3.6437907] b1 = [0.42484233] l_sigma = [3.0852127] dL/db0 =  [-0.08786011] dL/db1 =  [0.04493713] dL/dlsigma =  [-0.27227783]\n",
      "Iteration =  8900 loglik  = 320.76965 b0 = [3.6439576] b1 = [0.42475477] l_sigma = [3.085744] dL/db0 =  [-0.08410645] dL/db1 =  [0.04257202] dL/dlsigma =  [-0.25863647]\n",
      "Iteration =  9000 loglik  = 320.76947 b0 = [3.6441245] b1 = [0.42467156] l_sigma = [3.0862494] dL/db0 =  [-0.07925415] dL/db1 =  [0.04074097] dL/dlsigma =  [-0.24612427]\n",
      "Iteration =  9100 loglik  = 320.7695 b0 = [3.6442752] b1 = [0.42459223] l_sigma = [3.0867307] dL/db0 =  [-0.07595825] dL/db1 =  [0.03862] dL/dlsigma =  [-0.23400879]\n",
      "Iteration =  9200 loglik  = 320.7695 b0 = [3.6444182] b1 = [0.4245169] l_sigma = [3.087187] dL/db0 =  [-0.07284546] dL/db1 =  [0.03659058] dL/dlsigma =  [-0.22290039]\n",
      "Iteration =  9300 loglik  = 320.76923 b0 = [3.6445613] b1 = [0.4244453] l_sigma = [3.087621] dL/db0 =  [-0.06869507] dL/db1 =  [0.03500366] dL/dlsigma =  [-0.21200562]\n",
      "Iteration =  9400 loglik  = 320.76947 b0 = [3.6446962] b1 = [0.424377] l_sigma = [3.0880344] dL/db0 =  [-0.06503296] dL/db1 =  [0.03335571] dL/dlsigma =  [-0.20199585]\n",
      "Iteration =  9500 loglik  = 320.7694 b0 = [3.6448154] b1 = [0.42431238] l_sigma = [3.0884278] dL/db0 =  [-0.0630188] dL/db1 =  [0.03149414] dL/dlsigma =  [-0.19195557]\n",
      "Iteration =  9600 loglik  = 320.76898 b0 = [3.6449347] b1 = [0.42425108] l_sigma = [3.0888033] dL/db0 =  [-0.06018066] dL/db1 =  [0.02996826] dL/dlsigma =  [-0.18218994]\n",
      "Iteration =  9700 loglik  = 320.76898 b0 = [3.6450539] b1 = [0.42419243] l_sigma = [3.089161] dL/db0 =  [-0.05661011] dL/db1 =  [0.02874756] dL/dlsigma =  [-0.17382812]\n",
      "Iteration =  9800 loglik  = 320.76886 b0 = [3.6451652] b1 = [0.424136] l_sigma = [3.089497] dL/db0 =  [-0.05334473] dL/db1 =  [0.0274353] dL/dlsigma =  [-0.16500854]\n",
      "Iteration =  9900 loglik  = 320.76843 b0 = [3.6452606] b1 = [0.424083] l_sigma = [3.08982] dL/db0 =  [-0.05209351] dL/db1 =  [0.02574158] dL/dlsigma =  [-0.1574707]\n"
     ]
    },
    {
     "name": "stdout",
     "output_type": "stream",
     "text": [
      "Iteration =  10000 loglik  = 320.76868 b0 = [3.645356] b1 = [0.4240328] l_sigma = [3.0901299] dL/db0 =  [-0.05029297] dL/db1 =  [0.02441406] dL/dlsigma =  [-0.14901733]\n",
      "Iteration =  10100 loglik  = 320.76862 b0 = [3.6454513] b1 = [0.42398512] l_sigma = [3.0904174] dL/db0 =  [-0.04754639] dL/db1 =  [0.02336121] dL/dlsigma =  [-0.14230347]\n",
      "Iteration =  10200 loglik  = 320.7685 b0 = [3.6455467] b1 = [0.4239397] l_sigma = [3.0906975] dL/db0 =  [-0.04434204] dL/db1 =  [0.02256775] dL/dlsigma =  [-0.1350708]\n",
      "Iteration =  10300 loglik  = 320.76852 b0 = [3.645635] b1 = [0.42389524] l_sigma = [3.0909598] dL/db0 =  [-0.04171753] dL/db1 =  [0.02148438] dL/dlsigma =  [-0.12982178]\n",
      "Iteration =  10400 loglik  = 320.768 b0 = [3.6457064] b1 = [0.4238537] l_sigma = [3.091212] dL/db0 =  [-0.04119873] dL/db1 =  [0.02003479] dL/dlsigma =  [-0.12295532]\n",
      "Iteration =  10500 loglik  = 320.76862 b0 = [3.645778] b1 = [0.42381495] l_sigma = [3.0914505] dL/db0 =  [-0.04013062] dL/db1 =  [0.01889038] dL/dlsigma =  [-0.11630249]\n",
      "Iteration =  10600 loglik  = 320.7681 b0 = [3.6458495] b1 = [0.4237784] l_sigma = [3.091678] dL/db0 =  [-0.0385437] dL/db1 =  [0.01802063] dL/dlsigma =  [-0.11090088]\n",
      "Iteration =  10700 loglik  = 320.76822 b0 = [3.645921] b1 = [0.42374265] l_sigma = [3.0918925] dL/db0 =  [-0.03637695] dL/db1 =  [0.01721191] dL/dlsigma =  [-0.1053772]\n",
      "Iteration =  10800 loglik  = 320.76855 b0 = [3.6459925] b1 = [0.42370948] l_sigma = [3.0921025] dL/db0 =  [-0.03396606] dL/db1 =  [0.01676941] dL/dlsigma =  [-0.10040283]\n",
      "Iteration =  10900 loglik  = 320.7682 b0 = [3.646064] b1 = [0.4236767] l_sigma = [3.0922933] dL/db0 =  [-0.03085327] dL/db1 =  [0.01625061] dL/dlsigma =  [-0.09606934]\n",
      "Iteration =  11000 loglik  = 320.76797 b0 = [3.646123] b1 = [0.4236449] l_sigma = [3.092484] dL/db0 =  [-0.02978516] dL/db1 =  [0.01533508] dL/dlsigma =  [-0.09124756]\n",
      "Iteration =  11100 loglik  = 320.76797 b0 = [3.646172] b1 = [0.4236151] l_sigma = [3.0926597] dL/db0 =  [-0.02960205] dL/db1 =  [0.01416016] dL/dlsigma =  [-0.0869751]\n",
      "Iteration =  11200 loglik  = 320.76837 b0 = [3.6462197] b1 = [0.42358825] l_sigma = [3.0928266] dL/db0 =  [-0.02920532] dL/db1 =  [0.01330566] dL/dlsigma =  [-0.08224487]\n",
      "Iteration =  11300 loglik  = 320.7686 b0 = [3.6462674] b1 = [0.42356223] l_sigma = [3.0929935] dL/db0 =  [-0.02877808] dL/db1 =  [0.01254272] dL/dlsigma =  [-0.07788086]\n",
      "Iteration =  11400 loglik  = 320.76804 b0 = [3.646315] b1 = [0.4235384] l_sigma = [3.0931392] dL/db0 =  [-0.02749634] dL/db1 =  [0.01200867] dL/dlsigma =  [-0.07461548]\n",
      "Iteration =  11500 loglik  = 320.7681 b0 = [3.6463628] b1 = [0.42351454] l_sigma = [3.0932822] dL/db0 =  [-0.02609253] dL/db1 =  [0.01148987] dL/dlsigma =  [-0.0715332]\n",
      "Iteration =  11600 loglik  = 320.76816 b0 = [3.6464105] b1 = [0.42349195] l_sigma = [3.0934253] dL/db0 =  [-0.02459717] dL/db1 =  [0.0111084] dL/dlsigma =  [-0.06756592]\n",
      "Iteration =  11700 loglik  = 320.76837 b0 = [3.6464581] b1 = [0.4234711] l_sigma = [3.0935576] dL/db0 =  [-0.02270508] dL/db1 =  [0.01092529] dL/dlsigma =  [-0.06445312]\n",
      "Iteration =  11800 loglik  = 320.76855 b0 = [3.6465058] b1 = [0.42345023] l_sigma = [3.0936768] dL/db0 =  [-0.02020264] dL/db1 =  [0.01068115] dL/dlsigma =  [-0.06185913]\n",
      "Iteration =  11900 loglik  = 320.7685 b0 = [3.646553] b1 = [0.42342937] l_sigma = [3.093796] dL/db0 =  [-0.0178833] dL/db1 =  [0.01045227] dL/dlsigma =  [-0.05944824]\n",
      "Iteration =  12000 loglik  = 320.76822 b0 = [3.646586] b1 = [0.42340896] l_sigma = [3.0939152] dL/db0 =  [-0.01785278] dL/db1 =  [0.00958252] dL/dlsigma =  [-0.05618286]\n",
      "Iteration =  12100 loglik  = 320.76788 b0 = [3.6466167] b1 = [0.42339107] l_sigma = [3.0940282] dL/db0 =  [-0.01779175] dL/db1 =  [0.00898743] dL/dlsigma =  [-0.05303955]\n",
      "Iteration =  12200 loglik  = 320.76813 b0 = [3.6466434] b1 = [0.42337337] l_sigma = [3.0941236] dL/db0 =  [-0.01776123] dL/db1 =  [0.00814819] dL/dlsigma =  [-0.05041504]\n",
      "Iteration =  12300 loglik  = 320.76852 b0 = [3.6466694] b1 = [0.42335847] l_sigma = [3.094219] dL/db0 =  [-0.01782227] dL/db1 =  [0.00765991] dL/dlsigma =  [-0.04803467]\n",
      "Iteration =  12400 loglik  = 320.7685 b0 = [3.646695] b1 = [0.42334357] l_sigma = [3.0943143] dL/db0 =  [-0.01782227] dL/db1 =  [0.00715637] dL/dlsigma =  [-0.0451355]\n",
      "Iteration =  12500 loglik  = 320.76846 b0 = [3.646721] b1 = [0.42332885] l_sigma = [3.0944097] dL/db0 =  [-0.01779175] dL/db1 =  [0.00671387] dL/dlsigma =  [-0.0430603]\n",
      "Iteration =  12600 loglik  = 320.76822 b0 = [3.6467452] b1 = [0.42331687] l_sigma = [3.0944924] dL/db0 =  [-0.01748657] dL/db1 =  [0.00646973] dL/dlsigma =  [-0.04101562]\n",
      "Iteration =  12700 loglik  = 320.76816 b0 = [3.646769] b1 = [0.42330495] l_sigma = [3.094564] dL/db0 =  [-0.01678467] dL/db1 =  [0.00621033] dL/dlsigma =  [-0.03927612]\n",
      "Iteration =  12800 loglik  = 320.76816 b0 = [3.646793] b1 = [0.42329302] l_sigma = [3.0946355] dL/db0 =  [-0.01599121] dL/db1 =  [0.00595093] dL/dlsigma =  [-0.03723145]\n",
      "Iteration =  12900 loglik  = 320.76822 b0 = [3.6468167] b1 = [0.4232811] l_sigma = [3.094707] dL/db0 =  [-0.01531982] dL/db1 =  [0.00564575] dL/dlsigma =  [-0.03552246]\n",
      "Iteration =  13000 loglik  = 320.76797 b0 = [3.6468406] b1 = [0.42326918] l_sigma = [3.0947785] dL/db0 =  [-0.01461792] dL/db1 =  [0.00543213] dL/dlsigma =  [-0.03372192]\n",
      "Iteration =  13100 loglik  = 320.7682 b0 = [3.6468644] b1 = [0.4232579] l_sigma = [3.09485] dL/db0 =  [-0.01394653] dL/db1 =  [0.00518799] dL/dlsigma =  [-0.03210449]\n",
      "Iteration =  13200 loglik  = 320.76816 b0 = [3.6468883] b1 = [0.42324793] l_sigma = [3.0949214] dL/db0 =  [-0.01312256] dL/db1 =  [0.00517273] dL/dlsigma =  [-0.03027344]\n",
      "Iteration =  13300 loglik  = 320.768 b0 = [3.646912] b1 = [0.42323843] l_sigma = [3.0949764] dL/db0 =  [-0.01171875] dL/db1 =  [0.00521851] dL/dlsigma =  [-0.02920532]\n",
      "Iteration =  13400 loglik  = 320.76782 b0 = [3.646936] b1 = [0.42322916] l_sigma = [3.0950243] dL/db0 =  [-0.01000977] dL/db1 =  [0.00517273] dL/dlsigma =  [-0.02807617]\n",
      "Iteration =  13500 loglik  = 320.7682 b0 = [3.6469598] b1 = [0.42321998] l_sigma = [3.095072] dL/db0 =  [-0.00823975] dL/db1 =  [0.00521851] dL/dlsigma =  [-0.02749634]\n",
      "Iteration =  13600 loglik  = 320.768 b0 = [3.6469836] b1 = [0.42321068] l_sigma = [3.0951197] dL/db0 =  [-0.00653076] dL/db1 =  [0.00518799] dL/dlsigma =  [-0.02658081]\n",
      "Iteration =  13700 loglik  = 320.76855 b0 = [3.6470006] b1 = [0.42320165] l_sigma = [3.0951674] dL/db0 =  [-0.00598145] dL/db1 =  [0.00489807] dL/dlsigma =  [-0.02557373]\n",
      "Iteration =  13800 loglik  = 320.76816 b0 = [3.647014] b1 = [0.4231927] l_sigma = [3.095215] dL/db0 =  [-0.00592041] dL/db1 =  [0.00447083] dL/dlsigma =  [-0.02426147]\n",
      "Iteration =  13900 loglik  = 320.76834 b0 = [3.6470275] b1 = [0.42318377] l_sigma = [3.0952628] dL/db0 =  [-0.00588989] dL/db1 =  [0.00402832] dL/dlsigma =  [-0.02307129]\n",
      "Iteration =  14000 loglik  = 320.76862 b0 = [3.6470404] b1 = [0.42317563] l_sigma = [3.0953104] dL/db0 =  [-0.00598145] dL/db1 =  [0.00369263] dL/dlsigma =  [-0.02151489]\n",
      "Iteration =  14100 loglik  = 320.76837 b0 = [3.647053] b1 = [0.42316967] l_sigma = [3.0953581] dL/db0 =  [-0.00595093] dL/db1 =  [0.00364685] dL/dlsigma =  [-0.02032471]\n",
      "Iteration =  14200 loglik  = 320.768 b0 = [3.6470654] b1 = [0.4231637] l_sigma = [3.0954058] dL/db0 =  [-0.00598145] dL/db1 =  [0.0035553] dL/dlsigma =  [-0.01889038]\n",
      "Iteration =  14300 loglik  = 320.76828 b0 = [3.6470778] b1 = [0.42315775] l_sigma = [3.0954528] dL/db0 =  [-0.00592041] dL/db1 =  [0.00350952] dL/dlsigma =  [-0.01800537]\n",
      "Iteration =  14400 loglik  = 320.76852 b0 = [3.6470857] b1 = [0.4231518] l_sigma = [3.0954797] dL/db0 =  [-0.00598145] dL/db1 =  [0.00314331] dL/dlsigma =  [-0.01690674]\n",
      "Iteration =  14500 loglik  = 320.76773 b0 = [3.6470928] b1 = [0.42314583] l_sigma = [3.0955036] dL/db0 =  [-0.00595093] dL/db1 =  [0.00276184] dL/dlsigma =  [-0.01687622]\n",
      "Iteration =  14600 loglik  = 320.76834 b0 = [3.6471] b1 = [0.42313987] l_sigma = [3.0955274] dL/db0 =  [-0.00588989] dL/db1 =  [0.00236511] dL/dlsigma =  [-0.0161438]\n",
      "Iteration =  14700 loglik  = 320.76828 b0 = [3.6471066] b1 = [0.4231358] l_sigma = [3.0955513] dL/db0 =  [-0.00588989] dL/db1 =  [0.00224304] dL/dlsigma =  [-0.01553345]\n",
      "Iteration =  14800 loglik  = 320.76846 b0 = [3.6471128] b1 = [0.42313278] l_sigma = [3.095575] dL/db0 =  [-0.00595093] dL/db1 =  [0.00216675] dL/dlsigma =  [-0.01470947]\n"
     ]
    },
    {
     "name": "stdout",
     "output_type": "stream",
     "text": [
      "Iteration =  14900 loglik  = 320.76813 b0 = [3.647119] b1 = [0.4231298] l_sigma = [3.095599] dL/db0 =  [-0.00585938] dL/db1 =  [0.00213623] dL/dlsigma =  [-0.01412964]\n",
      "Iteration =  15000 loglik  = 320.76846 b0 = [3.6471255] b1 = [0.42312682] l_sigma = [3.0956228] dL/db0 =  [-0.00588989] dL/db1 =  [0.00212097] dL/dlsigma =  [-0.01324463]\n",
      "Iteration =  15100 loglik  = 320.76773 b0 = [3.6471317] b1 = [0.42312384] l_sigma = [3.0956466] dL/db0 =  [-0.00588989] dL/db1 =  [0.0020752] dL/dlsigma =  [-0.01269531]\n",
      "Iteration =  15200 loglik  = 320.76825 b0 = [3.647138] b1 = [0.42312086] l_sigma = [3.0956705] dL/db0 =  [-0.00595093] dL/db1 =  [0.00201416] dL/dlsigma =  [-0.01223755]\n",
      "Iteration =  15300 loglik  = 320.7683 b0 = [3.6471438] b1 = [0.42311788] l_sigma = [3.0956943] dL/db0 =  [-0.00592041] dL/db1 =  [0.00198364] dL/dlsigma =  [-0.01156616]\n",
      "Iteration =  15400 loglik  = 320.76764 b0 = [3.64715] b1 = [0.4231149] l_sigma = [3.0957181] dL/db0 =  [-0.00601196] dL/db1 =  [0.00196838] dL/dlsigma =  [-0.01119995]\n",
      "Iteration =  15500 loglik  = 320.768 b0 = [3.6471565] b1 = [0.42311192] l_sigma = [3.095742] dL/db0 =  [-0.00598145] dL/db1 =  [0.00192261] dL/dlsigma =  [-0.01049805]\n",
      "Iteration =  15600 loglik  = 320.76813 b0 = [3.647163] b1 = [0.42310894] l_sigma = [3.0957658] dL/db0 =  [-0.00592041] dL/db1 =  [0.00192261] dL/dlsigma =  [-0.00961304]\n",
      "Iteration =  15700 loglik  = 320.7677 b0 = [3.647169] b1 = [0.42310596] l_sigma = [3.0957897] dL/db0 =  [-0.00588989] dL/db1 =  [0.00186157] dL/dlsigma =  [-0.0090332]\n",
      "Iteration =  15800 loglik  = 320.76794 b0 = [3.6471753] b1 = [0.42310297] l_sigma = [3.0958135] dL/db0 =  [-0.00592041] dL/db1 =  [0.00183105] dL/dlsigma =  [-0.00863647]\n",
      "Iteration =  15900 loglik  = 320.76846 b0 = [3.6471817] b1 = [0.4231] l_sigma = [3.0958374] dL/db0 =  [-0.00592041] dL/db1 =  [0.00183105] dL/dlsigma =  [-0.00802612]\n",
      "Iteration =  16000 loglik  = 320.76782 b0 = [3.6471877] b1 = [0.423097] l_sigma = [3.0958612] dL/db0 =  [-0.00598145] dL/db1 =  [0.00178528] dL/dlsigma =  [-0.00695801]\n",
      "Iteration =  16100 loglik  = 320.76776 b0 = [3.647194] b1 = [0.42309403] l_sigma = [3.0958838] dL/db0 =  [-0.00595093] dL/db1 =  [0.0017395] dL/dlsigma =  [-0.006073]\n",
      "Iteration =  16200 loglik  = 320.7685 b0 = [3.6471968] b1 = [0.42309105] l_sigma = [3.0958939] dL/db0 =  [-0.00595093] dL/db1 =  [0.00151062] dL/dlsigma =  [-0.00631714]\n",
      "Iteration =  16300 loglik  = 320.7682 b0 = [3.6471987] b1 = [0.42308807] l_sigma = [3.0958977] dL/db0 =  [-0.00592041] dL/db1 =  [0.00120544] dL/dlsigma =  [-0.00588989]\n",
      "Iteration =  16400 loglik  = 320.76825 b0 = [3.6471996] b1 = [0.4230851] l_sigma = [3.0958977] dL/db0 =  [-0.00592041] dL/db1 =  [0.00083923] dL/dlsigma =  [-0.00570679]\n",
      "Iteration =  16500 loglik  = 320.7681 b0 = [3.6471999] b1 = [0.42308417] l_sigma = [3.0958977] dL/db0 =  [-0.00588989] dL/db1 =  [0.00071716] dL/dlsigma =  [-0.00582886]\n",
      "Iteration =  16600 loglik  = 320.7681 b0 = [3.6471999] b1 = [0.42308417] l_sigma = [3.0958977] dL/db0 =  [-0.00588989] dL/db1 =  [0.00071716] dL/dlsigma =  [-0.00582886]\n",
      "Iteration =  16700 loglik  = 320.7681 b0 = [3.6471999] b1 = [0.42308417] l_sigma = [3.0958977] dL/db0 =  [-0.00588989] dL/db1 =  [0.00071716] dL/dlsigma =  [-0.00582886]\n",
      "Iteration =  16800 loglik  = 320.7681 b0 = [3.6471999] b1 = [0.42308417] l_sigma = [3.0958977] dL/db0 =  [-0.00588989] dL/db1 =  [0.00071716] dL/dlsigma =  [-0.00582886]\n",
      "Iteration =  16900 loglik  = 320.7681 b0 = [3.6471999] b1 = [0.42308417] l_sigma = [3.0958977] dL/db0 =  [-0.00588989] dL/db1 =  [0.00071716] dL/dlsigma =  [-0.00582886]\n",
      "Iteration =  17000 loglik  = 320.7681 b0 = [3.6471999] b1 = [0.42308417] l_sigma = [3.0958977] dL/db0 =  [-0.00588989] dL/db1 =  [0.00071716] dL/dlsigma =  [-0.00582886]\n",
      "Iteration =  17100 loglik  = 320.7681 b0 = [3.6471999] b1 = [0.42308417] l_sigma = [3.0958977] dL/db0 =  [-0.00588989] dL/db1 =  [0.00071716] dL/dlsigma =  [-0.00582886]\n",
      "Iteration =  17200 loglik  = 320.7681 b0 = [3.6471999] b1 = [0.42308417] l_sigma = [3.0958977] dL/db0 =  [-0.00588989] dL/db1 =  [0.00071716] dL/dlsigma =  [-0.00582886]\n",
      "Iteration =  17300 loglik  = 320.7681 b0 = [3.6471999] b1 = [0.42308417] l_sigma = [3.0958977] dL/db0 =  [-0.00588989] dL/db1 =  [0.00071716] dL/dlsigma =  [-0.00582886]\n",
      "Iteration =  17400 loglik  = 320.7681 b0 = [3.6471999] b1 = [0.42308417] l_sigma = [3.0958977] dL/db0 =  [-0.00588989] dL/db1 =  [0.00071716] dL/dlsigma =  [-0.00582886]\n",
      "Iteration =  17500 loglik  = 320.7681 b0 = [3.6471999] b1 = [0.42308417] l_sigma = [3.0958977] dL/db0 =  [-0.00588989] dL/db1 =  [0.00071716] dL/dlsigma =  [-0.00582886]\n",
      "Iteration =  17600 loglik  = 320.7681 b0 = [3.6471999] b1 = [0.42308417] l_sigma = [3.0958977] dL/db0 =  [-0.00588989] dL/db1 =  [0.00071716] dL/dlsigma =  [-0.00582886]\n",
      "Iteration =  17700 loglik  = 320.7681 b0 = [3.6471999] b1 = [0.42308417] l_sigma = [3.0958977] dL/db0 =  [-0.00588989] dL/db1 =  [0.00071716] dL/dlsigma =  [-0.00582886]\n",
      "Iteration =  17800 loglik  = 320.7681 b0 = [3.6471999] b1 = [0.42308417] l_sigma = [3.0958977] dL/db0 =  [-0.00588989] dL/db1 =  [0.00071716] dL/dlsigma =  [-0.00582886]\n",
      "Iteration =  17900 loglik  = 320.7681 b0 = [3.6471999] b1 = [0.42308417] l_sigma = [3.0958977] dL/db0 =  [-0.00588989] dL/db1 =  [0.00071716] dL/dlsigma =  [-0.00582886]\n",
      "Iteration =  18000 loglik  = 320.7681 b0 = [3.6471999] b1 = [0.42308417] l_sigma = [3.0958977] dL/db0 =  [-0.00588989] dL/db1 =  [0.00071716] dL/dlsigma =  [-0.00582886]\n",
      "Iteration =  18100 loglik  = 320.7681 b0 = [3.6471999] b1 = [0.42308417] l_sigma = [3.0958977] dL/db0 =  [-0.00588989] dL/db1 =  [0.00071716] dL/dlsigma =  [-0.00582886]\n",
      "Iteration =  18200 loglik  = 320.7681 b0 = [3.6471999] b1 = [0.42308417] l_sigma = [3.0958977] dL/db0 =  [-0.00588989] dL/db1 =  [0.00071716] dL/dlsigma =  [-0.00582886]\n",
      "Iteration =  18300 loglik  = 320.7681 b0 = [3.6471999] b1 = [0.42308417] l_sigma = [3.0958977] dL/db0 =  [-0.00588989] dL/db1 =  [0.00071716] dL/dlsigma =  [-0.00582886]\n",
      "Iteration =  18400 loglik  = 320.7681 b0 = [3.6471999] b1 = [0.42308417] l_sigma = [3.0958977] dL/db0 =  [-0.00588989] dL/db1 =  [0.00071716] dL/dlsigma =  [-0.00582886]\n",
      "Iteration =  18500 loglik  = 320.7681 b0 = [3.6471999] b1 = [0.42308417] l_sigma = [3.0958977] dL/db0 =  [-0.00588989] dL/db1 =  [0.00071716] dL/dlsigma =  [-0.00582886]\n",
      "Iteration =  18600 loglik  = 320.7681 b0 = [3.6471999] b1 = [0.42308417] l_sigma = [3.0958977] dL/db0 =  [-0.00588989] dL/db1 =  [0.00071716] dL/dlsigma =  [-0.00582886]\n",
      "Iteration =  18700 loglik  = 320.7681 b0 = [3.6471999] b1 = [0.42308417] l_sigma = [3.0958977] dL/db0 =  [-0.00588989] dL/db1 =  [0.00071716] dL/dlsigma =  [-0.00582886]\n",
      "Iteration =  18800 loglik  = 320.7681 b0 = [3.6471999] b1 = [0.42308417] l_sigma = [3.0958977] dL/db0 =  [-0.00588989] dL/db1 =  [0.00071716] dL/dlsigma =  [-0.00582886]\n",
      "Iteration =  18900 loglik  = 320.7681 b0 = [3.6471999] b1 = [0.42308417] l_sigma = [3.0958977] dL/db0 =  [-0.00588989] dL/db1 =  [0.00071716] dL/dlsigma =  [-0.00582886]\n",
      "Iteration =  19000 loglik  = 320.7681 b0 = [3.6471999] b1 = [0.42308417] l_sigma = [3.0958977] dL/db0 =  [-0.00588989] dL/db1 =  [0.00071716] dL/dlsigma =  [-0.00582886]\n",
      "Iteration =  19100 loglik  = 320.7681 b0 = [3.6471999] b1 = [0.42308417] l_sigma = [3.0958977] dL/db0 =  [-0.00588989] dL/db1 =  [0.00071716] dL/dlsigma =  [-0.00582886]\n",
      "Iteration =  19200 loglik  = 320.7681 b0 = [3.6471999] b1 = [0.42308417] l_sigma = [3.0958977] dL/db0 =  [-0.00588989] dL/db1 =  [0.00071716] dL/dlsigma =  [-0.00582886]\n",
      "Iteration =  19300 loglik  = 320.7681 b0 = [3.6471999] b1 = [0.42308417] l_sigma = [3.0958977] dL/db0 =  [-0.00588989] dL/db1 =  [0.00071716] dL/dlsigma =  [-0.00582886]\n",
      "Iteration =  19400 loglik  = 320.7681 b0 = [3.6471999] b1 = [0.42308417] l_sigma = [3.0958977] dL/db0 =  [-0.00588989] dL/db1 =  [0.00071716] dL/dlsigma =  [-0.00582886]\n",
      "Iteration =  19500 loglik  = 320.7681 b0 = [3.6471999] b1 = [0.42308417] l_sigma = [3.0958977] dL/db0 =  [-0.00588989] dL/db1 =  [0.00071716] dL/dlsigma =  [-0.00582886]\n",
      "Iteration =  19600 loglik  = 320.7681 b0 = [3.6471999] b1 = [0.42308417] l_sigma = [3.0958977] dL/db0 =  [-0.00588989] dL/db1 =  [0.00071716] dL/dlsigma =  [-0.00582886]\n",
      "Iteration =  19700 loglik  = 320.7681 b0 = [3.6471999] b1 = [0.42308417] l_sigma = [3.0958977] dL/db0 =  [-0.00588989] dL/db1 =  [0.00071716] dL/dlsigma =  [-0.00582886]\n",
      "Iteration =  19800 loglik  = 320.7681 b0 = [3.6471999] b1 = [0.42308417] l_sigma = [3.0958977] dL/db0 =  [-0.00588989] dL/db1 =  [0.00071716] dL/dlsigma =  [-0.00582886]\n"
     ]
    },
    {
     "name": "stdout",
     "output_type": "stream",
     "text": [
      "Iteration =  19900 loglik  = 320.7681 b0 = [3.6471999] b1 = [0.42308417] l_sigma = [3.0958977] dL/db0 =  [-0.00588989] dL/db1 =  [0.00071716] dL/dlsigma =  [-0.00582886]\n"
     ]
    }
   ],
   "source": [
    "## Learning rate\n",
    "learning_rate_b0 = 2e-5\n",
    "learning_rate_b1 = 2e-5\n",
    "learning_rate_sigma = 2e-5\n",
    "\n",
    "## Training loop\n",
    "for t in range(20000):\n",
    "    ## Backprop on negative log likelihood loss\n",
    "    NLLnb2 = negbin2_nll(x=x, y=y, b0=b0, b1=b1, log_sigma=l_sigma)\n",
    "    NLLnb2.backward()\n",
    "    ## Logging to console\n",
    "    if t % 100 == 0:\n",
    "        print(\"Iteration = \", t, \n",
    "              \"loglik  =\", NLLnb2.data.numpy(), \n",
    "              \"b0 =\", b0.data.numpy(), \n",
    "              \"b1 =\", b1.data.numpy(), \n",
    "              \"l_sigma =\", l_sigma.data.numpy(), \n",
    "              \"dL/db0 = \", b0.grad.data.numpy(),\n",
    "              \"dL/db1 = \", b1.grad.data.numpy(),\n",
    "              \"dL/dlsigma = \", l_sigma.grad.data.numpy()\n",
    "             )\n",
    "    ## SGD update of parms\n",
    "    # b0.data -= learning_rate_b0 * torch.clamp(b0.grad.data, -1, 1)\n",
    "    # b1.data -= learning_rate_b1 * torch.clamp(b1.grad.data, -1, 1)\n",
    "    # l_sigma.data -= learning_rate_sigma * torch.clamp(l_sigma.grad.data, -1, 1)\n",
    "    b0.data -= learning_rate_b0 * b0.grad.data\n",
    "    b1.data -= learning_rate_b1 * b1.grad.data\n",
    "    l_sigma.data -= learning_rate_sigma * l_sigma.grad.data\n",
    "    ## Zero the gradients\n",
    "    b0.grad.data.zero_()\n",
    "    b1.grad.data.zero_()\n",
    "    l_sigma.grad.data.zero_()\n",
    "    "
   ]
  },
  {
   "cell_type": "code",
   "execution_count": 19,
   "metadata": {},
   "outputs": [
    {
     "data": {
      "text/plain": [
       "[array([3.6471999], dtype=float32),\n",
       " array([0.42308417], dtype=float32),\n",
       " array([3.0958977], dtype=float32)]"
      ]
     },
     "execution_count": 19,
     "metadata": {},
     "output_type": "execute_result"
    }
   ],
   "source": [
    "## Final estimate of NB2 regression parms: {b0,b1}\n",
    "[b0.data.numpy(), b1.data.numpy(), l_sigma.data.numpy()]"
   ]
  },
  {
   "cell_type": "code",
   "execution_count": 20,
   "metadata": {},
   "outputs": [],
   "source": [
    "## Compare above NB2 regression estimates obtained from NB2 SGD; against those from GAMLSS package \n",
    "## Note: we NEED to scale the covariate/feature vector \"x\" (lake-size), in order to obtain reasonable parm estimates (convergence, etc.)"
   ]
  },
  {
   "cell_type": "code",
   "execution_count": 21,
   "metadata": {},
   "outputs": [
    {
     "data": {
      "text/plain": [
       "''"
      ]
     },
     "execution_count": 21,
     "metadata": {},
     "output_type": "execute_result"
    }
   ],
   "source": [
    "'''\n",
    "> ## NBII Model\n",
    "> library(gamlss)\n",
    "\n",
    "> R_NBII <- gamlss(fish ~ scale_x, data = species, family = \"NBII\")\n",
    "GAMLSS-RS iteration 1: Global Deviance = 649.8994 \n",
    "GAMLSS-RS iteration 2: Global Deviance = 643.0438 \n",
    "GAMLSS-RS iteration 3: Global Deviance = 641.7008 \n",
    "GAMLSS-RS iteration 4: Global Deviance = 641.5498 \n",
    "GAMLSS-RS iteration 5: Global Deviance = 641.537 \n",
    "GAMLSS-RS iteration 6: Global Deviance = 641.536 \n",
    "GAMLSS-RS iteration 7: Global Deviance = 641.5359 \n",
    "> summary(R_NBII)\n",
    "******************************************************************\n",
    "Family:  c(\"NBII\", \"Negative Binomial type II\") \n",
    "\n",
    "Call:  gamlss(formula = fish ~ scale_x, family = \"NBII\", data = species) \n",
    "\n",
    "Fitting method: RS() \n",
    "\n",
    "------------------------------------------------------------------\n",
    "Mu link function:  log\n",
    "Mu Coefficients:\n",
    "            Estimate Std. Error t value             Pr(>|t|)    \n",
    "(Intercept)  3.64771    0.09587  38.049 < 0.0000000000000002 ***\n",
    "scale_x      0.42279    0.09233   4.579            0.0000208 ***\n",
    "---\n",
    "Signif. codes:  0 ‘***’ 0.001 ‘**’ 0.01 ‘*’ 0.05 ‘.’ 0.1 ‘ ’ 1\n",
    "\n",
    "------------------------------------------------------------------\n",
    "Sigma link function:  log\n",
    "Sigma Coefficients:\n",
    "            Estimate Std. Error t value            Pr(>|t|)    \n",
    "(Intercept)   3.0968     0.1918   16.15 <0.0000000000000002 ***\n",
    "---\n",
    "Signif. codes:  0 ‘***’ 0.001 ‘**’ 0.01 ‘*’ 0.05 ‘.’ 0.1 ‘ ’ 1\n",
    "\n",
    "------------------------------------------------------------------\n",
    "No. of observations in the fit:  70 \n",
    "Degrees of Freedom for the fit:  3\n",
    "      Residual Deg. of Freedom:  67 \n",
    "                      at cycle:  7 \n",
    " \n",
    "Global Deviance:     641.5359 \n",
    "            AIC:     647.5359 \n",
    "            SBC:     654.2813 \n",
    "******************************************************************\n",
    "'''\n",
    ";"
   ]
  },
  {
   "cell_type": "code",
   "execution_count": null,
   "metadata": {},
   "outputs": [],
   "source": []
  },
  {
   "cell_type": "code",
   "execution_count": null,
   "metadata": {},
   "outputs": [],
   "source": []
  },
  {
   "cell_type": "code",
   "execution_count": null,
   "metadata": {},
   "outputs": [],
   "source": []
  },
  {
   "cell_type": "code",
   "execution_count": 22,
   "metadata": {},
   "outputs": [
    {
     "name": "stdout",
     "output_type": "stream",
     "text": [
      "-----\n",
      "numpy       1.20.3\n",
      "pandas      1.3.1\n",
      "sinfo       0.3.1\n",
      "torch       1.9.0\n",
      "-----\n",
      "IPython             7.26.0\n",
      "jupyter_client      6.1.12\n",
      "jupyter_core        4.7.1\n",
      "jupyterlab          3.1.7\n",
      "notebook            6.4.3\n",
      "-----\n",
      "Python 3.9.6 (default, Aug 18 2021, 15:44:49) [MSC v.1916 64 bit (AMD64)]\n",
      "Windows-10-10.0.19042-SP0\n",
      "8 logical CPU cores, Intel64 Family 6 Model 126 Stepping 5, GenuineIntel\n",
      "-----\n",
      "Session information updated at 2021-08-21 02:13\n"
     ]
    }
   ],
   "source": [
    "########################\n",
    "## Print session info to console \n",
    "########################\n",
    "sinfo()"
   ]
  },
  {
   "cell_type": "code",
   "execution_count": null,
   "metadata": {},
   "outputs": [],
   "source": []
  }
 ],
 "metadata": {
  "colab": {
   "authorship_tag": "ABX9TyP+Y2qdOHz9LLr9FTwsBagp",
   "collapsed_sections": [],
   "name": "PyTorch_CountDistMLEs_SpeciesDatasetExample.ipynb",
   "provenance": [
    {
     "file_id": "1XRwZ_jQyySdAa4a4jZ7VwYuLWtRaz4f2",
     "timestamp": 1625988939591
    },
    {
     "file_id": "1Q-GUXkWcqMJjpF_OgecQBUA7ZEGBLkXw",
     "timestamp": 1625986377347
    },
    {
     "file_id": "1UVQOt_noxCtpcDVvyBz6GPuDTD3XPTCZ",
     "timestamp": 1625983790664
    }
   ]
  },
  "kernelspec": {
   "display_name": "Python 3",
   "language": "python",
   "name": "python3"
  },
  "language_info": {
   "codemirror_mode": {
    "name": "ipython",
    "version": 3
   },
   "file_extension": ".py",
   "mimetype": "text/x-python",
   "name": "python",
   "nbconvert_exporter": "python",
   "pygments_lexer": "ipython3",
   "version": "3.9.6"
  }
 },
 "nbformat": 4,
 "nbformat_minor": 1
}
