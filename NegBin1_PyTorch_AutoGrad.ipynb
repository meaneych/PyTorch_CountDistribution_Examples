{
 "cells": [
  {
   "cell_type": "code",
   "execution_count": 1,
   "metadata": {
    "executionInfo": {
     "elapsed": 131,
     "status": "ok",
     "timestamp": 1626061355643,
     "user": {
      "displayName": "Christopher Meaney",
      "photoUrl": "https://lh3.googleusercontent.com/a-/AOh14GhKFFOwHDdeq1jGbaX8XCVSLMIXialpqKx1BEbX=s64",
      "userId": "15619654579218208651"
     },
     "user_tz": 240
    },
    "id": "siMpwITBI_fM"
   },
   "outputs": [],
   "source": [
    "###############################################\n",
    "## PyTorch Negative-Binomial-1 Distribution Likelihood Optimization Examples\n",
    "## Author: Chris Meaney\n",
    "## Date: August 2021\n",
    "###############################################"
   ]
  },
  {
   "cell_type": "code",
   "execution_count": 2,
   "metadata": {
    "executionInfo": {
     "elapsed": 3998,
     "status": "ok",
     "timestamp": 1626061359965,
     "user": {
      "displayName": "Christopher Meaney",
      "photoUrl": "https://lh3.googleusercontent.com/a-/AOh14GhKFFOwHDdeq1jGbaX8XCVSLMIXialpqKx1BEbX=s64",
      "userId": "15619654579218208651"
     },
     "user_tz": 240
    },
    "id": "E4ozfC7PJCqf"
   },
   "outputs": [],
   "source": [
    "## Dependency modules\n",
    "import numpy as np\n",
    "import pandas as pd\n",
    "import torch\n",
    "from sinfo import sinfo"
   ]
  },
  {
   "cell_type": "code",
   "execution_count": 3,
   "metadata": {
    "colab": {
     "base_uri": "https://localhost:8080/",
     "height": 526
    },
    "executionInfo": {
     "elapsed": 22643,
     "status": "ok",
     "timestamp": 1626061382604,
     "user": {
      "displayName": "Christopher Meaney",
      "photoUrl": "https://lh3.googleusercontent.com/a-/AOh14GhKFFOwHDdeq1jGbaX8XCVSLMIXialpqKx1BEbX=s64",
      "userId": "15619654579218208651"
     },
     "user_tz": 240
    },
    "id": "wFUABrptfuuu",
    "outputId": "9b5d096e-a385-4108-c72f-5c04f0c3260d"
   },
   "outputs": [
    {
     "data": {
      "text/html": [
       "<div>\n",
       "<style scoped>\n",
       "    .dataframe tbody tr th:only-of-type {\n",
       "        vertical-align: middle;\n",
       "    }\n",
       "\n",
       "    .dataframe tbody tr th {\n",
       "        vertical-align: top;\n",
       "    }\n",
       "\n",
       "    .dataframe thead th {\n",
       "        text-align: right;\n",
       "    }\n",
       "</style>\n",
       "<table border=\"1\" class=\"dataframe\">\n",
       "  <thead>\n",
       "    <tr style=\"text-align: right;\">\n",
       "      <th></th>\n",
       "      <th>fish</th>\n",
       "      <th>lake</th>\n",
       "      <th>x</th>\n",
       "      <th>scale_x</th>\n",
       "    </tr>\n",
       "  </thead>\n",
       "  <tbody>\n",
       "    <tr>\n",
       "      <th>0</th>\n",
       "      <td>10</td>\n",
       "      <td>5</td>\n",
       "      <td>1.609438</td>\n",
       "      <td>-1.533430</td>\n",
       "    </tr>\n",
       "    <tr>\n",
       "      <th>1</th>\n",
       "      <td>37</td>\n",
       "      <td>41</td>\n",
       "      <td>3.713572</td>\n",
       "      <td>-0.901903</td>\n",
       "    </tr>\n",
       "    <tr>\n",
       "      <th>2</th>\n",
       "      <td>60</td>\n",
       "      <td>171</td>\n",
       "      <td>5.141664</td>\n",
       "      <td>-0.473281</td>\n",
       "    </tr>\n",
       "    <tr>\n",
       "      <th>3</th>\n",
       "      <td>113</td>\n",
       "      <td>25719</td>\n",
       "      <td>10.154985</td>\n",
       "      <td>1.031399</td>\n",
       "    </tr>\n",
       "    <tr>\n",
       "      <th>4</th>\n",
       "      <td>99</td>\n",
       "      <td>59596</td>\n",
       "      <td>10.995344</td>\n",
       "      <td>1.283621</td>\n",
       "    </tr>\n",
       "    <tr>\n",
       "      <th>5</th>\n",
       "      <td>13</td>\n",
       "      <td>1</td>\n",
       "      <td>0.000000</td>\n",
       "      <td>-2.016481</td>\n",
       "    </tr>\n",
       "    <tr>\n",
       "      <th>6</th>\n",
       "      <td>30</td>\n",
       "      <td>44</td>\n",
       "      <td>3.784190</td>\n",
       "      <td>-0.880708</td>\n",
       "    </tr>\n",
       "    <tr>\n",
       "      <th>7</th>\n",
       "      <td>114</td>\n",
       "      <td>58016</td>\n",
       "      <td>10.968474</td>\n",
       "      <td>1.275556</td>\n",
       "    </tr>\n",
       "    <tr>\n",
       "      <th>8</th>\n",
       "      <td>112</td>\n",
       "      <td>19477</td>\n",
       "      <td>9.876990</td>\n",
       "      <td>0.947962</td>\n",
       "    </tr>\n",
       "    <tr>\n",
       "      <th>9</th>\n",
       "      <td>17</td>\n",
       "      <td>10</td>\n",
       "      <td>2.302585</td>\n",
       "      <td>-1.325392</td>\n",
       "    </tr>\n",
       "    <tr>\n",
       "      <th>10</th>\n",
       "      <td>10</td>\n",
       "      <td>85</td>\n",
       "      <td>4.442651</td>\n",
       "      <td>-0.683080</td>\n",
       "    </tr>\n",
       "    <tr>\n",
       "      <th>11</th>\n",
       "      <td>14</td>\n",
       "      <td>1</td>\n",
       "      <td>0.000000</td>\n",
       "      <td>-2.016481</td>\n",
       "    </tr>\n",
       "    <tr>\n",
       "      <th>12</th>\n",
       "      <td>39</td>\n",
       "      <td>174</td>\n",
       "      <td>5.159055</td>\n",
       "      <td>-0.468061</td>\n",
       "    </tr>\n",
       "    <tr>\n",
       "      <th>13</th>\n",
       "      <td>14</td>\n",
       "      <td>3</td>\n",
       "      <td>1.098612</td>\n",
       "      <td>-1.686748</td>\n",
       "    </tr>\n",
       "    <tr>\n",
       "      <th>14</th>\n",
       "      <td>14</td>\n",
       "      <td>54</td>\n",
       "      <td>3.988984</td>\n",
       "      <td>-0.819242</td>\n",
       "    </tr>\n",
       "  </tbody>\n",
       "</table>\n",
       "</div>"
      ],
      "text/plain": [
       "    fish   lake          x   scale_x\n",
       "0     10      5   1.609438 -1.533430\n",
       "1     37     41   3.713572 -0.901903\n",
       "2     60    171   5.141664 -0.473281\n",
       "3    113  25719  10.154985  1.031399\n",
       "4     99  59596  10.995344  1.283621\n",
       "5     13      1   0.000000 -2.016481\n",
       "6     30     44   3.784190 -0.880708\n",
       "7    114  58016  10.968474  1.275556\n",
       "8    112  19477   9.876990  0.947962\n",
       "9     17     10   2.302585 -1.325392\n",
       "10    10     85   4.442651 -0.683080\n",
       "11    14      1   0.000000 -2.016481\n",
       "12    39    174   5.159055 -0.468061\n",
       "13    14      3   1.098612 -1.686748\n",
       "14    14     54   3.988984 -0.819242"
      ]
     },
     "execution_count": 3,
     "metadata": {},
     "output_type": "execute_result"
    }
   ],
   "source": [
    "##########################################################\n",
    "## Use pandas to import data, and store as data.frame\n",
    "## Data are 1) response/target variable (number of fish = count random variable), 2) lake size (single continous feature/predictor)\n",
    "##########################################################\n",
    "dat = pd.read_csv('C://Users//ChristopherMeaney//Desktop//PyTorch_Stuff//pytorch_count_dists//species.csv', encoding='latin1')\n",
    "dat.head(n=15)"
   ]
  },
  {
   "cell_type": "code",
   "execution_count": 4,
   "metadata": {
    "colab": {
     "base_uri": "https://localhost:8080/"
    },
    "executionInfo": {
     "elapsed": 14,
     "status": "ok",
     "timestamp": 1626061382606,
     "user": {
      "displayName": "Christopher Meaney",
      "photoUrl": "https://lh3.googleusercontent.com/a-/AOh14GhKFFOwHDdeq1jGbaX8XCVSLMIXialpqKx1BEbX=s64",
      "userId": "15619654579218208651"
     },
     "user_tz": 240
    },
    "id": "5-Hzlh2yJCvy",
    "outputId": "211689d5-e4ef-4c31-9aaa-25f0f8ef16ab"
   },
   "outputs": [
    {
     "data": {
      "text/plain": [
       "count     70.000000\n",
       "mean      41.742857\n",
       "std       47.849609\n",
       "min        5.000000\n",
       "25%       14.000000\n",
       "50%       21.500000\n",
       "75%       47.500000\n",
       "max      245.000000\n",
       "Name: fish, dtype: float64"
      ]
     },
     "execution_count": 4,
     "metadata": {},
     "output_type": "execute_result"
    }
   ],
   "source": [
    "## Describe the data\n",
    "dat.fish.describe()"
   ]
  },
  {
   "cell_type": "code",
   "execution_count": 5,
   "metadata": {},
   "outputs": [
    {
     "data": {
      "text/plain": [
       "41.74285714285714"
      ]
     },
     "execution_count": 5,
     "metadata": {},
     "output_type": "execute_result"
    }
   ],
   "source": [
    "mu_ = dat.fish.mean()\n",
    "mu_"
   ]
  },
  {
   "cell_type": "code",
   "execution_count": 6,
   "metadata": {},
   "outputs": [
    {
     "data": {
      "text/plain": [
       "47.84960912241293"
      ]
     },
     "execution_count": 6,
     "metadata": {},
     "output_type": "execute_result"
    }
   ],
   "source": [
    "sigma_ = np.sqrt(dat.fish.var())\n",
    "sigma_"
   ]
  },
  {
   "cell_type": "code",
   "execution_count": null,
   "metadata": {
    "executionInfo": {
     "elapsed": 11,
     "status": "ok",
     "timestamp": 1626061382607,
     "user": {
      "displayName": "Christopher Meaney",
      "photoUrl": "https://lh3.googleusercontent.com/a-/AOh14GhKFFOwHDdeq1jGbaX8XCVSLMIXialpqKx1BEbX=s64",
      "userId": "15619654579218208651"
     },
     "user_tz": 240
    },
    "id": "TjFl0euzh5Vv"
   },
   "outputs": [],
   "source": []
  },
  {
   "cell_type": "code",
   "execution_count": null,
   "metadata": {
    "executionInfo": {
     "elapsed": 12,
     "status": "ok",
     "timestamp": 1626061382609,
     "user": {
      "displayName": "Christopher Meaney",
      "photoUrl": "https://lh3.googleusercontent.com/a-/AOh14GhKFFOwHDdeq1jGbaX8XCVSLMIXialpqKx1BEbX=s64",
      "userId": "15619654579218208651"
     },
     "user_tz": 240
    },
    "id": "2WqxGcT8h5er"
   },
   "outputs": [],
   "source": []
  },
  {
   "cell_type": "code",
   "execution_count": null,
   "metadata": {
    "executionInfo": {
     "elapsed": 22,
     "status": "ok",
     "timestamp": 1626061386814,
     "user": {
      "displayName": "Christopher Meaney",
      "photoUrl": "https://lh3.googleusercontent.com/a-/AOh14GhKFFOwHDdeq1jGbaX8XCVSLMIXialpqKx1BEbX=s64",
      "userId": "15619654579218208651"
     },
     "user_tz": 240
    },
    "id": "wW_zwnxbiGvo"
   },
   "outputs": [],
   "source": []
  },
  {
   "cell_type": "code",
   "execution_count": 7,
   "metadata": {
    "executionInfo": {
     "elapsed": 21,
     "status": "ok",
     "timestamp": 1626061386815,
     "user": {
      "displayName": "Christopher Meaney",
      "photoUrl": "https://lh3.googleusercontent.com/a-/AOh14GhKFFOwHDdeq1jGbaX8XCVSLMIXialpqKx1BEbX=s64",
      "userId": "15619654579218208651"
     },
     "user_tz": 240
    },
    "id": "ybnBeDPIiGyZ"
   },
   "outputs": [],
   "source": [
    "################################################\n",
    "## NB1 Model\n",
    "################################################"
   ]
  },
  {
   "cell_type": "code",
   "execution_count": 8,
   "metadata": {
    "executionInfo": {
     "elapsed": 20,
     "status": "ok",
     "timestamp": 1626061386816,
     "user": {
      "displayName": "Christopher Meaney",
      "photoUrl": "https://lh3.googleusercontent.com/a-/AOh14GhKFFOwHDdeq1jGbaX8XCVSLMIXialpqKx1BEbX=s64",
      "userId": "15619654579218208651"
     },
     "user_tz": 240
    },
    "id": "uyN5EQjpiG1G"
   },
   "outputs": [],
   "source": [
    "## Instantiate data tensor, and variable for (NB1) model parameters\n",
    "x = torch.autograd.Variable(torch.from_numpy(dat.fish.to_numpy())).type(torch.FloatTensor)\n",
    "l_mu = torch.autograd.Variable(torch.rand(1), requires_grad=True)\n",
    "l_sigma = torch.autograd.Variable(torch.rand(1), requires_grad=True) \n",
    "## Note: nb1 mean/sigma parm are on log-scale\n",
    "## Note: this seems to accelerate convergence; especially for sigma-parm"
   ]
  },
  {
   "cell_type": "code",
   "execution_count": 9,
   "metadata": {},
   "outputs": [],
   "source": [
    "def negbin1_nll(x, log_mu, log_sigma):\n",
    "    nll = (\n",
    "    -torch.sum( torch.lgamma(x + 1/torch.exp(log_sigma)) \n",
    "    - torch.lgamma(1/torch.exp(log_sigma)) \n",
    "    - torch.lgamma(x+1) \n",
    "    + x*torch.log((torch.exp(log_sigma)*torch.exp(log_mu))/(1 + torch.exp(log_sigma)*torch.exp(log_mu))) \n",
    "    + (1/torch.exp(log_sigma))*torch.log(1/(1 + torch.exp(log_sigma)*torch.exp(log_mu))) )\n",
    "    )\n",
    "    return nll"
   ]
  },
  {
   "cell_type": "code",
   "execution_count": 10,
   "metadata": {
    "colab": {
     "base_uri": "https://localhost:8080/"
    },
    "executionInfo": {
     "elapsed": 12120,
     "status": "ok",
     "timestamp": 1626061398917,
     "user": {
      "displayName": "Christopher Meaney",
      "photoUrl": "https://lh3.googleusercontent.com/a-/AOh14GhKFFOwHDdeq1jGbaX8XCVSLMIXialpqKx1BEbX=s64",
      "userId": "15619654579218208651"
     },
     "user_tz": 240
    },
    "id": "7vw4i30XiPt0",
    "outputId": "4e1b14b8-b6ec-42e9-eaa3-bd571f83bb77"
   },
   "outputs": [
    {
     "name": "stdout",
     "output_type": "stream",
     "text": [
      "Iteration =  0 loglik  = 1752.426 lmu = [0.22673309] lsigma = [0.01673245] dL/dlmu =  [-1245.4331] dL/dlsigma =  [-1031.3241]\n",
      "Iteration =  1000 loglik  = 372.81244 lmu = [2.7877162] lsigma = [1.0422134] dL/dlmu =  [-37.9292] dL/dlsigma =  [21.111374]\n",
      "Iteration =  2000 loglik  = 346.42648 lmu = [3.33155] lsigma = [0.5725937] dL/dlmu =  [-19.034668] dL/dlsigma =  [22.862778]\n",
      "Iteration =  3000 loglik  = 335.03677 lmu = [3.5962446] lsigma = [0.18257956] dL/dlmu =  [-8.2595215] dL/dlsigma =  [15.662231]\n",
      "Iteration =  4000 loglik  = 331.5428 lmu = [3.696501] lsigma = [-0.05634008] dL/dlmu =  [-2.5725098] dL/dlsigma =  [8.609451]\n",
      "Iteration =  5000 loglik  = 330.69653 lmu = [3.7241726] lsigma = [-0.18045595] dL/dlmu =  [-0.6015625] dL/dlsigma =  [4.2368774]\n",
      "Iteration =  6000 loglik  = 330.50873 lmu = [3.7301686] lsigma = [-0.24003156] dL/dlmu =  [-0.11743164] dL/dlsigma =  [1.9847107]\n",
      "Iteration =  7000 loglik  = 330.46844 lmu = [3.73129] lsigma = [-0.2676252] dL/dlmu =  [-0.02124023] dL/dlsigma =  [0.9086304]\n",
      "Iteration =  8000 loglik  = 330.4599 lmu = [3.731468] lsigma = [-0.2801976] dL/dlmu =  [-0.00537109] dL/dlsigma =  [0.4118042]\n",
      "Iteration =  9000 loglik  = 330.45828 lmu = [3.7314692] lsigma = [-0.2858824] dL/dlmu =  [-0.00512695] dL/dlsigma =  [0.18591309]\n",
      "Iteration =  10000 loglik  = 330.45798 lmu = [3.7314696] lsigma = [-0.28844395] dL/dlmu =  [-0.00512695] dL/dlsigma =  [0.08380127]\n",
      "Iteration =  11000 loglik  = 330.4573 lmu = [3.7314699] lsigma = [-0.28959653] dL/dlmu =  [-0.00537109] dL/dlsigma =  [0.0378418]\n",
      "Iteration =  12000 loglik  = 330.45786 lmu = [3.7314699] lsigma = [-0.2901143] dL/dlmu =  [-0.00488281] dL/dlsigma =  [0.01699829]\n",
      "Iteration =  13000 loglik  = 330.45807 lmu = [3.7314699] lsigma = [-0.29034725] dL/dlmu =  [-0.00537109] dL/dlsigma =  [0.00738525]\n",
      "Iteration =  14000 loglik  = 330.4577 lmu = [3.7314703] lsigma = [-0.29045162] dL/dlmu =  [-0.00463867] dL/dlsigma =  [0.00378418]\n",
      "Iteration =  15000 loglik  = 330.45776 lmu = [3.7314703] lsigma = [-0.2904967] dL/dlmu =  [-0.00488281] dL/dlsigma =  [0.00186157]\n",
      "Iteration =  16000 loglik  = 330.4581 lmu = [3.7314703] lsigma = [-0.29050773] dL/dlmu =  [-0.00561523] dL/dlsigma =  [0.00054932]\n",
      "Iteration =  17000 loglik  = 330.4581 lmu = [3.7314703] lsigma = [-0.29050773] dL/dlmu =  [-0.00561523] dL/dlsigma =  [0.00054932]\n",
      "Iteration =  18000 loglik  = 330.4581 lmu = [3.7314703] lsigma = [-0.29050773] dL/dlmu =  [-0.00561523] dL/dlsigma =  [0.00054932]\n",
      "Iteration =  19000 loglik  = 330.4581 lmu = [3.7314703] lsigma = [-0.29050773] dL/dlmu =  [-0.00561523] dL/dlsigma =  [0.00054932]\n"
     ]
    }
   ],
   "source": [
    "## Learning rate\n",
    "learning_rate_mu = 2e-5\n",
    "learning_rate_sigma = 2e-5\n",
    "\n",
    "## Training loop\n",
    "for t in range(20000):\n",
    "    ## Backprop on negative log likelihood loss\n",
    "    #NLLnb1 = -torch.sum( torch.lgamma(xnb1 + 1/torch.exp(l_snb1)) \n",
    "    #                    - torch.lgamma(1/torch.exp(l_snb1)) \n",
    "    #                    - torch.lgamma(xnb1+1) \n",
    "    #                    + xnb1*torch.log((torch.exp(l_snb1)*torch.exp(l_mnb1))/(1 + torch.exp(l_snb1)*torch.exp(l_mnb1))) \n",
    "    #                    + (1/torch.exp(l_snb1))*torch.log(1/(1 + torch.exp(l_snb1)*torch.exp(l_mnb1))) )\n",
    "    NLLnb1 = negbin1_nll(x=x, log_mu=l_mu, log_sigma=l_sigma)\n",
    "    NLLnb1.backward()\n",
    "    ## Logging to console\n",
    "    if t % 1000 == 0:\n",
    "        print(\"Iteration = \", t, \n",
    "              \"loglik  =\", NLLnb1.data.numpy(), \n",
    "              \"lmu =\", l_mu.data.numpy(), \n",
    "              \"lsigma =\", l_sigma.data.numpy(), \n",
    "              \"dL/dlmu = \", l_mu.grad.data.numpy(), \n",
    "              \"dL/dlsigma = \", l_sigma.grad.data.numpy())\n",
    "    ## SGD update of parms\n",
    "    l_mu.data -= learning_rate_mu * l_mu.grad.data\n",
    "    l_sigma.data -= learning_rate_sigma * l_sigma.grad.data\n",
    "    ## Zero the gradients\n",
    "    l_mu.grad.data.zero_()\n",
    "    l_sigma.grad.data.zero_()\n"
   ]
  },
  {
   "cell_type": "code",
   "execution_count": 11,
   "metadata": {
    "colab": {
     "base_uri": "https://localhost:8080/"
    },
    "executionInfo": {
     "elapsed": 24,
     "status": "ok",
     "timestamp": 1626061398923,
     "user": {
      "displayName": "Christopher Meaney",
      "photoUrl": "https://lh3.googleusercontent.com/a-/AOh14GhKFFOwHDdeq1jGbaX8XCVSLMIXialpqKx1BEbX=s64",
      "userId": "15619654579218208651"
     },
     "user_tz": 240
    },
    "id": "T2uhvaFGiUC8",
    "outputId": "283a51b4-c82e-4ec9-de96-faab4b3e64a4"
   },
   "outputs": [
    {
     "data": {
      "text/plain": [
       "[array([3.7314703], dtype=float32), array([41.740437], dtype=float32)]"
      ]
     },
     "execution_count": 11,
     "metadata": {},
     "output_type": "execute_result"
    }
   ],
   "source": [
    "## Final estimate of NB1 mean parm (on log scale, and mean scale)\n",
    "[l_mu.data.numpy(), np.exp(l_mu.data.numpy())]"
   ]
  },
  {
   "cell_type": "code",
   "execution_count": 12,
   "metadata": {
    "colab": {
     "base_uri": "https://localhost:8080/"
    },
    "executionInfo": {
     "elapsed": 20,
     "status": "ok",
     "timestamp": 1626061398924,
     "user": {
      "displayName": "Christopher Meaney",
      "photoUrl": "https://lh3.googleusercontent.com/a-/AOh14GhKFFOwHDdeq1jGbaX8XCVSLMIXialpqKx1BEbX=s64",
      "userId": "15619654579218208651"
     },
     "user_tz": 240
    },
    "id": "4SJyufoQiUF6",
    "outputId": "8cf4b331-0f52-4d05-aba7-b011c80164ca"
   },
   "outputs": [
    {
     "data": {
      "text/plain": [
       "[array([-0.29050773], dtype=float32), array([0.74788374], dtype=float32)]"
      ]
     },
     "execution_count": 12,
     "metadata": {},
     "output_type": "execute_result"
    }
   ],
   "source": [
    "## Final estimate of NB1 log-sigma parm (on log scale, and exponentiated scale)\n",
    "[l_sigma.data.numpy(), np.exp(l_sigma.data.numpy())]"
   ]
  },
  {
   "cell_type": "code",
   "execution_count": 13,
   "metadata": {
    "executionInfo": {
     "elapsed": 15,
     "status": "ok",
     "timestamp": 1626061398925,
     "user": {
      "displayName": "Christopher Meaney",
      "photoUrl": "https://lh3.googleusercontent.com/a-/AOh14GhKFFOwHDdeq1jGbaX8XCVSLMIXialpqKx1BEbX=s64",
      "userId": "15619654579218208651"
     },
     "user_tz": 240
    },
    "id": "fWTO19HeiUI5"
   },
   "outputs": [],
   "source": [
    "## Compare against \"intercept only\" Negative Binomial 1 regression model"
   ]
  },
  {
   "cell_type": "code",
   "execution_count": 14,
   "metadata": {},
   "outputs": [
    {
     "data": {
      "text/plain": [
       "''"
      ]
     },
     "execution_count": 14,
     "metadata": {},
     "output_type": "execute_result"
    }
   ],
   "source": [
    "'''\n",
    "> library(gamlss)\n",
    "\n",
    "> R_NBI <- gamlss(fish ~ 1, data = species, family = \"NBI\")\n",
    "GAMLSS-RS iteration 1: Global Deviance = 660.9155 \n",
    "GAMLSS-RS iteration 2: Global Deviance = 660.9155 \n",
    "> summary(R_NBI)\n",
    "******************************************************************\n",
    "Family:  c(\"NBI\", \"Negative Binomial type I\") \n",
    "\n",
    "Call:  gamlss(formula = fish ~ 1, family = \"NBI\", data = species) \n",
    "\n",
    "Fitting method: RS() \n",
    "\n",
    "------------------------------------------------------------------\n",
    "Mu link function:  log\n",
    "Mu Coefficients:\n",
    "            Estimate Std. Error t value            Pr(>|t|)    \n",
    "(Intercept)    3.732      0.105   35.54 <0.0000000000000002 ***\n",
    "---\n",
    "Signif. codes:  0 ‘***’ 0.001 ‘**’ 0.01 ‘*’ 0.05 ‘.’ 0.1 ‘ ’ 1\n",
    "\n",
    "------------------------------------------------------------------\n",
    "Sigma link function:  log\n",
    "Sigma Coefficients:\n",
    "            Estimate Std. Error t value Pr(>|t|)  \n",
    "(Intercept)  -0.2906     0.1581  -1.838   0.0705 .\n",
    "---\n",
    "Signif. codes:  0 ‘***’ 0.001 ‘**’ 0.01 ‘*’ 0.05 ‘.’ 0.1 ‘ ’ 1\n",
    "\n",
    "------------------------------------------------------------------\n",
    "No. of observations in the fit:  70 \n",
    "Degrees of Freedom for the fit:  2\n",
    "      Residual Deg. of Freedom:  68 \n",
    "                      at cycle:  2 \n",
    " \n",
    "Global Deviance:     660.9155 \n",
    "            AIC:     664.9155 \n",
    "            SBC:     669.4125 \n",
    "******************************************************************\n",
    "'''\n",
    ";"
   ]
  },
  {
   "cell_type": "code",
   "execution_count": null,
   "metadata": {},
   "outputs": [],
   "source": []
  },
  {
   "cell_type": "code",
   "execution_count": null,
   "metadata": {},
   "outputs": [],
   "source": []
  },
  {
   "cell_type": "code",
   "execution_count": null,
   "metadata": {},
   "outputs": [],
   "source": []
  },
  {
   "cell_type": "code",
   "execution_count": 15,
   "metadata": {},
   "outputs": [],
   "source": [
    "################################\n",
    "## Extend above example to Negative Binomial 1 regression\n",
    "## y=Fish-count; x=Lake-size ==> y ~ b0 + b1*x\n",
    "## Goal is to estimate Negative Binomial 1 regression parms: {b0, b1}\n",
    "################################"
   ]
  },
  {
   "cell_type": "code",
   "execution_count": 16,
   "metadata": {},
   "outputs": [],
   "source": [
    "## Instantiate data tensor, and variable for (NB1) model parameters\n",
    "x = torch.autograd.Variable(torch.from_numpy(dat.scale_x.to_numpy())).type(torch.FloatTensor)\n",
    "y = torch.autograd.Variable(torch.from_numpy(dat.fish.to_numpy())).type(torch.FloatTensor)\n",
    "b0 = torch.autograd.Variable(torch.rand(1), requires_grad=True) \n",
    "b1 = torch.autograd.Variable(torch.rand(1), requires_grad=True) \n",
    "l_sigma = torch.autograd.Variable(torch.Tensor([-0.3]), requires_grad=True) "
   ]
  },
  {
   "cell_type": "code",
   "execution_count": 17,
   "metadata": {},
   "outputs": [],
   "source": [
    "def negbin1_nll(x, y, b0, b1, log_sigma):\n",
    "    nll = (\n",
    "    -torch.sum( torch.lgamma(y + 1/torch.exp(log_sigma)) \n",
    "    - torch.lgamma(1/torch.exp(log_sigma)) \n",
    "    - torch.lgamma(y+1) \n",
    "    + y*torch.log((torch.exp(log_sigma)*torch.exp(b0 + b1*x))/(1 + torch.exp(log_sigma)*torch.exp(b0 + b1*x))) \n",
    "    + (1/torch.exp(log_sigma))*torch.log(1/(1 + torch.exp(log_sigma)*torch.exp(b0 + b1*x))) )\n",
    "    )\n",
    "    return nll"
   ]
  },
  {
   "cell_type": "code",
   "execution_count": 18,
   "metadata": {},
   "outputs": [
    {
     "name": "stdout",
     "output_type": "stream",
     "text": [
      "Iteration =  0 loglik  = 1335.2981 b0 = [0.6129582] b1 = [0.50209737] l_sigma = [-0.3] dL/db0 =  [-990.9984] dL/db1 =  [-322.3601] dL/dlsigma =  [-748.3817]\n",
      "Iteration =  100 loglik  = 1294.9219 b0 = [0.63295555] b1 = [0.5220947] l_sigma = [-0.27999967] dL/db0 =  [-959.5194] dL/db1 =  [-295.56458] dL/dlsigma =  [-721.4824]\n",
      "Iteration =  200 loglik  = 1256.2261 b0 = [0.6529529] b1 = [0.5420921] l_sigma = [-0.25999933] dL/db0 =  [-928.78516] dL/db1 =  [-269.64697] dL/dlsigma =  [-695.25854]\n",
      "Iteration =  300 loglik  = 1219.1648 b0 = [0.67295027] b1 = [0.56208944] l_sigma = [-0.239999] dL/db0 =  [-898.8146] dL/db1 =  [-244.62207] dL/dlsigma =  [-669.7287]\n",
      "Iteration =  400 loglik  = 1183.6892 b0 = [0.6929476] b1 = [0.5820868] l_sigma = [-0.21999866] dL/db0 =  [-869.62305] dL/db1 =  [-220.49927] dL/dlsigma =  [-644.9076]\n",
      "Iteration =  500 loglik  = 1149.7524 b0 = [0.712945] b1 = [0.60208416] l_sigma = [-0.19999832] dL/db0 =  [-841.2217] dL/db1 =  [-197.28418] dL/dlsigma =  [-620.8064]\n",
      "Iteration =  600 loglik  = 1117.3058 b0 = [0.73294234] b1 = [0.6220815] l_sigma = [-0.17999798] dL/db0 =  [-813.61914] dL/db1 =  [-174.97778] dL/dlsigma =  [-597.43195]\n",
      "Iteration =  700 loglik  = 1086.2999 b0 = [0.7529397] b1 = [0.6420789] l_sigma = [-0.15999764] dL/db0 =  [-786.8196] dL/db1 =  [-153.57776] dL/dlsigma =  [-574.7892]\n",
      "Iteration =  800 loglik  = 1056.6864 b0 = [0.77293706] b1 = [0.66207623] l_sigma = [-0.1399973] dL/db0 =  [-760.8242] dL/db1 =  [-133.07825] dL/dlsigma =  [-552.88]\n",
      "Iteration =  900 loglik  = 1028.4167 b0 = [0.7929344] b1 = [0.6820736] l_sigma = [-0.11999696] dL/db0 =  [-735.63306] dL/db1 =  [-113.46973] dL/dlsigma =  [-531.7019]\n",
      "Iteration =  1000 loglik  = 1001.4425 b0 = [0.8129318] b1 = [0.70207095] l_sigma = [-0.09999663] dL/db0 =  [-711.24097] dL/db1 =  [-94.74048] dL/dlsigma =  [-511.25177]\n",
      "Iteration =  1100 loglik  = 975.7156 b0 = [0.83292913] b1 = [0.7220683] l_sigma = [-0.07999629] dL/db0 =  [-687.6426] dL/db1 =  [-76.87573] dL/dlsigma =  [-491.52264]\n",
      "Iteration =  1200 loglik  = 951.1891 b0 = [0.8529265] b1 = [0.74206567] l_sigma = [-0.059996] dL/db0 =  [-664.82886] dL/db1 =  [-59.858765] dL/dlsigma =  [-472.50598]\n",
      "Iteration =  1300 loglik  = 927.816 b0 = [0.87292385] b1 = [0.762063] l_sigma = [-0.03999603] dL/db0 =  [-642.7893] dL/db1 =  [-43.67102] dL/dlsigma =  [-454.19284]\n",
      "Iteration =  1400 loglik  = 905.5511 b0 = [0.8929212] b1 = [0.7820604] l_sigma = [-0.01999607] dL/db0 =  [-621.51245] dL/db1 =  [-28.291504] dL/dlsigma =  [-436.57]\n",
      "Iteration =  1500 loglik  = 884.34985 b0 = [0.91291857] b1 = [0.80205774] l_sigma = [3.915484e-06] dL/db0 =  [-600.9839] dL/db1 =  [-13.698853] dL/dlsigma =  [-419.62418]\n",
      "Iteration =  1600 loglik  = 864.1681 b0 = [0.9329159] b1 = [0.8213613] l_sigma = [0.0200039] dL/db0 =  [-581.27026] dL/db1 =  [-0.18261719] dL/dlsigma =  [-403.41452]\n",
      "Iteration =  1700 loglik  = 844.7642 b0 = [0.9529133] b1 = [0.8131292] l_sigma = [0.04000386] dL/db0 =  [-565.2473] dL/db1 =  [0.47802734] dL/dlsigma =  [-390.5324]\n",
      "Iteration =  1800 loglik  = 825.92896 b0 = [0.97291064] b1 = [0.80373913] l_sigma = [0.06000383] dL/db0 =  [-549.58813] dL/db1 =  [0.4605713] dL/dlsigma =  [-377.94708]\n",
      "Iteration =  1900 loglik  = 807.65485 b0 = [0.992908] b1 = [0.7946878] l_sigma = [0.08000412] dL/db0 =  [-534.1284] dL/db1 =  [0.44421387] dL/dlsigma =  [-365.5124]\n",
      "Iteration =  2000 loglik  = 789.933 b0 = [1.0129092] b1 = [0.78596485] l_sigma = [0.10000446] dL/db0 =  [-518.8782] dL/db1 =  [0.42822266] dL/dlsigma =  [-353.23633]\n",
      "Iteration =  2100 loglik  = 772.7573 b0 = [1.0329125] b1 = [0.7775606] l_sigma = [0.1200048] dL/db0 =  [-503.84912] dL/db1 =  [0.4124756] dL/dlsigma =  [-341.13086]\n",
      "Iteration =  2200 loglik  = 756.12067 b0 = [1.0529158] b1 = [0.769466] l_sigma = [0.14000513] dL/db0 =  [-489.05127] dL/db1 =  [0.3968506] dL/dlsigma =  [-329.2062]\n",
      "Iteration =  2300 loglik  = 740.01434 b0 = [1.0729191] b1 = [0.76167154] l_sigma = [0.16000547] dL/db0 =  [-474.49365] dL/db1 =  [0.38208008] dL/dlsigma =  [-317.47012]\n",
      "Iteration =  2400 loglik  = 724.4299 b0 = [1.0929224] b1 = [0.7541678] l_sigma = [0.1800058] dL/db0 =  [-460.18408] dL/db1 =  [0.368042] dL/dlsigma =  [-305.93225]\n",
      "Iteration =  2500 loglik  = 709.35864 b0 = [1.1129258] b1 = [0.7469453] l_sigma = [0.20000614] dL/db0 =  [-446.12964] dL/db1 =  [0.35424805] dL/dlsigma =  [-294.5979]\n",
      "Iteration =  2600 loglik  = 694.78973 b0 = [1.1329291] b1 = [0.739995] l_sigma = [0.22000648] dL/db0 =  [-432.33667] dL/db1 =  [0.34094238] dL/dlsigma =  [-283.47464]\n",
      "Iteration =  2700 loglik  = 680.71497 b0 = [1.1529324] b1 = [0.73330754] l_sigma = [0.24000682] dL/db0 =  [-418.8108] dL/db1 =  [0.32763672] dL/dlsigma =  [-272.5666]\n",
      "Iteration =  2800 loglik  = 667.1241 b0 = [1.1729357] b1 = [0.7268747] l_sigma = [0.26000714] dL/db0 =  [-405.55664] dL/db1 =  [0.31530762] dL/dlsigma =  [-261.88013]\n",
      "Iteration =  2900 loglik  = 654.0072 b0 = [1.192939] b1 = [0.7206872] l_sigma = [0.28000748] dL/db0 =  [-392.57837] dL/db1 =  [0.30334473] dL/dlsigma =  [-251.41861]\n",
      "Iteration =  3000 loglik  = 641.35425 b0 = [1.2129424] b1 = [0.7147368] l_sigma = [0.30000782] dL/db0 =  [-379.87866] dL/db1 =  [0.29162598] dL/dlsigma =  [-241.18532]\n",
      "Iteration =  3100 loglik  = 629.15497 b0 = [1.2329457] b1 = [0.7090152] l_sigma = [0.32000816] dL/db0 =  [-367.4607] dL/db1 =  [0.28027344] dL/dlsigma =  [-231.18379]\n",
      "Iteration =  3200 loglik  = 617.3995 b0 = [1.252949] b1 = [0.70351434] l_sigma = [0.3400085] dL/db0 =  [-355.32593] dL/db1 =  [0.26965332] dL/dlsigma =  [-221.41583]\n",
      "Iteration =  3300 loglik  = 606.07623 b0 = [1.2729523] b1 = [0.6982263] l_sigma = [0.36000884] dL/db0 =  [-343.47607] dL/db1 =  [0.25915527] dL/dlsigma =  [-211.88252]\n",
      "Iteration =  3400 loglik  = 595.1767 b0 = [1.2929556] b1 = [0.6931434] l_sigma = [0.38000917] dL/db0 =  [-331.91113] dL/db1 =  [0.24902344] dL/dlsigma =  [-202.58481]\n",
      "Iteration =  3500 loglik  = 584.6883 b0 = [1.312959] b1 = [0.6882585] l_sigma = [0.4000095] dL/db0 =  [-320.6316] dL/db1 =  [0.23925781] dL/dlsigma =  [-193.52316]\n",
      "Iteration =  3600 loglik  = 574.60205 b0 = [1.3329623] b1 = [0.6835639] l_sigma = [0.42000985] dL/db0 =  [-309.63672] dL/db1 =  [0.22998047] dL/dlsigma =  [-184.69855]\n",
      "Iteration =  3700 loglik  = 564.9074 b0 = [1.3529656] b1 = [0.6790529] l_sigma = [0.4400102] dL/db0 =  [-298.92578] dL/db1 =  [0.2208252] dL/dlsigma =  [-176.1088]\n",
      "Iteration =  3800 loglik  = 555.5934 b0 = [1.3729689] b1 = [0.6747189] l_sigma = [0.46001053] dL/db0 =  [-288.49683] dL/db1 =  [0.2121582] dL/dlsigma =  [-167.7536]\n",
      "Iteration =  3900 loglik  = 546.65015 b0 = [1.3929722] b1 = [0.6705549] l_sigma = [0.48001087] dL/db0 =  [-278.3484] dL/db1 =  [0.20410156] dL/dlsigma =  [-159.632]\n",
      "Iteration =  4000 loglik  = 538.06726 b0 = [1.4129755] b1 = [0.66655487] l_sigma = [0.5000112] dL/db0 =  [-268.47827] dL/db1 =  [0.19604492] dL/dlsigma =  [-151.7418]\n",
      "Iteration =  4100 loglik  = 529.835 b0 = [1.4329789] b1 = [0.6627126] l_sigma = [0.52000856] dL/db0 =  [-258.8838] dL/db1 =  [0.18811035] dL/dlsigma =  [-144.08046]\n",
      "Iteration =  4200 loglik  = 521.9425 b0 = [1.4529822] b1 = [0.6590222] l_sigma = [0.5400059] dL/db0 =  [-249.56177] dL/db1 =  [0.18078613] dL/dlsigma =  [-136.64587]\n",
      "Iteration =  4300 loglik  = 514.3809 b0 = [1.4729855] b1 = [0.65547776] l_sigma = [0.5600033] dL/db0 =  [-240.5083] dL/db1 =  [0.17358398] dL/dlsigma =  [-129.43463]\n",
      "Iteration =  4400 loglik  = 507.13968 b0 = [1.4929888] b1 = [0.6520735] l_sigma = [0.58000064] dL/db0 =  [-231.72021] dL/db1 =  [0.16662598] dL/dlsigma =  [-122.4444]\n",
      "Iteration =  4500 loglik  = 500.2092 b0 = [1.5129921] b1 = [0.6488047] l_sigma = [0.599998] dL/db0 =  [-223.19336] dL/db1 =  [0.16027832] dL/dlsigma =  [-115.67168]\n",
      "Iteration =  4600 loglik  = 493.57986 b0 = [1.5329955] b1 = [0.6456654] l_sigma = [0.61999536] dL/db0 =  [-214.92407] dL/db1 =  [0.1538086] dL/dlsigma =  [-109.11245]\n",
      "Iteration =  4700 loglik  = 487.24274 b0 = [1.5529988] b1 = [0.64265126] l_sigma = [0.6399927] dL/db0 =  [-206.90747] dL/db1 =  [0.14758301] dL/dlsigma =  [-102.763535]\n",
      "Iteration =  4800 loglik  = 481.18826 b0 = [1.5730021] b1 = [0.639757] l_sigma = [0.6599901] dL/db0 =  [-199.13867] dL/db1 =  [0.1418457] dL/dlsigma =  [-96.62074]\n",
      "Iteration =  4900 loglik  = 475.40784 b0 = [1.5930054] b1 = [0.63697827] l_sigma = [0.67998743] dL/db0 =  [-191.61426] dL/db1 =  [0.1361084] dL/dlsigma =  [-90.67948]\n",
      "Iteration =  5000 loglik  = 469.89227 b0 = [1.6130087] b1 = [0.6343106] l_sigma = [0.6999848] dL/db0 =  [-184.32812] dL/db1 =  [0.1307373] dL/dlsigma =  [-84.93628]\n",
      "Iteration =  5100 loglik  = 464.63306 b0 = [1.633012] b1 = [0.6317494] l_sigma = [0.71998215] dL/db0 =  [-177.27612] dL/db1 =  [0.12512207] dL/dlsigma =  [-79.38649]\n"
     ]
    },
    {
     "name": "stdout",
     "output_type": "stream",
     "text": [
      "Iteration =  5200 loglik  = 459.62125 b0 = [1.6530154] b1 = [0.6292908] l_sigma = [0.7399795] dL/db0 =  [-170.45288] dL/db1 =  [0.12060547] dL/dlsigma =  [-74.02611]\n",
      "Iteration =  5300 loglik  = 454.84967 b0 = [1.6730187] b1 = [0.6269309] l_sigma = [0.75997686] dL/db0 =  [-163.85376] dL/db1 =  [0.11560059] dL/dlsigma =  [-68.85009]\n",
      "Iteration =  5400 loglik  = 450.30945 b0 = [1.693022] b1 = [0.62466526] l_sigma = [0.7799742] dL/db0 =  [-157.47314] dL/db1 =  [0.11083984] dL/dlsigma =  [-63.85492]\n",
      "Iteration =  5500 loglik  = 445.99323 b0 = [1.7130253] b1 = [0.6224908] l_sigma = [0.7999716] dL/db0 =  [-151.30615] dL/db1 =  [0.10644531] dL/dlsigma =  [-59.035545]\n",
      "Iteration =  5600 loglik  = 441.8924 b0 = [1.7330287] b1 = [0.6204038] l_sigma = [0.81996894] dL/db0 =  [-145.34741] dL/db1 =  [0.10229492] dL/dlsigma =  [-54.387375]\n",
      "Iteration =  5700 loglik  = 437.99973 b0 = [1.753032] b1 = [0.61840075] l_sigma = [0.8399663] dL/db0 =  [-139.59155] dL/db1 =  [0.09814453] dL/dlsigma =  [-49.90589]\n",
      "Iteration =  5800 loglik  = 434.309 b0 = [1.7730353] b1 = [0.61647856] l_sigma = [0.85996366] dL/db0 =  [-134.03345] dL/db1 =  [0.09411621] dL/dlsigma =  [-45.586105]\n",
      "Iteration =  5900 loglik  = 430.81177 b0 = [1.7930386] b1 = [0.6146335] l_sigma = [0.879961] dL/db0 =  [-128.66846] dL/db1 =  [0.09033203] dL/dlsigma =  [-41.424118]\n",
      "Iteration =  6000 loglik  = 427.50238 b0 = [1.8130419] b1 = [0.612863] l_sigma = [0.8999584] dL/db0 =  [-123.49048] dL/db1 =  [0.08666992] dL/dlsigma =  [-37.415184]\n",
      "Iteration =  6100 loglik  = 424.37265 b0 = [1.8330452] b1 = [0.6111642] l_sigma = [0.91995573] dL/db0 =  [-118.49512] dL/db1 =  [0.08337402] dL/dlsigma =  [-33.553993]\n",
      "Iteration =  6200 loglik  = 421.4169 b0 = [1.8530486] b1 = [0.60953385] l_sigma = [0.9399531] dL/db0 =  [-113.677] dL/db1 =  [0.07995605] dL/dlsigma =  [-29.837967]\n",
      "Iteration =  6300 loglik  = 418.62878 b0 = [1.8730519] b1 = [0.60796994] l_sigma = [0.95995045] dL/db0 =  [-109.03052] dL/db1 =  [0.07641602] dL/dlsigma =  [-26.26133]\n",
      "Iteration =  6400 loglik  = 416.00262 b0 = [1.8930552] b1 = [0.6064686] l_sigma = [0.9799478] dL/db0 =  [-104.552] dL/db1 =  [0.07348633] dL/dlsigma =  [-22.819756]\n",
      "Iteration =  6500 loglik  = 413.53137 b0 = [1.9130585] b1 = [0.6050286] l_sigma = [0.99994516] dL/db0 =  [-100.23535] dL/db1 =  [0.07006836] dL/dlsigma =  [-19.509354]\n",
      "Iteration =  6600 loglik  = 411.21 b0 = [1.9330618] b1 = [0.6036469] l_sigma = [1.0199485] dL/db0 =  [-96.07568] dL/db1 =  [0.06774902] dL/dlsigma =  [-16.325676]\n",
      "Iteration =  6700 loglik  = 409.03268 b0 = [1.9530652] b1 = [0.60232115] l_sigma = [1.0399518] dL/db0 =  [-92.0686] dL/db1 =  [0.06469727] dL/dlsigma =  [-13.264275]\n",
      "Iteration =  6800 loglik  = 406.99396 b0 = [1.9730685] b1 = [0.60104954] l_sigma = [1.0599551] dL/db0 =  [-88.20947] dL/db1 =  [0.06225586] dL/dlsigma =  [-10.321877]\n",
      "Iteration =  6900 loglik  = 405.08875 b0 = [1.9930718] b1 = [0.59982926] l_sigma = [1.0799584] dL/db0 =  [-84.49365] dL/db1 =  [0.05981445] dL/dlsigma =  [-7.4936447]\n",
      "Iteration =  7000 loglik  = 403.31186 b0 = [2.013075] b1 = [0.5986591] l_sigma = [1.0999618] dL/db0 =  [-80.91675] dL/db1 =  [0.05737305] dL/dlsigma =  [-4.7765045]\n",
      "Iteration =  7100 loglik  = 401.65863 b0 = [2.0330784] b1 = [0.5975366] l_sigma = [1.1199651] dL/db0 =  [-77.47412] dL/db1 =  [0.05493164] dL/dlsigma =  [-2.166542]\n",
      "Iteration =  7200 loglik  = 400.12332 b0 = [2.0530818] b1 = [0.5965023] l_sigma = [1.133981] dL/db0 =  [-74.58569] dL/db1 =  [0.0423584] dL/dlsigma =  [0.02719116]\n",
      "Iteration =  7300 loglik  = 398.63724 b0 = [2.073085] b1 = [0.5959324] l_sigma = [1.1234452] dL/db0 =  [-73.48779] dL/db1 =  [0.01672363] dL/dlsigma =  [0.8864136]\n",
      "Iteration =  7400 loglik  = 397.1507 b0 = [2.0930884] b1 = [0.5957232] l_sigma = [1.1037451] dL/db0 =  [-73.02881] dL/db1 =  [0.00695801] dL/dlsigma =  [1.2682953]\n",
      "Iteration =  7500 loglik  = 395.66528 b0 = [2.1130917] b1 = [0.5955987] l_sigma = [1.0837418] dL/db0 =  [-72.58179] dL/db1 =  [0.0057373] dL/dlsigma =  [1.6363144]\n",
      "Iteration =  7600 loglik  = 394.18146 b0 = [2.133095] b1 = [0.59548146] l_sigma = [1.0637385] dL/db0 =  [-72.125244] dL/db1 =  [0.0057373] dL/dlsigma =  [2.0076828]\n",
      "Iteration =  7700 loglik  = 392.69937 b0 = [2.1530983] b1 = [0.59536415] l_sigma = [1.0437351] dL/db0 =  [-71.65991] dL/db1 =  [0.00598145] dL/dlsigma =  [2.3798141]\n",
      "Iteration =  7800 loglik  = 391.2193 b0 = [2.1731017] b1 = [0.59524477] l_sigma = [1.0237318] dL/db0 =  [-71.18506] dL/db1 =  [0.00610352] dL/dlsigma =  [2.7544632]\n",
      "Iteration =  7900 loglik  = 389.74133 b0 = [2.193105] b1 = [0.59512234] l_sigma = [1.0037285] dL/db0 =  [-70.70093] dL/db1 =  [0.00622559] dL/dlsigma =  [3.1295242]\n",
      "Iteration =  8000 loglik  = 388.2658 b0 = [2.2131083] b1 = [0.5949978] l_sigma = [0.9837301] dL/db0 =  [-70.206055] dL/db1 =  [0.00646973] dL/dlsigma =  [3.5066605]\n",
      "Iteration =  8100 loglik  = 386.79266 b0 = [2.2331116] b1 = [0.5948703] l_sigma = [0.9637327] dL/db0 =  [-69.701416] dL/db1 =  [0.00646973] dL/dlsigma =  [3.8852386]\n",
      "Iteration =  8200 loglik  = 385.32202 b0 = [2.253115] b1 = [0.59474015] l_sigma = [0.94373536] dL/db0 =  [-69.18652] dL/db1 =  [0.0065918] dL/dlsigma =  [4.264145]\n",
      "Iteration =  8300 loglik  = 383.8542 b0 = [2.2731183] b1 = [0.59460783] l_sigma = [0.923738] dL/db0 =  [-68.66138] dL/db1 =  [0.0065918] dL/dlsigma =  [4.6450043]\n",
      "Iteration =  8400 loglik  = 382.38962 b0 = [2.2931216] b1 = [0.59447294] l_sigma = [0.90374064] dL/db0 =  [-68.12598] dL/db1 =  [0.00671387] dL/dlsigma =  [5.025917]\n",
      "Iteration =  8500 loglik  = 380.92776 b0 = [2.313125] b1 = [0.5943361] l_sigma = [0.8837433] dL/db0 =  [-67.5791] dL/db1 =  [0.00708008] dL/dlsigma =  [5.407692]\n",
      "Iteration =  8600 loglik  = 379.46936 b0 = [2.3331282] b1 = [0.59419554] l_sigma = [0.8637459] dL/db0 =  [-67.02124] dL/db1 =  [0.00708008] dL/dlsigma =  [5.7896576]\n",
      "Iteration =  8700 loglik  = 378.01508 b0 = [2.3531315] b1 = [0.5940527] l_sigma = [0.84374857] dL/db0 =  [-66.45264] dL/db1 =  [0.00720215] dL/dlsigma =  [6.17218]\n",
      "Iteration =  8800 loglik  = 376.5643 b0 = [2.3731349] b1 = [0.59390634] l_sigma = [0.8237512] dL/db0 =  [-65.87207] dL/db1 =  [0.00744629] dL/dlsigma =  [6.5539017]\n",
      "Iteration =  8900 loglik  = 375.11734 b0 = [2.3931382] b1 = [0.5937584] l_sigma = [0.80375385] dL/db0 =  [-65.28003] dL/db1 =  [0.00744629] dL/dlsigma =  [6.9355927]\n",
      "Iteration =  9000 loglik  = 373.67532 b0 = [2.4131415] b1 = [0.5936068] l_sigma = [0.7837565] dL/db0 =  [-64.676025] dL/db1 =  [0.00769043] dL/dlsigma =  [7.317116]\n",
      "Iteration =  9100 loglik  = 372.23737 b0 = [2.4331448] b1 = [0.5934528] l_sigma = [0.76375914] dL/db0 =  [-64.05957] dL/db1 =  [0.0078125] dL/dlsigma =  [7.697151]\n",
      "Iteration =  9200 loglik  = 370.80466 b0 = [2.4531481] b1 = [0.59329486] l_sigma = [0.7437618] dL/db0 =  [-63.431152] dL/db1 =  [0.00793457] dL/dlsigma =  [8.076675]\n",
      "Iteration =  9300 loglik  = 369.3769 b0 = [2.4731514] b1 = [0.5931343] l_sigma = [0.7237644] dL/db0 =  [-62.789795] dL/db1 =  [0.00817871] dL/dlsigma =  [8.453918]\n",
      "Iteration =  9400 loglik  = 367.9544 b0 = [2.4931548] b1 = [0.5929709] l_sigma = [0.70376706] dL/db0 =  [-62.135254] dL/db1 =  [0.00830078] dL/dlsigma =  [8.831383]\n",
      "Iteration =  9500 loglik  = 366.5381 b0 = [2.513158] b1 = [0.5928039] l_sigma = [0.6837697] dL/db0 =  [-61.468018] dL/db1 =  [0.00866699] dL/dlsigma =  [9.205978]\n",
      "Iteration =  9600 loglik  = 365.12744 b0 = [2.5331614] b1 = [0.5926335] l_sigma = [0.66377234] dL/db0 =  [-60.78711] dL/db1 =  [0.00866699] dL/dlsigma =  [9.57811]\n",
      "Iteration =  9700 loglik  = 363.72327 b0 = [2.5531647] b1 = [0.59246075] l_sigma = [0.643775] dL/db0 =  [-60.092285] dL/db1 =  [0.00866699] dL/dlsigma =  [9.948708]\n",
      "Iteration =  9800 loglik  = 362.32538 b0 = [2.573168] b1 = [0.5922836] l_sigma = [0.6237776] dL/db0 =  [-59.383057] dL/db1 =  [0.0090332] dL/dlsigma =  [10.315414]\n",
      "Iteration =  9900 loglik  = 360.93536 b0 = [2.5931714] b1 = [0.59210336] l_sigma = [0.60378027] dL/db0 =  [-58.6604] dL/db1 =  [0.00915527] dL/dlsigma =  [10.679413]\n",
      "Iteration =  10000 loglik  = 359.5517 b0 = [2.6131747] b1 = [0.591919] l_sigma = [0.5837829] dL/db0 =  [-57.922607] dL/db1 =  [0.00939941] dL/dlsigma =  [11.040329]\n",
      "Iteration =  10100 loglik  = 358.17642 b0 = [2.633178] b1 = [0.5917316] l_sigma = [0.56378555] dL/db0 =  [-57.170166] dL/db1 =  [0.00939941] dL/dlsigma =  [11.397324]\n",
      "Iteration =  10200 loglik  = 356.809 b0 = [2.6531813] b1 = [0.5915412] l_sigma = [0.5437882] dL/db0 =  [-56.402344] dL/db1 =  [0.00952148] dL/dlsigma =  [11.749977]\n",
      "Iteration =  10300 loglik  = 355.45032 b0 = [2.6731846] b1 = [0.59134686] l_sigma = [0.52379084] dL/db0 =  [-55.61914] dL/db1 =  [0.00964355] dL/dlsigma =  [12.097961]\n"
     ]
    },
    {
     "name": "stdout",
     "output_type": "stream",
     "text": [
      "Iteration =  10400 loglik  = 354.10025 b0 = [2.693188] b1 = [0.59114814] l_sigma = [0.5037935] dL/db0 =  [-54.819824] dL/db1 =  [0.01000977] dL/dlsigma =  [12.441589]\n",
      "Iteration =  10500 loglik  = 352.75928 b0 = [2.7131913] b1 = [0.5909461] l_sigma = [0.48379368] dL/db0 =  [-54.004883] dL/db1 =  [0.01025391] dL/dlsigma =  [12.779068]\n",
      "Iteration =  10600 loglik  = 351.4285 b0 = [2.7331946] b1 = [0.5907402] l_sigma = [0.46379334] dL/db0 =  [-53.17334] dL/db1 =  [0.01037598] dL/dlsigma =  [13.111328]\n",
      "Iteration =  10700 loglik  = 350.1075 b0 = [2.753198] b1 = [0.5905298] l_sigma = [0.443793] dL/db0 =  [-52.325195] dL/db1 =  [0.01086426] dL/dlsigma =  [13.436859]\n",
      "Iteration =  10800 loglik  = 348.79767 b0 = [2.7732012] b1 = [0.5903157] l_sigma = [0.42379266] dL/db0 =  [-51.45996] dL/db1 =  [0.01074219] dL/dlsigma =  [13.755844]\n",
      "Iteration =  10900 loglik  = 347.49884 b0 = [2.7932045] b1 = [0.5900975] l_sigma = [0.40379232] dL/db0 =  [-50.57666] dL/db1 =  [0.01086426] dL/dlsigma =  [14.0681305]\n",
      "Iteration =  11000 loglik  = 346.2118 b0 = [2.8132079] b1 = [0.58987457] l_sigma = [0.38379198] dL/db0 =  [-49.676025] dL/db1 =  [0.01123047] dL/dlsigma =  [14.372101]\n",
      "Iteration =  11100 loglik  = 344.9367 b0 = [2.8332112] b1 = [0.5896473] l_sigma = [0.36379164] dL/db0 =  [-48.75708] dL/db1 =  [0.01147461] dL/dlsigma =  [14.66748]\n",
      "Iteration =  11200 loglik  = 343.6748 b0 = [2.8532145] b1 = [0.58941644] l_sigma = [0.3437913] dL/db0 =  [-47.81958] dL/db1 =  [0.01159668] dL/dlsigma =  [14.955246]\n",
      "Iteration =  11300 loglik  = 342.42554 b0 = [2.8732178] b1 = [0.5891809] l_sigma = [0.32379097] dL/db0 =  [-46.862793] dL/db1 =  [0.01171875] dL/dlsigma =  [15.233368]\n",
      "Iteration =  11400 loglik  = 341.19073 b0 = [2.8932211] b1 = [0.58894056] l_sigma = [0.30379063] dL/db0 =  [-45.887207] dL/db1 =  [0.01220703] dL/dlsigma =  [15.502197]\n",
      "Iteration =  11500 loglik  = 339.96985 b0 = [2.9132245] b1 = [0.58869624] l_sigma = [0.2837903] dL/db0 =  [-44.8916] dL/db1 =  [0.0123291] dL/dlsigma =  [15.760178]\n",
      "Iteration =  11600 loglik  = 338.76477 b0 = [2.9332278] b1 = [0.58844686] l_sigma = [0.26378995] dL/db0 =  [-43.87622] dL/db1 =  [0.01245117] dL/dlsigma =  [16.006897]\n",
      "Iteration =  11700 loglik  = 337.5746 b0 = [2.953231] b1 = [0.58819246] l_sigma = [0.24378961] dL/db0 =  [-42.839844] dL/db1 =  [0.01293945] dL/dlsigma =  [16.242737]\n",
      "Iteration =  11800 loglik  = 336.40103 b0 = [2.9732344] b1 = [0.5879338] l_sigma = [0.22378927] dL/db0 =  [-41.78296] dL/db1 =  [0.01318359] dL/dlsigma =  [16.466064]\n",
      "Iteration =  11900 loglik  = 335.24466 b0 = [2.9932377] b1 = [0.5876695] l_sigma = [0.20378894] dL/db0 =  [-40.70459] dL/db1 =  [0.01318359] dL/dlsigma =  [16.676361]\n",
      "Iteration =  12000 loglik  = 334.1057 b0 = [3.013241] b1 = [0.5874005] l_sigma = [0.1837886] dL/db0 =  [-39.604248] dL/db1 =  [0.01379395] dL/dlsigma =  [16.873901]\n",
      "Iteration =  12100 loglik  = 332.98538 b0 = [3.0332444] b1 = [0.58712643] l_sigma = [0.16378826] dL/db0 =  [-38.48169] dL/db1 =  [0.01379395] dL/dlsigma =  [17.05687]\n",
      "Iteration =  12200 loglik  = 331.88422 b0 = [3.0532477] b1 = [0.5868464] l_sigma = [0.14378792] dL/db0 =  [-37.336426] dL/db1 =  [0.01416016] dL/dlsigma =  [17.22467]\n",
      "Iteration =  12300 loglik  = 330.8032 b0 = [3.073251] b1 = [0.5865618] l_sigma = [0.12378758] dL/db0 =  [-36.16797] dL/db1 =  [0.01452637] dL/dlsigma =  [17.376953]\n",
      "Iteration =  12400 loglik  = 329.74243 b0 = [3.0932543] b1 = [0.58627164] l_sigma = [0.10378724] dL/db0 =  [-34.976074] dL/db1 =  [0.01477051] dL/dlsigma =  [17.512283]\n",
      "Iteration =  12500 loglik  = 328.7033 b0 = [3.1132576] b1 = [0.58597577] l_sigma = [0.0837869] dL/db0 =  [-33.76001] dL/db1 =  [0.01489258] dL/dlsigma =  [17.631866]\n",
      "Iteration =  12600 loglik  = 327.68726 b0 = [3.133261] b1 = [0.5856751] l_sigma = [0.06378657] dL/db0 =  [-32.52002] dL/db1 =  [0.01513672] dL/dlsigma =  [17.732285]\n",
      "Iteration =  12700 loglik  = 326.69348 b0 = [3.1532643] b1 = [0.5853682] l_sigma = [0.04378658] dL/db0 =  [-31.25415] dL/db1 =  [0.015625] dL/dlsigma =  [17.814774]\n",
      "Iteration =  12800 loglik  = 325.72403 b0 = [3.1732676] b1 = [0.5850557] l_sigma = [0.02378661] dL/db0 =  [-29.96289] dL/db1 =  [0.01599121] dL/dlsigma =  [17.876556]\n",
      "Iteration =  12900 loglik  = 324.78015 b0 = [3.193271] b1 = [0.58473665] l_sigma = [0.00378664] dL/db0 =  [-28.645752] dL/db1 =  [0.01611328] dL/dlsigma =  [17.918716]\n",
      "Iteration =  13000 loglik  = 323.86197 b0 = [3.2132742] b1 = [0.5844124] l_sigma = [-0.01621335] dL/db0 =  [-27.301758] dL/db1 =  [0.01660156] dL/dlsigma =  [17.93869]\n",
      "Iteration =  13100 loglik  = 322.9705 b0 = [3.2332776] b1 = [0.5840811] l_sigma = [-0.03621332] dL/db0 =  [-25.930664] dL/db1 =  [0.01660156] dL/dlsigma =  [17.93657]\n",
      "Iteration =  13200 loglik  = 322.10696 b0 = [3.2532809] b1 = [0.5837436] l_sigma = [-0.05621328] dL/db0 =  [-24.531982] dL/db1 =  [0.01696777] dL/dlsigma =  [17.911652]\n",
      "Iteration =  13300 loglik  = 321.27267 b0 = [3.2732842] b1 = [0.5834008] l_sigma = [-0.0762135] dL/db0 =  [-23.105225] dL/db1 =  [0.01733398] dL/dlsigma =  [17.861115]\n",
      "Iteration =  13400 loglik  = 320.46848 b0 = [3.2932875] b1 = [0.5830508] l_sigma = [-0.09621384] dL/db0 =  [-21.648926] dL/db1 =  [0.0177002] dL/dlsigma =  [17.786072]\n",
      "Iteration =  13500 loglik  = 319.6959 b0 = [3.3132908] b1 = [0.58269435] l_sigma = [-0.11621418] dL/db0 =  [-20.163818] dL/db1 =  [0.01782227] dL/dlsigma =  [17.684402]\n",
      "Iteration =  13600 loglik  = 318.95486 b0 = [3.3332942] b1 = [0.58233154] l_sigma = [-0.13621451] dL/db0 =  [-18.648438] dL/db1 =  [0.01818848] dL/dlsigma =  [17.556213]\n",
      "Iteration =  13700 loglik  = 318.24768 b0 = [3.3532975] b1 = [0.5819618] l_sigma = [-0.15621485] dL/db0 =  [-17.102783] dL/db1 =  [0.01867676] dL/dlsigma =  [17.397995]\n",
      "Iteration =  13800 loglik  = 317.57523 b0 = [3.3733008] b1 = [0.58158517] l_sigma = [-0.17621519] dL/db0 =  [-15.525391] dL/db1 =  [0.01879883] dL/dlsigma =  [17.210785]\n",
      "Iteration =  13900 loglik  = 316.9389 b0 = [3.393304] b1 = [0.5812014] l_sigma = [-0.19621553] dL/db0 =  [-13.91626] dL/db1 =  [0.01953125] dL/dlsigma =  [16.992737]\n",
      "Iteration =  14000 loglik  = 316.33926 b0 = [3.4133074] b1 = [0.5808106] l_sigma = [-0.21621586] dL/db0 =  [-12.2751465] dL/db1 =  [0.01989746] dL/dlsigma =  [16.742462]\n",
      "Iteration =  14100 loglik  = 315.778 b0 = [3.4333107] b1 = [0.5804125] l_sigma = [-0.2362162] dL/db0 =  [-10.600342] dL/db1 =  [0.02001953] dL/dlsigma =  [16.459595]\n",
      "Iteration =  14200 loglik  = 315.257 b0 = [3.453314] b1 = [0.5800073] l_sigma = [-0.25621653] dL/db0 =  [-8.891846] dL/db1 =  [0.02038574] dL/dlsigma =  [16.141571]\n",
      "Iteration =  14300 loglik  = 314.77737 b0 = [3.4733174] b1 = [0.57959414] l_sigma = [-0.27621686] dL/db0 =  [-7.1486816] dL/db1 =  [0.02099609] dL/dlsigma =  [15.787262]\n",
      "Iteration =  14400 loglik  = 314.3404 b0 = [3.4933207] b1 = [0.57917404] l_sigma = [-0.2962172] dL/db0 =  [-5.3706055] dL/db1 =  [0.02099609] dL/dlsigma =  [15.396759]\n",
      "Iteration =  14500 loglik  = 313.94702 b0 = [3.513324] b1 = [0.57874566] l_sigma = [-0.31621754] dL/db0 =  [-3.5563965] dL/db1 =  [0.02185059] dL/dlsigma =  [14.966949]\n",
      "Iteration =  14600 loglik  = 313.59943 b0 = [3.5333273] b1 = [0.57830924] l_sigma = [-0.33621788] dL/db0 =  [-1.7053223] dL/db1 =  [0.02185059] dL/dlsigma =  [14.497681]\n",
      "Iteration =  14700 loglik  = 313.30002 b0 = [3.5482183] b1 = [0.5779152] l_sigma = [-0.35621822] dL/db0 =  [-0.30419922] dL/db1 =  [0.01220703] dL/dlsigma =  [13.987152]\n",
      "Iteration =  14800 loglik  = 313.02478 b0 = [3.5509362] b1 = [0.57782435] l_sigma = [-0.37621856] dL/db0 =  [-0.04296875] dL/db1 =  [-0.00097656] dL/dlsigma =  [13.458862]\n",
      "Iteration =  14900 loglik  = 312.761 b0 = [3.551303] b1 = [0.5778895] l_sigma = [-0.3962189] dL/db0 =  [-0.00463867] dL/db1 =  [-0.00463867] dL/dlsigma =  [12.923553]\n",
      "Iteration =  15000 loglik  = 312.50757 b0 = [3.5513258] b1 = [0.57799125] l_sigma = [-0.41621923] dL/db0 =  [0.00048828] dL/db1 =  [-0.00549316] dL/dlsigma =  [12.382141]\n",
      "Iteration =  15100 loglik  = 312.26596 b0 = [3.551302] b1 = [0.57810086] l_sigma = [-0.43621957] dL/db0 =  [0.00170898] dL/db1 =  [-0.0057373] dL/dlsigma =  [11.834381]\n",
      "Iteration =  15200 loglik  = 312.03445 b0 = [3.5512686] b1 = [0.578214] l_sigma = [-0.4562199] dL/db0 =  [0.00195312] dL/db1 =  [-0.00561523] dL/dlsigma =  [11.279449]\n",
      "Iteration =  15300 loglik  = 311.8145 b0 = [3.5512345] b1 = [0.578329] l_sigma = [-0.47622025] dL/db0 =  [0.00146484] dL/db1 =  [-0.0057373] dL/dlsigma =  [10.71759]\n"
     ]
    },
    {
     "name": "stdout",
     "output_type": "stream",
     "text": [
      "Iteration =  15400 loglik  = 311.60587 b0 = [3.5511994] b1 = [0.57844627] l_sigma = [-0.4962206] dL/db0 =  [0.00195312] dL/db1 =  [-0.00598145] dL/dlsigma =  [10.149597]\n",
      "Iteration =  15500 loglik  = 311.4087 b0 = [3.5511632] b1 = [0.57856554] l_sigma = [-0.5162185] dL/db0 =  [0.00170898] dL/db1 =  [-0.00598145] dL/dlsigma =  [9.57431]\n",
      "Iteration =  15600 loglik  = 311.22308 b0 = [3.551128] b1 = [0.57868636] l_sigma = [-0.53621584] dL/db0 =  [0.00195312] dL/db1 =  [-0.00610352] dL/dlsigma =  [8.992432]\n",
      "Iteration =  15700 loglik  = 311.04922 b0 = [3.5510902] b1 = [0.5788099] l_sigma = [-0.5562132] dL/db0 =  [0.00195312] dL/db1 =  [-0.00622559] dL/dlsigma =  [8.402618]\n",
      "Iteration =  15800 loglik  = 310.88687 b0 = [3.5510526] b1 = [0.57893544] l_sigma = [-0.57621056] dL/db0 =  [0.00195312] dL/db1 =  [-0.00634766] dL/dlsigma =  [7.8060303]\n",
      "Iteration =  15900 loglik  = 310.73688 b0 = [3.5510147] b1 = [0.57906336] l_sigma = [-0.5962079] dL/db0 =  [0.00195312] dL/db1 =  [-0.00634766] dL/dlsigma =  [7.2020874]\n",
      "Iteration =  16000 loglik  = 310.59903 b0 = [3.550976] b1 = [0.57919323] l_sigma = [-0.6162053] dL/db0 =  [0.00195312] dL/db1 =  [-0.00646973] dL/dlsigma =  [6.5908813]\n",
      "Iteration =  16100 loglik  = 310.47318 b0 = [3.550937] b1 = [0.57932556] l_sigma = [-0.63620263] dL/db0 =  [0.00195312] dL/db1 =  [-0.00683594] dL/dlsigma =  [5.9714355]\n",
      "Iteration =  16200 loglik  = 310.3599 b0 = [3.550896] b1 = [0.5794602] l_sigma = [-0.6562] dL/db0 =  [0.00195312] dL/db1 =  [-0.00695801] dL/dlsigma =  [5.3445435]\n",
      "Iteration =  16300 loglik  = 310.25977 b0 = [3.5508559] b1 = [0.5795969] l_sigma = [-0.67619735] dL/db0 =  [0.00195312] dL/db1 =  [-0.00671387] dL/dlsigma =  [4.7100525]\n",
      "Iteration =  16400 loglik  = 310.17175 b0 = [3.5508132] b1 = [0.579736] l_sigma = [-0.6961947] dL/db0 =  [0.00195312] dL/db1 =  [-0.00695801] dL/dlsigma =  [4.0674133]\n",
      "Iteration =  16500 loglik  = 310.09686 b0 = [3.5507712] b1 = [0.5798777] l_sigma = [-0.71619207] dL/db0 =  [0.00195312] dL/db1 =  [-0.00708008] dL/dlsigma =  [3.4169922]\n",
      "Iteration =  16600 loglik  = 310.035 b0 = [3.5507283] b1 = [0.5800215] l_sigma = [-0.7361894] dL/db0 =  [0.00219727] dL/db1 =  [-0.00720215] dL/dlsigma =  [2.7589111]\n",
      "Iteration =  16700 loglik  = 309.98676 b0 = [3.5506842] b1 = [0.58016807] l_sigma = [-0.7561868] dL/db0 =  [0.00195312] dL/db1 =  [-0.00732422] dL/dlsigma =  [2.0917664]\n",
      "Iteration =  16800 loglik  = 309.95166 b0 = [3.5506403] b1 = [0.5803167] l_sigma = [-0.77618414] dL/db0 =  [0.00219727] dL/db1 =  [-0.00769043] dL/dlsigma =  [1.4172363]\n",
      "Iteration =  16900 loglik  = 309.93082 b0 = [3.550596] b1 = [0.58046585] l_sigma = [-0.79525584] dL/db0 =  [0.00195312] dL/db1 =  [-0.00695801] dL/dlsigma =  [0.7650757]\n",
      "Iteration =  17000 loglik  = 309.92453 b0 = [3.5505662] b1 = [0.58057016] l_sigma = [-0.8063483] dL/db0 =  [0.00146484] dL/db1 =  [-0.00366211] dL/dlsigma =  [0.38336182]\n",
      "Iteration =  17100 loglik  = 309.92264 b0 = [3.5505478] b1 = [0.58062446] l_sigma = [-0.8118908] dL/db0 =  [0.00048828] dL/db1 =  [-0.00183105] dL/dlsigma =  [0.19128418]\n",
      "Iteration =  17200 loglik  = 309.92236 b0 = [3.5505397] b1 = [0.5806513] l_sigma = [-0.81465286] dL/db0 =  [0.00048828] dL/db1 =  [-0.00109863] dL/dlsigma =  [0.09539795]\n",
      "Iteration =  17300 loglik  = 309.9221 b0 = [3.550536] b1 = [0.5806647] l_sigma = [-0.8160272] dL/db0 =  [0.00024414] dL/db1 =  [-0.00036621] dL/dlsigma =  [0.04711914]\n",
      "Iteration =  17400 loglik  = 309.92215 b0 = [3.5505345] b1 = [0.5806713] l_sigma = [-0.81671107] dL/db0 =  [0.00048828] dL/db1 =  [-0.00024414] dL/dlsigma =  [0.02294922]\n",
      "Iteration =  17500 loglik  = 309.9221 b0 = [3.5505326] b1 = [0.58067447] l_sigma = [-0.81705153] dL/db0 =  [0.00024414] dL/db1 =  [-0.00024414] dL/dlsigma =  [0.01171875]\n",
      "Iteration =  17600 loglik  = 309.92227 b0 = [3.550532] b1 = [0.5806763] l_sigma = [-0.8172208] dL/db0 =  [0.] dL/db1 =  [-0.00012207] dL/dlsigma =  [0.00579834]\n",
      "Iteration =  17700 loglik  = 309.92218 b0 = [3.5505316] b1 = [0.5806769] l_sigma = [-0.81730473] dL/db0 =  [0.] dL/db1 =  [-0.00024414] dL/dlsigma =  [0.00286865]\n",
      "Iteration =  17800 loglik  = 309.92212 b0 = [3.5505316] b1 = [0.58067757] l_sigma = [-0.8173467] dL/db0 =  [0.00024414] dL/db1 =  [0.] dL/dlsigma =  [0.00146484]\n",
      "Iteration =  17900 loglik  = 309.92227 b0 = [3.5505316] b1 = [0.5806776] l_sigma = [-0.81736684] dL/db0 =  [0.00048828] dL/db1 =  [0.] dL/dlsigma =  [0.00042725]\n",
      "Iteration =  18000 loglik  = 309.92212 b0 = [3.5505316] b1 = [0.5806778] l_sigma = [-0.8173692] dL/db0 =  [0.00024414] dL/db1 =  [0.] dL/dlsigma =  [0.]\n",
      "Iteration =  18100 loglik  = 309.92212 b0 = [3.5505316] b1 = [0.5806778] l_sigma = [-0.8173692] dL/db0 =  [0.00024414] dL/db1 =  [0.] dL/dlsigma =  [0.]\n",
      "Iteration =  18200 loglik  = 309.92212 b0 = [3.5505316] b1 = [0.5806778] l_sigma = [-0.8173692] dL/db0 =  [0.00024414] dL/db1 =  [0.] dL/dlsigma =  [0.]\n",
      "Iteration =  18300 loglik  = 309.92212 b0 = [3.5505316] b1 = [0.5806778] l_sigma = [-0.8173692] dL/db0 =  [0.00024414] dL/db1 =  [0.] dL/dlsigma =  [0.]\n",
      "Iteration =  18400 loglik  = 309.92212 b0 = [3.5505316] b1 = [0.5806778] l_sigma = [-0.8173692] dL/db0 =  [0.00024414] dL/db1 =  [0.] dL/dlsigma =  [0.]\n",
      "Iteration =  18500 loglik  = 309.92212 b0 = [3.5505316] b1 = [0.5806778] l_sigma = [-0.8173692] dL/db0 =  [0.00024414] dL/db1 =  [0.] dL/dlsigma =  [0.]\n",
      "Iteration =  18600 loglik  = 309.92212 b0 = [3.5505316] b1 = [0.5806778] l_sigma = [-0.8173692] dL/db0 =  [0.00024414] dL/db1 =  [0.] dL/dlsigma =  [0.]\n",
      "Iteration =  18700 loglik  = 309.92212 b0 = [3.5505316] b1 = [0.5806778] l_sigma = [-0.8173692] dL/db0 =  [0.00024414] dL/db1 =  [0.] dL/dlsigma =  [0.]\n",
      "Iteration =  18800 loglik  = 309.92212 b0 = [3.5505316] b1 = [0.5806778] l_sigma = [-0.8173692] dL/db0 =  [0.00024414] dL/db1 =  [0.] dL/dlsigma =  [0.]\n",
      "Iteration =  18900 loglik  = 309.92212 b0 = [3.5505316] b1 = [0.5806778] l_sigma = [-0.8173692] dL/db0 =  [0.00024414] dL/db1 =  [0.] dL/dlsigma =  [0.]\n",
      "Iteration =  19000 loglik  = 309.92212 b0 = [3.5505316] b1 = [0.5806778] l_sigma = [-0.8173692] dL/db0 =  [0.00024414] dL/db1 =  [0.] dL/dlsigma =  [0.]\n",
      "Iteration =  19100 loglik  = 309.92212 b0 = [3.5505316] b1 = [0.5806778] l_sigma = [-0.8173692] dL/db0 =  [0.00024414] dL/db1 =  [0.] dL/dlsigma =  [0.]\n",
      "Iteration =  19200 loglik  = 309.92212 b0 = [3.5505316] b1 = [0.5806778] l_sigma = [-0.8173692] dL/db0 =  [0.00024414] dL/db1 =  [0.] dL/dlsigma =  [0.]\n",
      "Iteration =  19300 loglik  = 309.92212 b0 = [3.5505316] b1 = [0.5806778] l_sigma = [-0.8173692] dL/db0 =  [0.00024414] dL/db1 =  [0.] dL/dlsigma =  [0.]\n",
      "Iteration =  19400 loglik  = 309.92212 b0 = [3.5505316] b1 = [0.5806778] l_sigma = [-0.8173692] dL/db0 =  [0.00024414] dL/db1 =  [0.] dL/dlsigma =  [0.]\n",
      "Iteration =  19500 loglik  = 309.92212 b0 = [3.5505316] b1 = [0.5806778] l_sigma = [-0.8173692] dL/db0 =  [0.00024414] dL/db1 =  [0.] dL/dlsigma =  [0.]\n",
      "Iteration =  19600 loglik  = 309.92212 b0 = [3.5505316] b1 = [0.5806778] l_sigma = [-0.8173692] dL/db0 =  [0.00024414] dL/db1 =  [0.] dL/dlsigma =  [0.]\n",
      "Iteration =  19700 loglik  = 309.92212 b0 = [3.5505316] b1 = [0.5806778] l_sigma = [-0.8173692] dL/db0 =  [0.00024414] dL/db1 =  [0.] dL/dlsigma =  [0.]\n",
      "Iteration =  19800 loglik  = 309.92212 b0 = [3.5505316] b1 = [0.5806778] l_sigma = [-0.8173692] dL/db0 =  [0.00024414] dL/db1 =  [0.] dL/dlsigma =  [0.]\n",
      "Iteration =  19900 loglik  = 309.92212 b0 = [3.5505316] b1 = [0.5806778] l_sigma = [-0.8173692] dL/db0 =  [0.00024414] dL/db1 =  [0.] dL/dlsigma =  [0.]\n",
      "Iteration =  20000 loglik  = 309.92212 b0 = [3.5505316] b1 = [0.5806778] l_sigma = [-0.8173692] dL/db0 =  [0.00024414] dL/db1 =  [0.] dL/dlsigma =  [0.]\n",
      "Iteration =  20100 loglik  = 309.92212 b0 = [3.5505316] b1 = [0.5806778] l_sigma = [-0.8173692] dL/db0 =  [0.00024414] dL/db1 =  [0.] dL/dlsigma =  [0.]\n",
      "Iteration =  20200 loglik  = 309.92212 b0 = [3.5505316] b1 = [0.5806778] l_sigma = [-0.8173692] dL/db0 =  [0.00024414] dL/db1 =  [0.] dL/dlsigma =  [0.]\n",
      "Iteration =  20300 loglik  = 309.92212 b0 = [3.5505316] b1 = [0.5806778] l_sigma = [-0.8173692] dL/db0 =  [0.00024414] dL/db1 =  [0.] dL/dlsigma =  [0.]\n",
      "Iteration =  20400 loglik  = 309.92212 b0 = [3.5505316] b1 = [0.5806778] l_sigma = [-0.8173692] dL/db0 =  [0.00024414] dL/db1 =  [0.] dL/dlsigma =  [0.]\n"
     ]
    },
    {
     "name": "stdout",
     "output_type": "stream",
     "text": [
      "Iteration =  20500 loglik  = 309.92212 b0 = [3.5505316] b1 = [0.5806778] l_sigma = [-0.8173692] dL/db0 =  [0.00024414] dL/db1 =  [0.] dL/dlsigma =  [0.]\n",
      "Iteration =  20600 loglik  = 309.92212 b0 = [3.5505316] b1 = [0.5806778] l_sigma = [-0.8173692] dL/db0 =  [0.00024414] dL/db1 =  [0.] dL/dlsigma =  [0.]\n",
      "Iteration =  20700 loglik  = 309.92212 b0 = [3.5505316] b1 = [0.5806778] l_sigma = [-0.8173692] dL/db0 =  [0.00024414] dL/db1 =  [0.] dL/dlsigma =  [0.]\n",
      "Iteration =  20800 loglik  = 309.92212 b0 = [3.5505316] b1 = [0.5806778] l_sigma = [-0.8173692] dL/db0 =  [0.00024414] dL/db1 =  [0.] dL/dlsigma =  [0.]\n",
      "Iteration =  20900 loglik  = 309.92212 b0 = [3.5505316] b1 = [0.5806778] l_sigma = [-0.8173692] dL/db0 =  [0.00024414] dL/db1 =  [0.] dL/dlsigma =  [0.]\n",
      "Iteration =  21000 loglik  = 309.92212 b0 = [3.5505316] b1 = [0.5806778] l_sigma = [-0.8173692] dL/db0 =  [0.00024414] dL/db1 =  [0.] dL/dlsigma =  [0.]\n",
      "Iteration =  21100 loglik  = 309.92212 b0 = [3.5505316] b1 = [0.5806778] l_sigma = [-0.8173692] dL/db0 =  [0.00024414] dL/db1 =  [0.] dL/dlsigma =  [0.]\n",
      "Iteration =  21200 loglik  = 309.92212 b0 = [3.5505316] b1 = [0.5806778] l_sigma = [-0.8173692] dL/db0 =  [0.00024414] dL/db1 =  [0.] dL/dlsigma =  [0.]\n",
      "Iteration =  21300 loglik  = 309.92212 b0 = [3.5505316] b1 = [0.5806778] l_sigma = [-0.8173692] dL/db0 =  [0.00024414] dL/db1 =  [0.] dL/dlsigma =  [0.]\n",
      "Iteration =  21400 loglik  = 309.92212 b0 = [3.5505316] b1 = [0.5806778] l_sigma = [-0.8173692] dL/db0 =  [0.00024414] dL/db1 =  [0.] dL/dlsigma =  [0.]\n",
      "Iteration =  21500 loglik  = 309.92212 b0 = [3.5505316] b1 = [0.5806778] l_sigma = [-0.8173692] dL/db0 =  [0.00024414] dL/db1 =  [0.] dL/dlsigma =  [0.]\n",
      "Iteration =  21600 loglik  = 309.92212 b0 = [3.5505316] b1 = [0.5806778] l_sigma = [-0.8173692] dL/db0 =  [0.00024414] dL/db1 =  [0.] dL/dlsigma =  [0.]\n",
      "Iteration =  21700 loglik  = 309.92212 b0 = [3.5505316] b1 = [0.5806778] l_sigma = [-0.8173692] dL/db0 =  [0.00024414] dL/db1 =  [0.] dL/dlsigma =  [0.]\n",
      "Iteration =  21800 loglik  = 309.92212 b0 = [3.5505316] b1 = [0.5806778] l_sigma = [-0.8173692] dL/db0 =  [0.00024414] dL/db1 =  [0.] dL/dlsigma =  [0.]\n",
      "Iteration =  21900 loglik  = 309.92212 b0 = [3.5505316] b1 = [0.5806778] l_sigma = [-0.8173692] dL/db0 =  [0.00024414] dL/db1 =  [0.] dL/dlsigma =  [0.]\n",
      "Iteration =  22000 loglik  = 309.92212 b0 = [3.5505316] b1 = [0.5806778] l_sigma = [-0.8173692] dL/db0 =  [0.00024414] dL/db1 =  [0.] dL/dlsigma =  [0.]\n",
      "Iteration =  22100 loglik  = 309.92212 b0 = [3.5505316] b1 = [0.5806778] l_sigma = [-0.8173692] dL/db0 =  [0.00024414] dL/db1 =  [0.] dL/dlsigma =  [0.]\n",
      "Iteration =  22200 loglik  = 309.92212 b0 = [3.5505316] b1 = [0.5806778] l_sigma = [-0.8173692] dL/db0 =  [0.00024414] dL/db1 =  [0.] dL/dlsigma =  [0.]\n",
      "Iteration =  22300 loglik  = 309.92212 b0 = [3.5505316] b1 = [0.5806778] l_sigma = [-0.8173692] dL/db0 =  [0.00024414] dL/db1 =  [0.] dL/dlsigma =  [0.]\n",
      "Iteration =  22400 loglik  = 309.92212 b0 = [3.5505316] b1 = [0.5806778] l_sigma = [-0.8173692] dL/db0 =  [0.00024414] dL/db1 =  [0.] dL/dlsigma =  [0.]\n",
      "Iteration =  22500 loglik  = 309.92212 b0 = [3.5505316] b1 = [0.5806778] l_sigma = [-0.8173692] dL/db0 =  [0.00024414] dL/db1 =  [0.] dL/dlsigma =  [0.]\n",
      "Iteration =  22600 loglik  = 309.92212 b0 = [3.5505316] b1 = [0.5806778] l_sigma = [-0.8173692] dL/db0 =  [0.00024414] dL/db1 =  [0.] dL/dlsigma =  [0.]\n",
      "Iteration =  22700 loglik  = 309.92212 b0 = [3.5505316] b1 = [0.5806778] l_sigma = [-0.8173692] dL/db0 =  [0.00024414] dL/db1 =  [0.] dL/dlsigma =  [0.]\n",
      "Iteration =  22800 loglik  = 309.92212 b0 = [3.5505316] b1 = [0.5806778] l_sigma = [-0.8173692] dL/db0 =  [0.00024414] dL/db1 =  [0.] dL/dlsigma =  [0.]\n",
      "Iteration =  22900 loglik  = 309.92212 b0 = [3.5505316] b1 = [0.5806778] l_sigma = [-0.8173692] dL/db0 =  [0.00024414] dL/db1 =  [0.] dL/dlsigma =  [0.]\n",
      "Iteration =  23000 loglik  = 309.92212 b0 = [3.5505316] b1 = [0.5806778] l_sigma = [-0.8173692] dL/db0 =  [0.00024414] dL/db1 =  [0.] dL/dlsigma =  [0.]\n",
      "Iteration =  23100 loglik  = 309.92212 b0 = [3.5505316] b1 = [0.5806778] l_sigma = [-0.8173692] dL/db0 =  [0.00024414] dL/db1 =  [0.] dL/dlsigma =  [0.]\n",
      "Iteration =  23200 loglik  = 309.92212 b0 = [3.5505316] b1 = [0.5806778] l_sigma = [-0.8173692] dL/db0 =  [0.00024414] dL/db1 =  [0.] dL/dlsigma =  [0.]\n",
      "Iteration =  23300 loglik  = 309.92212 b0 = [3.5505316] b1 = [0.5806778] l_sigma = [-0.8173692] dL/db0 =  [0.00024414] dL/db1 =  [0.] dL/dlsigma =  [0.]\n",
      "Iteration =  23400 loglik  = 309.92212 b0 = [3.5505316] b1 = [0.5806778] l_sigma = [-0.8173692] dL/db0 =  [0.00024414] dL/db1 =  [0.] dL/dlsigma =  [0.]\n",
      "Iteration =  23500 loglik  = 309.92212 b0 = [3.5505316] b1 = [0.5806778] l_sigma = [-0.8173692] dL/db0 =  [0.00024414] dL/db1 =  [0.] dL/dlsigma =  [0.]\n",
      "Iteration =  23600 loglik  = 309.92212 b0 = [3.5505316] b1 = [0.5806778] l_sigma = [-0.8173692] dL/db0 =  [0.00024414] dL/db1 =  [0.] dL/dlsigma =  [0.]\n",
      "Iteration =  23700 loglik  = 309.92212 b0 = [3.5505316] b1 = [0.5806778] l_sigma = [-0.8173692] dL/db0 =  [0.00024414] dL/db1 =  [0.] dL/dlsigma =  [0.]\n",
      "Iteration =  23800 loglik  = 309.92212 b0 = [3.5505316] b1 = [0.5806778] l_sigma = [-0.8173692] dL/db0 =  [0.00024414] dL/db1 =  [0.] dL/dlsigma =  [0.]\n",
      "Iteration =  23900 loglik  = 309.92212 b0 = [3.5505316] b1 = [0.5806778] l_sigma = [-0.8173692] dL/db0 =  [0.00024414] dL/db1 =  [0.] dL/dlsigma =  [0.]\n",
      "Iteration =  24000 loglik  = 309.92212 b0 = [3.5505316] b1 = [0.5806778] l_sigma = [-0.8173692] dL/db0 =  [0.00024414] dL/db1 =  [0.] dL/dlsigma =  [0.]\n",
      "Iteration =  24100 loglik  = 309.92212 b0 = [3.5505316] b1 = [0.5806778] l_sigma = [-0.8173692] dL/db0 =  [0.00024414] dL/db1 =  [0.] dL/dlsigma =  [0.]\n",
      "Iteration =  24200 loglik  = 309.92212 b0 = [3.5505316] b1 = [0.5806778] l_sigma = [-0.8173692] dL/db0 =  [0.00024414] dL/db1 =  [0.] dL/dlsigma =  [0.]\n",
      "Iteration =  24300 loglik  = 309.92212 b0 = [3.5505316] b1 = [0.5806778] l_sigma = [-0.8173692] dL/db0 =  [0.00024414] dL/db1 =  [0.] dL/dlsigma =  [0.]\n",
      "Iteration =  24400 loglik  = 309.92212 b0 = [3.5505316] b1 = [0.5806778] l_sigma = [-0.8173692] dL/db0 =  [0.00024414] dL/db1 =  [0.] dL/dlsigma =  [0.]\n",
      "Iteration =  24500 loglik  = 309.92212 b0 = [3.5505316] b1 = [0.5806778] l_sigma = [-0.8173692] dL/db0 =  [0.00024414] dL/db1 =  [0.] dL/dlsigma =  [0.]\n",
      "Iteration =  24600 loglik  = 309.92212 b0 = [3.5505316] b1 = [0.5806778] l_sigma = [-0.8173692] dL/db0 =  [0.00024414] dL/db1 =  [0.] dL/dlsigma =  [0.]\n",
      "Iteration =  24700 loglik  = 309.92212 b0 = [3.5505316] b1 = [0.5806778] l_sigma = [-0.8173692] dL/db0 =  [0.00024414] dL/db1 =  [0.] dL/dlsigma =  [0.]\n",
      "Iteration =  24800 loglik  = 309.92212 b0 = [3.5505316] b1 = [0.5806778] l_sigma = [-0.8173692] dL/db0 =  [0.00024414] dL/db1 =  [0.] dL/dlsigma =  [0.]\n",
      "Iteration =  24900 loglik  = 309.92212 b0 = [3.5505316] b1 = [0.5806778] l_sigma = [-0.8173692] dL/db0 =  [0.00024414] dL/db1 =  [0.] dL/dlsigma =  [0.]\n"
     ]
    }
   ],
   "source": [
    "## Learning rate\n",
    "learning_rate_b0 = 2e-4\n",
    "learning_rate_b1 = 2e-4\n",
    "learning_rate_sigma = 2e-4\n",
    "\n",
    "## Training loop\n",
    "for t in range(25000):\n",
    "    ## Backprop on negative log likelihood loss\n",
    "    NLLnb1 = negbin1_nll(x=x, y=y, b0=b0, b1=b1, log_sigma=l_sigma)\n",
    "    NLLnb1.backward()\n",
    "    ## Logging to console\n",
    "    if t % 100 == 0:\n",
    "        print(\"Iteration = \", t, \n",
    "              \"loglik  =\", NLLnb1.data.numpy(), \n",
    "              \"b0 =\", b0.data.numpy(), \n",
    "              \"b1 =\", b1.data.numpy(), \n",
    "              \"l_sigma =\", l_sigma.data.numpy(), \n",
    "              \"dL/db0 = \", b0.grad.data.numpy(),\n",
    "              \"dL/db1 = \", b1.grad.data.numpy(),\n",
    "              \"dL/dlsigma = \", l_sigma.grad.data.numpy()\n",
    "             )\n",
    "    ## SGD update of parms\n",
    "    b0.data -= learning_rate_b0 * torch.clamp(b0.grad.data, -1, 1)\n",
    "    b1.data -= learning_rate_b1 * torch.clamp(b1.grad.data, -1, 1)\n",
    "    l_sigma.data -= learning_rate_sigma * torch.clamp(l_sigma.grad.data, -1, 1)\n",
    "    ## Zero the gradients\n",
    "    b0.grad.data.zero_()\n",
    "    b1.grad.data.zero_()\n",
    "    l_sigma.grad.data.zero_()\n",
    "    "
   ]
  },
  {
   "cell_type": "code",
   "execution_count": 19,
   "metadata": {},
   "outputs": [
    {
     "data": {
      "text/plain": [
       "[array([3.5505316], dtype=float32),\n",
       " array([0.5806778], dtype=float32),\n",
       " array([-0.8173692], dtype=float32)]"
      ]
     },
     "execution_count": 19,
     "metadata": {},
     "output_type": "execute_result"
    }
   ],
   "source": [
    "## Final estimate of NBI regression parms: {b0,b1}\n",
    "[b0.data.numpy(), b1.data.numpy(), l_sigma.data.numpy()]"
   ]
  },
  {
   "cell_type": "code",
   "execution_count": 20,
   "metadata": {},
   "outputs": [],
   "source": [
    "## Compare above NBI regression estimates obtained from NBI SGD; against those from GAMLSS package \n",
    "## Note: we NEED to scale the covariate/feature vector \"x\" (lake-size), in order to obtain reasonable parm estimates (convergence, etc.)"
   ]
  },
  {
   "cell_type": "code",
   "execution_count": 21,
   "metadata": {},
   "outputs": [
    {
     "data": {
      "text/plain": [
       "''"
      ]
     },
     "execution_count": 21,
     "metadata": {},
     "output_type": "execute_result"
    }
   ],
   "source": [
    "'''\n",
    "> ## NBI Model\n",
    "library(gamlss)\n",
    "\n",
    "> R_NBI <- gamlss(fish ~ scale_x, data = species, family = \"NBI\")\n",
    "GAMLSS-RS iteration 1: Global Deviance = 619.8502 \n",
    "GAMLSS-RS iteration 2: Global Deviance = 619.8443 \n",
    "GAMLSS-RS iteration 3: Global Deviance = 619.8443 \n",
    "> summary(R_NBI)\n",
    "******************************************************************\n",
    "Family:  c(\"NBI\", \"Negative Binomial type I\") \n",
    "\n",
    "Call:  gamlss(formula = fish ~ scale_x, family = \"NBI\", data = species) \n",
    "\n",
    "Fitting method: RS() \n",
    "\n",
    "------------------------------------------------------------------\n",
    "Mu link function:  log\n",
    "Mu Coefficients:\n",
    "            Estimate Std. Error t value             Pr(>|t|)    \n",
    "(Intercept)  3.55053    0.08252  43.027 < 0.0000000000000002 ***\n",
    "scale_x      0.58071    0.07704   7.538       0.000000000164 ***\n",
    "---\n",
    "Signif. codes:  0 ‘***’ 0.001 ‘**’ 0.01 ‘*’ 0.05 ‘.’ 0.1 ‘ ’ 1\n",
    "\n",
    "------------------------------------------------------------------\n",
    "Sigma link function:  log\n",
    "Sigma Coefficients:\n",
    "            Estimate Std. Error t value   Pr(>|t|)    \n",
    "(Intercept)  -0.8174     0.1694  -4.824 0.00000845 ***\n",
    "---\n",
    "Signif. codes:  0 ‘***’ 0.001 ‘**’ 0.01 ‘*’ 0.05 ‘.’ 0.1 ‘ ’ 1\n",
    "\n",
    "------------------------------------------------------------------\n",
    "No. of observations in the fit:  70 \n",
    "Degrees of Freedom for the fit:  3\n",
    "      Residual Deg. of Freedom:  67 \n",
    "                      at cycle:  3 \n",
    " \n",
    "Global Deviance:     619.8443 \n",
    "            AIC:     625.8443 \n",
    "            SBC:     632.5898 \n",
    "******************************************************************\n",
    "'''\n",
    ";"
   ]
  },
  {
   "cell_type": "code",
   "execution_count": null,
   "metadata": {},
   "outputs": [],
   "source": []
  },
  {
   "cell_type": "code",
   "execution_count": null,
   "metadata": {},
   "outputs": [],
   "source": []
  },
  {
   "cell_type": "code",
   "execution_count": null,
   "metadata": {},
   "outputs": [],
   "source": []
  },
  {
   "cell_type": "code",
   "execution_count": null,
   "metadata": {},
   "outputs": [],
   "source": []
  },
  {
   "cell_type": "code",
   "execution_count": 22,
   "metadata": {},
   "outputs": [
    {
     "name": "stdout",
     "output_type": "stream",
     "text": [
      "-----\n",
      "numpy       1.20.3\n",
      "pandas      1.3.1\n",
      "sinfo       0.3.1\n",
      "torch       1.9.0\n",
      "-----\n",
      "IPython             7.26.0\n",
      "jupyter_client      6.1.12\n",
      "jupyter_core        4.7.1\n",
      "jupyterlab          3.1.7\n",
      "notebook            6.4.3\n",
      "-----\n",
      "Python 3.9.6 (default, Aug 18 2021, 15:44:49) [MSC v.1916 64 bit (AMD64)]\n",
      "Windows-10-10.0.19042-SP0\n",
      "8 logical CPU cores, Intel64 Family 6 Model 126 Stepping 5, GenuineIntel\n",
      "-----\n",
      "Session information updated at 2021-08-21 02:17\n"
     ]
    }
   ],
   "source": [
    "########################\n",
    "## Print session info to console \n",
    "########################\n",
    "sinfo()"
   ]
  },
  {
   "cell_type": "code",
   "execution_count": null,
   "metadata": {},
   "outputs": [],
   "source": []
  }
 ],
 "metadata": {
  "colab": {
   "authorship_tag": "ABX9TyP+Y2qdOHz9LLr9FTwsBagp",
   "collapsed_sections": [],
   "name": "PyTorch_CountDistMLEs_SpeciesDatasetExample.ipynb",
   "provenance": [
    {
     "file_id": "1XRwZ_jQyySdAa4a4jZ7VwYuLWtRaz4f2",
     "timestamp": 1625988939591
    },
    {
     "file_id": "1Q-GUXkWcqMJjpF_OgecQBUA7ZEGBLkXw",
     "timestamp": 1625986377347
    },
    {
     "file_id": "1UVQOt_noxCtpcDVvyBz6GPuDTD3XPTCZ",
     "timestamp": 1625983790664
    }
   ]
  },
  "kernelspec": {
   "display_name": "Python 3",
   "language": "python",
   "name": "python3"
  },
  "language_info": {
   "codemirror_mode": {
    "name": "ipython",
    "version": 3
   },
   "file_extension": ".py",
   "mimetype": "text/x-python",
   "name": "python",
   "nbconvert_exporter": "python",
   "pygments_lexer": "ipython3",
   "version": "3.9.6"
  }
 },
 "nbformat": 4,
 "nbformat_minor": 1
}
