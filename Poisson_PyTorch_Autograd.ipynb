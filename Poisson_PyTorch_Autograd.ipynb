{
 "cells": [
  {
   "cell_type": "code",
   "execution_count": 1,
   "metadata": {
    "executionInfo": {
     "elapsed": 131,
     "status": "ok",
     "timestamp": 1626061355643,
     "user": {
      "displayName": "Christopher Meaney",
      "photoUrl": "https://lh3.googleusercontent.com/a-/AOh14GhKFFOwHDdeq1jGbaX8XCVSLMIXialpqKx1BEbX=s64",
      "userId": "15619654579218208651"
     },
     "user_tz": 240
    },
    "id": "siMpwITBI_fM"
   },
   "outputs": [],
   "source": [
    "###############################################\n",
    "## PyTorch Poisson Distribution Likelihood Optimization Examples\n",
    "## Author: Chris Meaney\n",
    "## Date: August 2021\n",
    "###############################################"
   ]
  },
  {
   "cell_type": "code",
   "execution_count": 2,
   "metadata": {
    "executionInfo": {
     "elapsed": 3998,
     "status": "ok",
     "timestamp": 1626061359965,
     "user": {
      "displayName": "Christopher Meaney",
      "photoUrl": "https://lh3.googleusercontent.com/a-/AOh14GhKFFOwHDdeq1jGbaX8XCVSLMIXialpqKx1BEbX=s64",
      "userId": "15619654579218208651"
     },
     "user_tz": 240
    },
    "id": "E4ozfC7PJCqf"
   },
   "outputs": [],
   "source": [
    "## Dependency modules\n",
    "import numpy as np\n",
    "import pandas as pd\n",
    "import torch\n",
    "from sinfo import sinfo"
   ]
  },
  {
   "cell_type": "code",
   "execution_count": 3,
   "metadata": {
    "colab": {
     "base_uri": "https://localhost:8080/",
     "height": 526
    },
    "executionInfo": {
     "elapsed": 22643,
     "status": "ok",
     "timestamp": 1626061382604,
     "user": {
      "displayName": "Christopher Meaney",
      "photoUrl": "https://lh3.googleusercontent.com/a-/AOh14GhKFFOwHDdeq1jGbaX8XCVSLMIXialpqKx1BEbX=s64",
      "userId": "15619654579218208651"
     },
     "user_tz": 240
    },
    "id": "wFUABrptfuuu",
    "outputId": "9b5d096e-a385-4108-c72f-5c04f0c3260d"
   },
   "outputs": [
    {
     "data": {
      "text/html": [
       "<div>\n",
       "<style scoped>\n",
       "    .dataframe tbody tr th:only-of-type {\n",
       "        vertical-align: middle;\n",
       "    }\n",
       "\n",
       "    .dataframe tbody tr th {\n",
       "        vertical-align: top;\n",
       "    }\n",
       "\n",
       "    .dataframe thead th {\n",
       "        text-align: right;\n",
       "    }\n",
       "</style>\n",
       "<table border=\"1\" class=\"dataframe\">\n",
       "  <thead>\n",
       "    <tr style=\"text-align: right;\">\n",
       "      <th></th>\n",
       "      <th>fish</th>\n",
       "      <th>lake</th>\n",
       "      <th>x</th>\n",
       "      <th>scale_x</th>\n",
       "    </tr>\n",
       "  </thead>\n",
       "  <tbody>\n",
       "    <tr>\n",
       "      <th>0</th>\n",
       "      <td>10</td>\n",
       "      <td>5</td>\n",
       "      <td>1.609438</td>\n",
       "      <td>-1.533430</td>\n",
       "    </tr>\n",
       "    <tr>\n",
       "      <th>1</th>\n",
       "      <td>37</td>\n",
       "      <td>41</td>\n",
       "      <td>3.713572</td>\n",
       "      <td>-0.901903</td>\n",
       "    </tr>\n",
       "    <tr>\n",
       "      <th>2</th>\n",
       "      <td>60</td>\n",
       "      <td>171</td>\n",
       "      <td>5.141664</td>\n",
       "      <td>-0.473281</td>\n",
       "    </tr>\n",
       "    <tr>\n",
       "      <th>3</th>\n",
       "      <td>113</td>\n",
       "      <td>25719</td>\n",
       "      <td>10.154985</td>\n",
       "      <td>1.031399</td>\n",
       "    </tr>\n",
       "    <tr>\n",
       "      <th>4</th>\n",
       "      <td>99</td>\n",
       "      <td>59596</td>\n",
       "      <td>10.995344</td>\n",
       "      <td>1.283621</td>\n",
       "    </tr>\n",
       "    <tr>\n",
       "      <th>5</th>\n",
       "      <td>13</td>\n",
       "      <td>1</td>\n",
       "      <td>0.000000</td>\n",
       "      <td>-2.016481</td>\n",
       "    </tr>\n",
       "    <tr>\n",
       "      <th>6</th>\n",
       "      <td>30</td>\n",
       "      <td>44</td>\n",
       "      <td>3.784190</td>\n",
       "      <td>-0.880708</td>\n",
       "    </tr>\n",
       "    <tr>\n",
       "      <th>7</th>\n",
       "      <td>114</td>\n",
       "      <td>58016</td>\n",
       "      <td>10.968474</td>\n",
       "      <td>1.275556</td>\n",
       "    </tr>\n",
       "    <tr>\n",
       "      <th>8</th>\n",
       "      <td>112</td>\n",
       "      <td>19477</td>\n",
       "      <td>9.876990</td>\n",
       "      <td>0.947962</td>\n",
       "    </tr>\n",
       "    <tr>\n",
       "      <th>9</th>\n",
       "      <td>17</td>\n",
       "      <td>10</td>\n",
       "      <td>2.302585</td>\n",
       "      <td>-1.325392</td>\n",
       "    </tr>\n",
       "    <tr>\n",
       "      <th>10</th>\n",
       "      <td>10</td>\n",
       "      <td>85</td>\n",
       "      <td>4.442651</td>\n",
       "      <td>-0.683080</td>\n",
       "    </tr>\n",
       "    <tr>\n",
       "      <th>11</th>\n",
       "      <td>14</td>\n",
       "      <td>1</td>\n",
       "      <td>0.000000</td>\n",
       "      <td>-2.016481</td>\n",
       "    </tr>\n",
       "    <tr>\n",
       "      <th>12</th>\n",
       "      <td>39</td>\n",
       "      <td>174</td>\n",
       "      <td>5.159055</td>\n",
       "      <td>-0.468061</td>\n",
       "    </tr>\n",
       "    <tr>\n",
       "      <th>13</th>\n",
       "      <td>14</td>\n",
       "      <td>3</td>\n",
       "      <td>1.098612</td>\n",
       "      <td>-1.686748</td>\n",
       "    </tr>\n",
       "    <tr>\n",
       "      <th>14</th>\n",
       "      <td>14</td>\n",
       "      <td>54</td>\n",
       "      <td>3.988984</td>\n",
       "      <td>-0.819242</td>\n",
       "    </tr>\n",
       "  </tbody>\n",
       "</table>\n",
       "</div>"
      ],
      "text/plain": [
       "    fish   lake          x   scale_x\n",
       "0     10      5   1.609438 -1.533430\n",
       "1     37     41   3.713572 -0.901903\n",
       "2     60    171   5.141664 -0.473281\n",
       "3    113  25719  10.154985  1.031399\n",
       "4     99  59596  10.995344  1.283621\n",
       "5     13      1   0.000000 -2.016481\n",
       "6     30     44   3.784190 -0.880708\n",
       "7    114  58016  10.968474  1.275556\n",
       "8    112  19477   9.876990  0.947962\n",
       "9     17     10   2.302585 -1.325392\n",
       "10    10     85   4.442651 -0.683080\n",
       "11    14      1   0.000000 -2.016481\n",
       "12    39    174   5.159055 -0.468061\n",
       "13    14      3   1.098612 -1.686748\n",
       "14    14     54   3.988984 -0.819242"
      ]
     },
     "execution_count": 3,
     "metadata": {},
     "output_type": "execute_result"
    }
   ],
   "source": [
    "##########################################################\n",
    "## Use pandas to import data, and store as data.frame\n",
    "## Data are 1) response/target variable (number of fish = count random variable), 2) lake size (single continous feature/predictor)\n",
    "##########################################################\n",
    "dat = pd.read_csv('C://Users//ChristopherMeaney//Desktop//PyTorch_Stuff//pytorch_count_dists//species.csv', encoding='latin1')\n",
    "dat.head(n=15)"
   ]
  },
  {
   "cell_type": "code",
   "execution_count": 4,
   "metadata": {
    "colab": {
     "base_uri": "https://localhost:8080/"
    },
    "executionInfo": {
     "elapsed": 14,
     "status": "ok",
     "timestamp": 1626061382606,
     "user": {
      "displayName": "Christopher Meaney",
      "photoUrl": "https://lh3.googleusercontent.com/a-/AOh14GhKFFOwHDdeq1jGbaX8XCVSLMIXialpqKx1BEbX=s64",
      "userId": "15619654579218208651"
     },
     "user_tz": 240
    },
    "id": "5-Hzlh2yJCvy",
    "outputId": "211689d5-e4ef-4c31-9aaa-25f0f8ef16ab"
   },
   "outputs": [
    {
     "data": {
      "text/plain": [
       "count     70.000000\n",
       "mean      41.742857\n",
       "std       47.849609\n",
       "min        5.000000\n",
       "25%       14.000000\n",
       "50%       21.500000\n",
       "75%       47.500000\n",
       "max      245.000000\n",
       "Name: fish, dtype: float64"
      ]
     },
     "execution_count": 4,
     "metadata": {},
     "output_type": "execute_result"
    }
   ],
   "source": [
    "## Describe the data\n",
    "dat.fish.describe()"
   ]
  },
  {
   "cell_type": "code",
   "execution_count": 5,
   "metadata": {},
   "outputs": [
    {
     "data": {
      "text/plain": [
       "41.74285714285714"
      ]
     },
     "execution_count": 5,
     "metadata": {},
     "output_type": "execute_result"
    }
   ],
   "source": [
    "mu_ = dat.fish.mean()\n",
    "mu_"
   ]
  },
  {
   "cell_type": "code",
   "execution_count": 6,
   "metadata": {},
   "outputs": [
    {
     "data": {
      "text/plain": [
       "47.84960912241293"
      ]
     },
     "execution_count": 6,
     "metadata": {},
     "output_type": "execute_result"
    }
   ],
   "source": [
    "sigma_ = np.sqrt(dat.fish.var())\n",
    "sigma_"
   ]
  },
  {
   "cell_type": "code",
   "execution_count": null,
   "metadata": {
    "executionInfo": {
     "elapsed": 11,
     "status": "ok",
     "timestamp": 1626061382607,
     "user": {
      "displayName": "Christopher Meaney",
      "photoUrl": "https://lh3.googleusercontent.com/a-/AOh14GhKFFOwHDdeq1jGbaX8XCVSLMIXialpqKx1BEbX=s64",
      "userId": "15619654579218208651"
     },
     "user_tz": 240
    },
    "id": "TjFl0euzh5Vv"
   },
   "outputs": [],
   "source": []
  },
  {
   "cell_type": "code",
   "execution_count": null,
   "metadata": {
    "executionInfo": {
     "elapsed": 12,
     "status": "ok",
     "timestamp": 1626061382609,
     "user": {
      "displayName": "Christopher Meaney",
      "photoUrl": "https://lh3.googleusercontent.com/a-/AOh14GhKFFOwHDdeq1jGbaX8XCVSLMIXialpqKx1BEbX=s64",
      "userId": "15619654579218208651"
     },
     "user_tz": 240
    },
    "id": "2WqxGcT8h5er"
   },
   "outputs": [],
   "source": []
  },
  {
   "cell_type": "code",
   "execution_count": 7,
   "metadata": {
    "executionInfo": {
     "elapsed": 11,
     "status": "ok",
     "timestamp": 1626061382609,
     "user": {
      "displayName": "Christopher Meaney",
      "photoUrl": "https://lh3.googleusercontent.com/a-/AOh14GhKFFOwHDdeq1jGbaX8XCVSLMIXialpqKx1BEbX=s64",
      "userId": "15619654579218208651"
     },
     "user_tz": 240
    },
    "id": "G_kKZ3Wqh5m6"
   },
   "outputs": [],
   "source": [
    "################################################\n",
    "## Poisson Model\n",
    "################################################"
   ]
  },
  {
   "cell_type": "code",
   "execution_count": 8,
   "metadata": {
    "executionInfo": {
     "elapsed": 12,
     "status": "ok",
     "timestamp": 1626061382610,
     "user": {
      "displayName": "Christopher Meaney",
      "photoUrl": "https://lh3.googleusercontent.com/a-/AOh14GhKFFOwHDdeq1jGbaX8XCVSLMIXialpqKx1BEbX=s64",
      "userId": "15619654579218208651"
     },
     "user_tz": 240
    },
    "id": "cq-xt6s6JCyc"
   },
   "outputs": [],
   "source": [
    "## Instantiate data tensor, and variable for (Poisson) model parameters\n",
    "x = torch.autograd.Variable(torch.from_numpy(dat.fish.to_numpy())).type(torch.FloatTensor)\n",
    "l_mu = torch.autograd.Variable(torch.rand(1), requires_grad=True) \n",
    "## Log scale mean parm\n",
    "## ---Note: I think the estimates might be slightly diff, if est unconstrained vs. constrained (log-link)\n",
    "## ---Note: Re-parameterizing to log-scale seems to accelerate convergence"
   ]
  },
  {
   "cell_type": "code",
   "execution_count": 9,
   "metadata": {},
   "outputs": [],
   "source": [
    "def poisson_nll(x, log_mu):\n",
    "    nll = -torch.sum(-torch.exp(log_mu) + x*torch.log(torch.exp(log_mu)) - torch.lgamma(x))\n",
    "    return nll"
   ]
  },
  {
   "cell_type": "code",
   "execution_count": 10,
   "metadata": {
    "colab": {
     "base_uri": "https://localhost:8080/"
    },
    "executionInfo": {
     "elapsed": 4213,
     "status": "ok",
     "timestamp": 1626061386812,
     "user": {
      "displayName": "Christopher Meaney",
      "photoUrl": "https://lh3.googleusercontent.com/a-/AOh14GhKFFOwHDdeq1jGbaX8XCVSLMIXialpqKx1BEbX=s64",
      "userId": "15619654579218208651"
     },
     "user_tz": 240
    },
    "id": "Y3KwjhlEJC1F",
    "outputId": "fecd3883-f9da-4b99-ea9e-7919a1f5e457"
   },
   "outputs": [
    {
     "name": "stdout",
     "output_type": "stream",
     "text": [
      "Iteration =  0 loglik  = 8156.642 l_mu = [0.41156012] dL/dlmu =  [-2816.3582]\n",
      "Iteration =  10 loglik  = 1272.9039 l_mu = [3.7072985] dL/dlmu =  [-69.94849]\n",
      "Iteration =  20 loglik  = 1272.0527 l_mu = [3.7315245] dL/dlmu =  [-0.01147461]\n",
      "Iteration =  30 loglik  = 1272.0531 l_mu = [3.7315283] dL/dlmu =  [0.]\n",
      "Iteration =  40 loglik  = 1272.0531 l_mu = [3.7315283] dL/dlmu =  [0.]\n",
      "Iteration =  50 loglik  = 1272.0531 l_mu = [3.7315283] dL/dlmu =  [0.]\n",
      "Iteration =  60 loglik  = 1272.0531 l_mu = [3.7315283] dL/dlmu =  [0.]\n",
      "Iteration =  70 loglik  = 1272.0531 l_mu = [3.7315283] dL/dlmu =  [0.]\n",
      "Iteration =  80 loglik  = 1272.0531 l_mu = [3.7315283] dL/dlmu =  [0.]\n",
      "Iteration =  90 loglik  = 1272.0531 l_mu = [3.7315283] dL/dlmu =  [0.]\n"
     ]
    }
   ],
   "source": [
    "## Learning rate\n",
    "learning_rate = 2e-4\n",
    "\n",
    "## Training loop\n",
    "for t in range(100):\n",
    "    ## Backprop on negative log likelihood loss\n",
    "    NLLp = poisson_nll(x=x, log_mu=l_mu)\n",
    "    NLLp.backward()\n",
    "    ## Logging to console\n",
    "    if t % 10 == 0:\n",
    "        print(\"Iteration = \", t, \n",
    "              \"loglik  =\", NLLp.data.numpy(), \n",
    "              \"l_mu =\", l_mu.data.numpy(), \n",
    "              \"dL/dlmu = \", l_mu.grad.data.numpy())\n",
    "    ## SGD update of parms\n",
    "    l_mu.data -= learning_rate * l_mu.grad.data\n",
    "    ## Zero the gradients\n",
    "    l_mu.grad.data.zero_()\n",
    "    "
   ]
  },
  {
   "cell_type": "code",
   "execution_count": 11,
   "metadata": {
    "colab": {
     "base_uri": "https://localhost:8080/"
    },
    "executionInfo": {
     "elapsed": 26,
     "status": "ok",
     "timestamp": 1626061386812,
     "user": {
      "displayName": "Christopher Meaney",
      "photoUrl": "https://lh3.googleusercontent.com/a-/AOh14GhKFFOwHDdeq1jGbaX8XCVSLMIXialpqKx1BEbX=s64",
      "userId": "15619654579218208651"
     },
     "user_tz": 240
    },
    "id": "6fIpWVWcJC37",
    "outputId": "b1a544aa-bd6b-44e5-b522-5f30ff97b438"
   },
   "outputs": [
    {
     "data": {
      "text/plain": [
       "[array([3.7315283], dtype=float32), array([41.742855], dtype=float32)]"
      ]
     },
     "execution_count": 11,
     "metadata": {},
     "output_type": "execute_result"
    }
   ],
   "source": [
    "## Final estimate of Poisson mean parm\n",
    "[l_mu.data.numpy(), np.exp(l_mu.data.numpy())]"
   ]
  },
  {
   "cell_type": "code",
   "execution_count": 12,
   "metadata": {},
   "outputs": [],
   "source": [
    "## Compare against \"intercept only\" Poisson regression model"
   ]
  },
  {
   "cell_type": "code",
   "execution_count": 13,
   "metadata": {
    "executionInfo": {
     "elapsed": 22,
     "status": "ok",
     "timestamp": 1626061386813,
     "user": {
      "displayName": "Christopher Meaney",
      "photoUrl": "https://lh3.googleusercontent.com/a-/AOh14GhKFFOwHDdeq1jGbaX8XCVSLMIXialpqKx1BEbX=s64",
      "userId": "15619654579218208651"
     },
     "user_tz": 240
    },
    "id": "6O9UEVi4Kmeb"
   },
   "outputs": [
    {
     "data": {
      "text/plain": [
       "''"
      ]
     },
     "execution_count": 13,
     "metadata": {},
     "output_type": "execute_result"
    }
   ],
   "source": [
    "'''\n",
    "> ## Poisson model\n",
    "> library(gamlss)\n",
    "\n",
    "> R_PO <- gamlss(fish ~ 1, data = species, family = \"PO\")\n",
    "GAMLSS-RS iteration 1: Global Deviance = 3006.626 \n",
    "GAMLSS-RS iteration 2: Global Deviance = 3006.626 \n",
    "> summary(R_PO)\n",
    "******************************************************************\n",
    "Family:  c(\"PO\", \"Poisson\") \n",
    "\n",
    "Call:  gamlss(formula = fish ~ 1, family = \"PO\", data = species) \n",
    "\n",
    "Fitting method: RS() \n",
    "\n",
    "------------------------------------------------------------------\n",
    "Mu link function:  log\n",
    "Mu Coefficients:\n",
    "            Estimate Std. Error t value            Pr(>|t|)    \n",
    "(Intercept)   3.7315     0.0185   201.7 <0.0000000000000002 ***\n",
    "---\n",
    "Signif. codes:  0 ‘***’ 0.001 ‘**’ 0.01 ‘*’ 0.05 ‘.’ 0.1 ‘ ’ 1\n",
    "\n",
    "------------------------------------------------------------------\n",
    "No. of observations in the fit:  70 \n",
    "Degrees of Freedom for the fit:  1\n",
    "      Residual Deg. of Freedom:  69 \n",
    "                      at cycle:  2 \n",
    " \n",
    "Global Deviance:     3006.626 \n",
    "            AIC:     3008.626 \n",
    "            SBC:     3010.875 \n",
    "******************************************************************\n",
    "'''\n",
    ";"
   ]
  },
  {
   "cell_type": "code",
   "execution_count": null,
   "metadata": {
    "executionInfo": {
     "elapsed": 22,
     "status": "ok",
     "timestamp": 1626061386814,
     "user": {
      "displayName": "Christopher Meaney",
      "photoUrl": "https://lh3.googleusercontent.com/a-/AOh14GhKFFOwHDdeq1jGbaX8XCVSLMIXialpqKx1BEbX=s64",
      "userId": "15619654579218208651"
     },
     "user_tz": 240
    },
    "id": "wW_zwnxbiGvo"
   },
   "outputs": [],
   "source": []
  },
  {
   "cell_type": "code",
   "execution_count": 14,
   "metadata": {},
   "outputs": [],
   "source": [
    "################################\n",
    "## Extend above example to Poisson regression\n",
    "## y=Fish-count; x=Lake-size ==> y ~ b0 + b1*x\n",
    "## Goal is to estimate Poisson regression parms: {b0, b1}\n",
    "################################"
   ]
  },
  {
   "cell_type": "code",
   "execution_count": 15,
   "metadata": {},
   "outputs": [],
   "source": [
    "## Instantiate data tensor, and variable for (Poisson) model parameters\n",
    "x = torch.autograd.Variable(torch.from_numpy(dat.scale_x.to_numpy())).type(torch.FloatTensor)\n",
    "y = torch.autograd.Variable(torch.from_numpy(dat.fish.to_numpy())).type(torch.FloatTensor)\n",
    "b0 = torch.autograd.Variable(torch.rand(1), requires_grad=True) \n",
    "b1 = torch.autograd.Variable(torch.rand(1), requires_grad=True) "
   ]
  },
  {
   "cell_type": "code",
   "execution_count": 16,
   "metadata": {},
   "outputs": [],
   "source": [
    "def poisson_nll(x, y, b0, b1):\n",
    "    nll = -torch.sum(-torch.exp(b0 + b1*x) + y*torch.log(torch.exp(b0 + b1*x)) - torch.lgamma(y))\n",
    "    return nll"
   ]
  },
  {
   "cell_type": "code",
   "execution_count": 17,
   "metadata": {},
   "outputs": [
    {
     "name": "stdout",
     "output_type": "stream",
     "text": [
      "Iteration =  0 loglik  = 7293.042 b0 = [0.7016194] b1 = [0.0300743] dL/db0 =  [-2780.746] dL/db1 =  [-1713.5363]\n",
      "Iteration =  10 loglik  = 762.66534 b0 = [3.312585] b1 = [0.8754502] dL/db0 =  [-229.77246] dL/db1 =  [207.63013]\n",
      "Iteration =  20 loglik  = 717.02075 b0 = [3.5063746] b1 = [0.6965788] dL/db0 =  [-16.412598] dL/db1 =  [15.612061]\n",
      "Iteration =  30 loglik  = 716.8185 b0 = [3.5186248] b1 = [0.684908] dL/db0 =  [-0.86694336] dL/db1 =  [0.82788086]\n",
      "Iteration =  40 loglik  = 716.8178 b0 = [3.5192666] b1 = [0.68429524] dL/db0 =  [-0.04492188] dL/db1 =  [0.04321289]\n",
      "Iteration =  50 loglik  = 716.8179 b0 = [3.5192997] b1 = [0.6842634] dL/db0 =  [-0.00268555] dL/db1 =  [0.00219727]\n",
      "Iteration =  60 loglik  = 716.81775 b0 = [3.5193014] b1 = [0.68426186] dL/db0 =  [-0.00048828] dL/db1 =  [0.00012207]\n",
      "Iteration =  70 loglik  = 716.81775 b0 = [3.5193014] b1 = [0.68426186] dL/db0 =  [-0.00048828] dL/db1 =  [0.00012207]\n",
      "Iteration =  80 loglik  = 716.81775 b0 = [3.5193014] b1 = [0.68426186] dL/db0 =  [-0.00048828] dL/db1 =  [0.00012207]\n",
      "Iteration =  90 loglik  = 716.81775 b0 = [3.5193014] b1 = [0.68426186] dL/db0 =  [-0.00048828] dL/db1 =  [0.00012207]\n",
      "Iteration =  100 loglik  = 716.81775 b0 = [3.5193014] b1 = [0.68426186] dL/db0 =  [-0.00048828] dL/db1 =  [0.00012207]\n",
      "Iteration =  110 loglik  = 716.81775 b0 = [3.5193014] b1 = [0.68426186] dL/db0 =  [-0.00048828] dL/db1 =  [0.00012207]\n",
      "Iteration =  120 loglik  = 716.81775 b0 = [3.5193014] b1 = [0.68426186] dL/db0 =  [-0.00048828] dL/db1 =  [0.00012207]\n",
      "Iteration =  130 loglik  = 716.81775 b0 = [3.5193014] b1 = [0.68426186] dL/db0 =  [-0.00048828] dL/db1 =  [0.00012207]\n",
      "Iteration =  140 loglik  = 716.81775 b0 = [3.5193014] b1 = [0.68426186] dL/db0 =  [-0.00048828] dL/db1 =  [0.00012207]\n",
      "Iteration =  150 loglik  = 716.81775 b0 = [3.5193014] b1 = [0.68426186] dL/db0 =  [-0.00048828] dL/db1 =  [0.00012207]\n",
      "Iteration =  160 loglik  = 716.81775 b0 = [3.5193014] b1 = [0.68426186] dL/db0 =  [-0.00048828] dL/db1 =  [0.00012207]\n",
      "Iteration =  170 loglik  = 716.81775 b0 = [3.5193014] b1 = [0.68426186] dL/db0 =  [-0.00048828] dL/db1 =  [0.00012207]\n",
      "Iteration =  180 loglik  = 716.81775 b0 = [3.5193014] b1 = [0.68426186] dL/db0 =  [-0.00048828] dL/db1 =  [0.00012207]\n",
      "Iteration =  190 loglik  = 716.81775 b0 = [3.5193014] b1 = [0.68426186] dL/db0 =  [-0.00048828] dL/db1 =  [0.00012207]\n"
     ]
    }
   ],
   "source": [
    "## Learning rate\n",
    "learning_rate_b0 = 2e-4\n",
    "learning_rate_b1 = 2e-4\n",
    "\n",
    "## Training loop\n",
    "for t in range(200):\n",
    "    ## Backprop on negative log likelihood loss\n",
    "    NLLp = poisson_nll(x=x, y=y, b0=b0, b1=b1)\n",
    "    NLLp.backward()\n",
    "    ## Logging to console\n",
    "    if t % 10 == 0:\n",
    "        print(\"Iteration = \", t, \n",
    "              \"loglik  =\", NLLp.data.numpy(), \n",
    "              \"b0 =\", b0.data.numpy(), \n",
    "              \"b1 =\", b1.data.numpy(), \n",
    "              \"dL/db0 = \", b0.grad.data.numpy(),\n",
    "              \"dL/db1 = \", b1.grad.data.numpy()\n",
    "             )\n",
    "    ## SGD update of parms\n",
    "    b0.data -= learning_rate_b0 * b0.grad.data\n",
    "    b1.data -= learning_rate_b1 * b1.grad.data\n",
    "    ## Zero the gradients\n",
    "    b0.grad.data.zero_()\n",
    "    b1.grad.data.zero_()\n",
    "    "
   ]
  },
  {
   "cell_type": "code",
   "execution_count": 18,
   "metadata": {},
   "outputs": [
    {
     "data": {
      "text/plain": [
       "[array([3.5193014], dtype=float32), array([0.68426186], dtype=float32)]"
      ]
     },
     "execution_count": 18,
     "metadata": {},
     "output_type": "execute_result"
    }
   ],
   "source": [
    "## Final estimate of Poisson regression parms: {b0,b1}\n",
    "[b0.data.numpy(), b1.data.numpy()]"
   ]
  },
  {
   "cell_type": "code",
   "execution_count": 19,
   "metadata": {},
   "outputs": [],
   "source": [
    "## Compare above Poisson regression estimates obtained from Poisson SGD; against those from GAMLSS package \n",
    "## Note: we NEED to scale the covariate/feature vector \"x\" (lake-size), in order to obtain reasonable parm estimates (convergence, etc.)"
   ]
  },
  {
   "cell_type": "code",
   "execution_count": 20,
   "metadata": {},
   "outputs": [
    {
     "data": {
      "text/plain": [
       "''"
      ]
     },
     "execution_count": 20,
     "metadata": {},
     "output_type": "execute_result"
    }
   ],
   "source": [
    "'''\n",
    "> ## Poisson regression model\n",
    "> library(gamlss)\n",
    "\n",
    "> R_PO <- gamlss(fish ~ scale_x, data = species, family = \"PO\")\n",
    "GAMLSS-RS iteration 1: Global Deviance = 1896.156 \n",
    "GAMLSS-RS iteration 2: Global Deviance = 1896.156 \n",
    "> summary(R_PO)\n",
    "******************************************************************\n",
    "Family:  c(\"PO\", \"Poisson\") \n",
    "\n",
    "Call:  gamlss(formula = fish ~ scale_x, family = \"PO\", data = species) \n",
    "\n",
    "Fitting method: RS() \n",
    "\n",
    "------------------------------------------------------------------\n",
    "Mu link function:  log\n",
    "Mu Coefficients:\n",
    "            Estimate Std. Error t value            Pr(>|t|)    \n",
    "(Intercept)  3.51930    0.02256  155.97 <0.0000000000000002 ***\n",
    "scale_x      0.68426    0.02198   31.14 <0.0000000000000002 ***\n",
    "---\n",
    "Signif. codes:  0 ‘***’ 0.001 ‘**’ 0.01 ‘*’ 0.05 ‘.’ 0.1 ‘ ’ 1\n",
    "\n",
    "------------------------------------------------------------------\n",
    "No. of observations in the fit:  70 \n",
    "Degrees of Freedom for the fit:  2\n",
    "      Residual Deg. of Freedom:  68 \n",
    "                      at cycle:  2 \n",
    " \n",
    "Global Deviance:     1896.156 \n",
    "            AIC:     1900.156 \n",
    "            SBC:     1904.653 \n",
    "******************************************************************\n",
    "'''\n",
    ";"
   ]
  },
  {
   "cell_type": "code",
   "execution_count": null,
   "metadata": {},
   "outputs": [],
   "source": []
  },
  {
   "cell_type": "code",
   "execution_count": null,
   "metadata": {},
   "outputs": [],
   "source": []
  },
  {
   "cell_type": "code",
   "execution_count": null,
   "metadata": {},
   "outputs": [],
   "source": []
  },
  {
   "cell_type": "code",
   "execution_count": 21,
   "metadata": {},
   "outputs": [
    {
     "name": "stdout",
     "output_type": "stream",
     "text": [
      "-----\n",
      "numpy       1.20.3\n",
      "pandas      1.3.1\n",
      "sinfo       0.3.1\n",
      "torch       1.9.0\n",
      "-----\n",
      "IPython             7.26.0\n",
      "jupyter_client      6.1.12\n",
      "jupyter_core        4.7.1\n",
      "jupyterlab          3.1.7\n",
      "notebook            6.4.3\n",
      "-----\n",
      "Python 3.9.6 (default, Aug 18 2021, 15:44:49) [MSC v.1916 64 bit (AMD64)]\n",
      "Windows-10-10.0.19042-SP0\n",
      "8 logical CPU cores, Intel64 Family 6 Model 126 Stepping 5, GenuineIntel\n",
      "-----\n",
      "Session information updated at 2021-08-21 01:18\n"
     ]
    }
   ],
   "source": [
    "########################\n",
    "## Print session info to console \n",
    "########################\n",
    "sinfo()"
   ]
  },
  {
   "cell_type": "code",
   "execution_count": null,
   "metadata": {},
   "outputs": [],
   "source": []
  }
 ],
 "metadata": {
  "colab": {
   "authorship_tag": "ABX9TyP+Y2qdOHz9LLr9FTwsBagp",
   "collapsed_sections": [],
   "name": "PyTorch_CountDistMLEs_SpeciesDatasetExample.ipynb",
   "provenance": [
    {
     "file_id": "1XRwZ_jQyySdAa4a4jZ7VwYuLWtRaz4f2",
     "timestamp": 1625988939591
    },
    {
     "file_id": "1Q-GUXkWcqMJjpF_OgecQBUA7ZEGBLkXw",
     "timestamp": 1625986377347
    },
    {
     "file_id": "1UVQOt_noxCtpcDVvyBz6GPuDTD3XPTCZ",
     "timestamp": 1625983790664
    }
   ]
  },
  "kernelspec": {
   "display_name": "Python 3",
   "language": "python",
   "name": "python3"
  },
  "language_info": {
   "codemirror_mode": {
    "name": "ipython",
    "version": 3
   },
   "file_extension": ".py",
   "mimetype": "text/x-python",
   "name": "python",
   "nbconvert_exporter": "python",
   "pygments_lexer": "ipython3",
   "version": "3.9.6"
  }
 },
 "nbformat": 4,
 "nbformat_minor": 1
}
